{
 "cells": [
  {
   "cell_type": "code",
   "execution_count": null,
   "id": "350ff6ce-6b2b-4bad-9691-8caede180574",
   "metadata": {},
   "outputs": [],
   "source": [
    "import xarray as xr\n",
    "import matplotlib as mpl\n",
    "import matplotlib.pyplot as plt\n",
    "import cmocean as cmo\n",
    "\n",
    "import numpy as np\n",
    "import copy\n",
    "import sys,os\n",
    "\n",
    "sys.path.append('../src')\n",
    "import utils as ut"
   ]
  },
  {
   "cell_type": "code",
   "execution_count": null,
   "id": "b7203e0d-4990-46af-bbed-4c43d506422b",
   "metadata": {},
   "outputs": [],
   "source": [
    "cols = {}\n",
    "cols['n011'] = '.5'\n",
    "cols['quar'] = ut.scol['126']\n",
    "cols['half'] = ut.scol['245']\n",
    "cols['hal2'] = ut.scol['245']\n",
    "cols['totl'] = ut.scol['585']\n",
    "cols['tot2'] = ut.scol['585']\n",
    "\n",
    "lss = {}\n",
    "lss['n011'] = ':'\n",
    "lss['quar'] = '-'\n",
    "lss['half'] = '-'\n",
    "lss['hal2'] = '-'\n",
    "lss['totl'] = '-'\n",
    "lss['tot2'] = '-'\n",
    "\n",
    "lws = {}\n",
    "lws['n011'] = .5\n",
    "lws['quar'] = .5\n",
    "lws['half'] = .5\n",
    "lws['hal2'] = 1.5\n",
    "lws['totl'] = .5\n",
    "lws['tot2'] = 1.5\n",
    "\n",
    "\n",
    "ylabs = {}\n",
    "ylabs['zos']     = 'SSH [m]'\n",
    "ylabs['sos']     = 'SSS [g/kg]'\n",
    "ylabs['tos']     = 'SST [degC]'\n",
    "ylabs['so']      = 'S_300m [g/kg]'\n",
    "ylabs['thetao']  = 'T_300m [degC]'\n",
    "ylabs['vfxice']  = 'Ice growth/melt'\n",
    "ylabs['friver']  = 'River runoff '\n",
    "ylabs['calving'] = 'Calving'\n",
    "\n",
    "plotrange = {}\n",
    "plotrange['zos']     = True\n",
    "plotrange['sos']     = True\n",
    "plotrange['tos']     = True\n",
    "plotrange['so']      = False\n",
    "plotrange['thetao']  = False\n",
    "plotrange['vfxice']  = True\n",
    "plotrange['friver']  = True\n",
    "plotrange['calving'] = True"
   ]
  },
  {
   "cell_type": "code",
   "execution_count": null,
   "id": "0fa0ae7f-2eaa-4b98-b598-e78de4af4c62",
   "metadata": {
    "jupyter": {
     "source_hidden": true
    },
    "tags": []
   },
   "outputs": [],
   "source": [
    "regions = ['Alaska','Antarctic']#,'Global']\n",
    "\n",
    "runs = ['quar','half','hal2','totl']\n",
    "nax  = [0,1,1,2]\n",
    "\n",
    "#vnames = ['zos','sos','tos','so','thetao','vfxice','friver','calving']\n",
    "#vnames = ['zos','sos','tos','vfxice','friver','calving']\n",
    "#vnames = ['zos','sos','tos','vfxice']\n",
    "vnames = ['zos','so','thetao']\n",
    "\n",
    "#Always include ctrl \n",
    "runs = np.append(['n011'],runs)\n",
    "nax = np.append([1],nax)"
   ]
  },
  {
   "cell_type": "code",
   "execution_count": null,
   "id": "92fed80f-0abe-4b2f-8069-4fe59bfe808d",
   "metadata": {
    "jupyter": {
     "source_hidden": true
    },
    "tags": []
   },
   "outputs": [],
   "source": [
    "mpl.rcParams['figure.figsize'] = (5*(max(nax)+1),3*len(vnames))\n",
    "mpl.rcParams['lines.linewidth'] = 2\n",
    "mpl.rcParams['patch.edgecolor'] = 'k'\n",
    "mpl.rcParams['patch.linewidth'] = .5\n",
    "mpl.rcParams['figure.subplot.bottom'] = .3/len(vnames)\n",
    "mpl.rcParams['figure.subplot.top'] = 1-.3/len(vnames)\n",
    "mpl.rcParams['figure.subplot.wspace'] = .1\n",
    "mpl.rcParams['figure.subplot.hspace'] = .1"
   ]
  },
  {
   "cell_type": "code",
   "execution_count": null,
   "id": "5117e158-e500-4525-93d8-1f600f1498fd",
   "metadata": {
    "jupyter": {
     "source_hidden": true
    },
    "tags": []
   },
   "outputs": [],
   "source": [
    "for region in regions:\n",
    "\n",
    "    fig,ax = plt.subplots(len(vnames),max(nax)+1,sharex=True,sharey='row')\n",
    "\n",
    "    for r,run in enumerate(runs):\n",
    "        col = cols[run]\n",
    "        for v,vname in enumerate(vnames):\n",
    "            ds = xr.open_dataset(f'../data/diag_{run}_{region}_{vname}.nc')\n",
    "            if run=='n011':\n",
    "                for rr in range(max(nax)+1):\n",
    "                    ax[v,rr].plot(ds['time'],ds['mean'],c=col)\n",
    "                    if plotrange[vname] and region != 'Global':\n",
    "                        ax[v,rr].fill_between(ds['time'],ds['min'],ds['max'],alpha=.3,color=col,zorder=0)\n",
    "            else:        \n",
    "                ax[v,nax[r]].plot(ds['time'],ds['mean'],c=col)\n",
    "                if plotrange[vname] and region != 'Global':\n",
    "                    ax[v,nax[r]].fill_between(ds['time'],ds['min'],ds['max'],alpha=.3,color=col,zorder=10)\n",
    "                ax[0,nax[r]].set_title(run)    \n",
    "            ax[v,0].set_ylabel(ylabs[vname])\n",
    "            ds.close()\n",
    "    #ax[0,0].set_xlim([0,17])\n",
    "    ax[0,0].set_xlim([0,27])\n",
    "    fig.supxlabel('Time [years]')\n",
    "    fig.suptitle(region)\n",
    "    plt.show()"
   ]
  },
  {
   "cell_type": "code",
   "execution_count": null,
   "id": "cf06b1bb-7669-49f0-9a91-1a45f066bf28",
   "metadata": {},
   "outputs": [],
   "source": [
    "regions = ['Antarctic','Alaska','Global']\n",
    "\n",
    "runs = ['half','hal2','totl','tot2']\n",
    "\n",
    "#vnames = ['zos','so','thetao','friver','calving']\n",
    "#vnames = ['zos','sos','tos','vfxice','friver','calving']\n",
    "#vnames = ['zos','sos','tos','vfxice']\n",
    "vnames = ['zos','so','thetao']#,'friver','calving']"
   ]
  },
  {
   "cell_type": "code",
   "execution_count": null,
   "id": "7bfc317f-bb01-4863-93d5-251c99632dd5",
   "metadata": {},
   "outputs": [],
   "source": [
    "mpl.rcParams['figure.figsize'] = (5*len(regions),3*len(vnames))\n",
    "mpl.rcParams['figure.subplot.bottom'] = .3/len(vnames)\n",
    "mpl.rcParams['figure.subplot.top'] = 1-.3/len(vnames)\n",
    "mpl.rcParams['figure.subplot.wspace'] = .1\n",
    "mpl.rcParams['figure.subplot.hspace'] = .1"
   ]
  },
  {
   "cell_type": "code",
   "execution_count": null,
   "id": "4995df8f-b70f-4ec7-8d6d-715d39ae77aa",
   "metadata": {},
   "outputs": [],
   "source": [
    "#Anomalies from control\n",
    "\n",
    "tmax = 30*12\n",
    "\n",
    "fig,ax = plt.subplots(len(vnames),len(regions),sharex=True,sharey='row')\n",
    "\n",
    "for reg,region in enumerate(regions):\n",
    "    \n",
    "    for v,vname in enumerate(vnames):\n",
    "        ctrl = xr.open_dataset(f'../data/diag_ctrl_{region}_{vname}.nc')\n",
    "        \n",
    "        for r,run in enumerate(runs):\n",
    "            col = cols[run]\n",
    "        \n",
    "            ds = xr.open_dataset(f'../data/diag_{run}_{region}_{vname}.nc').isel(time=slice(0,tmax))\n",
    "            time = ds['time']\n",
    "            var = ds['mean'] - ctrl['mean'][:len(time)]\n",
    "   \n",
    "            ax[v,reg].plot(time,var,c=col,ls=lss[run],lw=lws[run],label=run)   \n",
    "            ax[v,0].set_ylabel(ylabs[vname])\n",
    "            ds.close()\n",
    "        ax[v,reg].axhline(0,0,1,ls=':',c='k')\n",
    "        ctrl.close()\n",
    "    ax[0,0].legend(ncol=3)\n",
    "    ax[0,reg].set_title(region)\n",
    "fig.supxlabel('Time [years]')\n",
    "plt.show()"
   ]
  },
  {
   "cell_type": "code",
   "execution_count": null,
   "id": "ee0b6389-10ed-49aa-abf1-521a41121aae",
   "metadata": {},
   "outputs": [],
   "source": []
  }
 ],
 "metadata": {
  "kernelspec": {
   "display_name": "Python 3 (ipykernel)",
   "language": "python",
   "name": "python3"
  },
  "language_info": {
   "codemirror_mode": {
    "name": "ipython",
    "version": 3
   },
   "file_extension": ".py",
   "mimetype": "text/x-python",
   "name": "python",
   "nbconvert_exporter": "python",
   "pygments_lexer": "ipython3",
   "version": "3.8.11"
  }
 },
 "nbformat": 4,
 "nbformat_minor": 5
}
