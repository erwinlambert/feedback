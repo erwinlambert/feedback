{
 "cells": [
  {
   "attachments": {},
   "cell_type": "markdown",
   "id": "fdd590cf-e8ed-4c23-b16e-0d33727e5f9c",
   "metadata": {},
   "source": [
    "Calculate ensemble of sea level projections"
   ]
  },
  {
   "cell_type": "code",
   "execution_count": null,
   "id": "31fe2692-ed70-4a04-ab7b-ca095a7092dd",
   "metadata": {},
   "outputs": [],
   "source": [
    "import numpy as np\n",
    "import xarray as xr\n",
    "import matplotlib as mpl\n",
    "import matplotlib.pyplot as plt\n",
    "import pandas as pd\n",
    "\n",
    "import sys\n",
    "sys.path.append('../src')\n",
    "\n",
    "from alldata import AllData\n",
    "from ensemble import EnsembleMember,FullEnsemble,FullEnsemble2\n",
    "\n",
    "np.set_printoptions(precision=2)\n",
    "%matplotlib notebook\n",
    "%matplotlib inline\n",
    "%config InlineBackend.print_figure_kwargs={'bbox_inches':None}\n",
    "%load_ext autoreload\n",
    "%autoreload 2"
   ]
  },
  {
   "attachments": {},
   "cell_type": "markdown",
   "id": "22333138-56a4-48ca-973a-a400b4180028",
   "metadata": {},
   "source": [
    "Read data"
   ]
  },
  {
   "cell_type": "code",
   "execution_count": null,
   "id": "2880f6cf-d24b-4c42-b89f-b5300461c778",
   "metadata": {},
   "outputs": [],
   "source": [
    "option = 'calibrated'\n",
    "#option = 'fixed'"
   ]
  },
  {
   "cell_type": "code",
   "execution_count": null,
   "id": "8da3af88-2775-4e38-83bd-a1346a73f711",
   "metadata": {},
   "outputs": [],
   "source": [
    "ad = AllData()\n",
    "ad.year0 = 1871\n",
    "ad.usefanom = True\n",
    "ad.gather(update=False)\n",
    "#Select subsection of models for rapid calculation\n",
    "ad.ds = ad.ds.drop_sel(ism='PISM_DMI')\n",
    "#ad.ds = ad.ds.isel(ssp=slice(0,2))\n",
    "#ad.ds = ad.ds.isel(ism=slice(0,2),esm=slice(0,2))\n",
    "\n",
    "if option=='calibrated':\n",
    "    fe = FullEnsemble(ad)\n",
    "elif option=='fixed':\n",
    "    fe = FullEnsemble2(ad)\n",
    "fe.nonlin = 'cutoff'\n",
    "fe.lump = True\n",
    "fe.gather(force_update=False)"
   ]
  },
  {
   "cell_type": "code",
   "execution_count": null,
   "id": "6e6cb414-ca20-4575-b06f-7d9d8b81bedd",
   "metadata": {},
   "outputs": [],
   "source": [
    "#Rignot data from Dewi\n",
    "\n",
    "def ant_rignot19():\n",
    "    '''Use data of mass balance from table 2 of Rignot et al. 2019. \n",
    "    Fit a second order polynomial through these data that covers 1979 to 2017. \n",
    "    Extend to 1950 assuming that Antarctica did not loose mass before 1979.'''\n",
    "    ye = 2019 # Last year plus 1\n",
    "    dM_79_89 = 40    # Gt/y\n",
    "    dM_89_99 = 49.6\n",
    "    dM_99_09 = 165.8 \n",
    "    dM_09_17 = 251.9\n",
    "    #Fit a second order polynomial to the data\n",
    "    xy = np.array([1984, 1994, 2004, 2013])\n",
    "    dM = [dM_79_89, dM_89_99, dM_99_09, dM_09_17]\n",
    "    dM2f = np.polyfit(xy - xy[0], dM, 2)\n",
    "    xy2 = np.arange(1979,ye)\n",
    "    dM2 = dM2f[0] * (xy2 - xy[0])**2 + dM2f[1] * (xy2 - xy[0]) + dM2f[2]\n",
    "    slr_rig = dM2.cumsum() / 3600 # Convert from Gt to cm\n",
    "    slr_rig_df = pd.DataFrame(data = dict(time= xy2, Antarctica = slr_rig))\n",
    "    slr_rig_df = slr_rig_df.set_index('time')\n",
    "    slr_rig_df = slr_rig_df.reindex(np.arange(1950,ye)).fillna(0)\n",
    "    return slr_rig_df\n",
    "\n",
    "slr_rig_df = ant_rignot19()"
   ]
  },
  {
   "attachments": {},
   "cell_type": "markdown",
   "id": "0dc837d2-9c50-4867-b502-71ad662e9e68",
   "metadata": {},
   "source": [
    "Figure settings"
   ]
  },
  {
   "cell_type": "code",
   "execution_count": null,
   "id": "f704f21d-62c5-4f3c-a497-3ab4dd47bb8b",
   "metadata": {},
   "outputs": [],
   "source": [
    "plt.style.use('../src/style_paper')\n",
    "mpl.rc('figure.subplot',left=.1,bottom=.15,wspace=.4,top=.9)\n",
    "\n",
    "alpha = .2 #Transparency of uncertainty range\n",
    "perc = [17,83] #Percentiles of uncertainty range"
   ]
  },
  {
   "attachments": {},
   "cell_type": "markdown",
   "id": "d06d646b-c9f7-40b6-bfad-41cfcfc95009",
   "metadata": {},
   "source": [
    "Make and save figure"
   ]
  },
  {
   "cell_type": "code",
   "execution_count": null,
   "id": "3a5273d2-64ea-487e-b1a1-e7eeae572bfd",
   "metadata": {
    "tags": []
   },
   "outputs": [],
   "source": [
    "fig,ax = plt.subplots(1,2,sharex=True,figsize=(7,3.5))\n",
    "\n",
    "\n",
    "#Total sea level rise\n",
    "dax = ax[0]\n",
    "\n",
    "#Plot Rignot\n",
    "dax.plot(slr_rig_df[29:],c='tab:olive',lw=4,zorder=10,label='Observations')\n",
    "\n",
    "#Plot no feedback\n",
    "var = 100*(fe.slr[0,1,:,:,:]-fe.slr[0,1,:,:,1979-fe.year0])\n",
    "dax.plot(fe.time,np.nanmedian(var,axis=(0,1)),c='.5',lw=2,label='No feedback')\n",
    "dax.fill_between(fe.time,np.nanpercentile(var,perc[0],axis=(0,1)),np.nanpercentile(var,perc[1],axis=(0,1)),color='.5',alpha=alpha)#,label=perc)\n",
    "\n",
    "#Plot with feedback\n",
    "var = 100*(fe.slr[1,1,:,:,:]-fe.slr[1,1,:,:,1979-fe.year0])\n",
    "dax.plot(fe.time,np.nanmedian(var,axis=(0,1)),c='tab:green',lw=2,label='With feedback')\n",
    "dax.fill_between(fe.time,np.nanpercentile(var,perc[0],axis=(0,1)),np.nanpercentile(var,perc[1],axis=(0,1)),color='tab:green',alpha=alpha)#,label=perc)\n",
    "\n",
    "    \n",
    "# sea level rise rate\n",
    "dax = ax[1]\n",
    "\n",
    "#Rignot\n",
    "time = np.arange(1950,2018)\n",
    "X = np.array(slr_rig_df.Antarctica)\n",
    "XX = 10*np.diff(X)\n",
    "dax.plot(time[29:],XX[29:],c='tab:olive',lw=4,zorder=10,label='Observations')\n",
    "\n",
    "#Plot no feedback\n",
    "var = 1000*(fe.slr[0,1,:,:,1:].values-fe.slr[0,1,:,:,:-1].values)\n",
    "dax.plot(fe.time[1:],np.nanmedian(var,axis=(0,1)),c='.5',lw=2,label='No feedback')\n",
    "dax.fill_between(fe.time[1:],np.nanpercentile(var,perc[0],axis=(0,1)),np.nanpercentile(var,perc[1],axis=(0,1)),color='.5',alpha=alpha)#,label=perc)\n",
    "\n",
    "#Plot with feedback\n",
    "var = 1000*(fe.slr[1,1,:,:,1:].values-fe.slr[1,1,:,:,:-1].values)\n",
    "dax.plot(fe.time[1:],np.nanmedian(var,axis=(0,1)),c='tab:green',lw=2,label='With feedback')\n",
    "dax.fill_between(fe.time[1:],np.nanpercentile(var,perc[0],axis=(0,1)),np.nanpercentile(var,perc[1],axis=(0,1)),color='tab:green',alpha=alpha)#,label=perc)\n",
    "\n",
    "ax[0].legend(loc='upper left')\n",
    "\n",
    "ax[0].set_ylabel('Cumulative sea-level rise relative to 1979 [cm]')\n",
    "ax[1].set_ylabel('Sea level rise rate [mm/yr]')\n",
    "ax[0].set_title('a)',loc='left')\n",
    "ax[1].set_title('b)',loc='left')\n",
    "\n",
    "fig.supxlabel('Time [years]')\n",
    "\n",
    "ax[0].set_xlim([1950,2017])\n",
    "\n",
    "plt.savefig(f'../draftfigs/historical_{option}.png',dpi=450,facecolor='w',transparent=False)\n",
    "plt.show()"
   ]
  },
  {
   "cell_type": "code",
   "execution_count": null,
   "id": "0b7e79c1-f485-43df-8d24-1aaf539b62d3",
   "metadata": {},
   "outputs": [],
   "source": []
  }
 ],
 "metadata": {
  "kernelspec": {
   "display_name": "Python 3 (ipykernel)",
   "language": "python",
   "name": "python3"
  },
  "language_info": {
   "codemirror_mode": {
    "name": "ipython",
    "version": 3
   },
   "file_extension": ".py",
   "mimetype": "text/x-python",
   "name": "python",
   "nbconvert_exporter": "python",
   "pygments_lexer": "ipython3",
   "version": "3.8.11"
  }
 },
 "nbformat": 4,
 "nbformat_minor": 5
}
