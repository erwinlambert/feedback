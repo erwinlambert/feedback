{
 "cells": [
  {
   "attachments": {},
   "cell_type": "markdown",
   "id": "fdd590cf-e8ed-4c23-b16e-0d33727e5f9c",
   "metadata": {},
   "source": [
    "Calculate ensemble of sea level projections"
   ]
  },
  {
   "cell_type": "code",
   "execution_count": null,
   "id": "31fe2692-ed70-4a04-ab7b-ca095a7092dd",
   "metadata": {
    "metadata": {}
   },
   "outputs": [],
   "source": [
    "import numpy as np\n",
    "import xarray as xr\n",
    "import matplotlib as mpl\n",
    "import matplotlib.pyplot as plt\n",
    "\n",
    "import sys\n",
    "sys.path.append('../src')\n",
    "\n",
    "from alldata import AllData\n",
    "from ensemble import EnsembleMember,FullEnsemble\n",
    "\n",
    "np.set_printoptions(precision=2)\n",
    "%matplotlib notebook\n",
    "%matplotlib inline\n",
    "%config InlineBackend.print_figure_kwargs={'bbox_inches':None}\n",
    "%load_ext autoreload\n",
    "%autoreload 2"
   ]
  },
  {
   "attachments": {},
   "cell_type": "markdown",
   "id": "22333138-56a4-48ca-973a-a400b4180028",
   "metadata": {},
   "source": [
    "Read data"
   ]
  },
  {
   "cell_type": "code",
   "execution_count": null,
   "id": "fa9b953b-df10-4da8-8a20-51886523dcf3",
   "metadata": {
    "metadata": {},
    "tags": []
   },
   "outputs": [],
   "source": [
    "ad = AllData()\n",
    "ad.year0 = 1951\n",
    "ad.usefanom = True\n",
    "ad.gather(update=False)\n",
    "\n",
    "#Omit invalid ism\n",
    "ad.ds = ad.ds.drop_sel(ism='PISM_DMI')\n",
    "\n",
    "#Optionally subsection of models for rapid calculation\n",
    "#ad.ds = ad.ds.isel(ism=slice(0,2),esm=slice(0,2))\n",
    "#ad.ds = ad.ds.isel(esm=slice(0,5))\n",
    "\n",
    "\n",
    "fe = FullEnsemble(ad)\n",
    "fe.cal = 'S'\n",
    "fe.nonlin = 'cutoff'\n",
    "fe.lump = True\n",
    "fe.gather(force_update=False)"
   ]
  },
  {
   "attachments": {},
   "cell_type": "markdown",
   "id": "0dc837d2-9c50-4867-b502-71ad662e9e68",
   "metadata": {},
   "source": [
    "Figure settings"
   ]
  },
  {
   "cell_type": "code",
   "execution_count": null,
   "id": "f704f21d-62c5-4f3c-a497-3ab4dd47bb8b",
   "metadata": {
    "metadata": {}
   },
   "outputs": [],
   "source": [
    "plt.style.use('../src/style_paper')\n",
    "mpl.rc('figure.subplot',left=.15,bottom=.2)\n",
    "\n",
    "alpha = .3 #Transparency of uncertainty range\n",
    "perc = [17,83] #Percentiles of uncertainty range\n",
    "titles = ['SSP1-2.6','SSP2-4.5','SSP5-8.5']"
   ]
  },
  {
   "attachments": {},
   "cell_type": "markdown",
   "id": "d06d646b-c9f7-40b6-bfad-41cfcfc95009",
   "metadata": {},
   "source": [
    "Make and save figure"
   ]
  },
  {
   "cell_type": "code",
   "execution_count": null,
   "id": "608683aa-7328-402c-85ff-68a0b6ba45df",
   "metadata": {
    "metadata": {}
   },
   "outputs": [],
   "source": [
    "fig,ax = plt.subplots(1,3,sharex=True,sharey='row',figsize=(7,3))\n",
    "\n",
    "print(np.sum(~np.isnan(fe.gamma[0,:,:].values)),'of',fe.gamma.shape[1]*fe.gamma.shape[2],'valid gammas')    \n",
    "\n",
    "for s,ss in enumerate(ad.ssp):\n",
    "    \n",
    "    #Plot no feedback\n",
    "    ax[s].plot(fe.time,100*np.nanmedian(fe.slr[0,s,:,:,:],axis=(0,1)),c='.5',lw=2,ls='--',label='No feedback')\n",
    "    ax[s].fill_between(fe.time,100*np.nanpercentile(fe.slr[0,s,:,:,:],perc[0],axis=(0,1)),100*np.nanpercentile(fe.slr[0,s,:,:,:],perc[1],axis=(0,1)),color='.5',alpha=alpha)#,label=perc)\n",
    "\n",
    "    #Plot with feedback\n",
    "    ax[s].plot(fe.time,100*np.nanmedian(fe.slr[1,s,:,:,:],axis=(0,1)),c=ad.scol[ss],lw=2,label='Feedback')\n",
    "    ax[s].fill_between(fe.time,100*np.nanpercentile(fe.slr[1,s,:,:,:],perc[0],axis=(0,1)),100*np.nanpercentile(fe.slr[1,s,:,:,:],perc[1],axis=(0,1)),color=ad.scol[ss],alpha=alpha)\n",
    "    \n",
    "    ax[s].set_title(titles[s])\n",
    "    \n",
    "    print(ss,'md',np.nanmedian(fe.slr[1,s,:,:,:],axis=(0,1))[-1]/(np.nanmedian(fe.slr[0,s,:,:,:],axis=(0,1))[-1]))\n",
    "    #print(ss,'mn',np.nanmean(fe.slr[1,s,:,:,:],axis=(0,1))[-1]/(np.nanmean(fe.slr[0,s,:,:,:],axis=(0,1))[-1]))\n",
    "    print(ss,'83',np.nanpercentile(fe.slr[1,s,:,:,:],83,axis=(0,1))[-1]/(np.nanpercentile(fe.slr[0,s,:,:,:],83,axis=(0,1))[-1]))\n",
    "    #print(ss,'95',np.nanpercentile(fe.slr[1,s,:,:,:],95,axis=(0,1))[-1]/(np.nanpercentile(fe.slr[0,s,:,:,:],95,axis=(0,1))[-1]))\n",
    "\n",
    "    \n",
    "ax[0].legend(loc='upper left')\n",
    "ax[0].set_ylabel('Cumulative sea-level rise [cm]')\n",
    "ax[1].set_xlabel('Time [years]')\n",
    "\n",
    "plt.savefig(f'../draftfigs/full_ensemble_cal{fe.cal}_{fe.nonlin}_{fe.year0}_lump.png',dpi=450,facecolor='w',transparent=False)\n",
    "plt.show()"
   ]
  },
  {
   "cell_type": "code",
   "execution_count": null,
   "id": "e0cc3d3a-04ac-4e39-9c67-13d924ab4496",
   "metadata": {},
   "outputs": [],
   "source": []
  }
 ],
 "metadata": {
  "kernelspec": {
   "display_name": "Python 3 (ipykernel)",
   "language": "python",
   "name": "python3"
  },
  "language_info": {
   "codemirror_mode": {
    "name": "ipython",
    "version": 3
   },
   "file_extension": ".py",
   "mimetype": "text/x-python",
   "name": "python",
   "nbconvert_exporter": "python",
   "pygments_lexer": "ipython3",
   "version": "3.9.6"
  }
 },
 "nbformat": 4,
 "nbformat_minor": 5
}
