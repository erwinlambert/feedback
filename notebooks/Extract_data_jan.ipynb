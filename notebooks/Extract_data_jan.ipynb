{
 "cells": [
  {
   "cell_type": "code",
   "execution_count": null,
   "metadata": {},
   "outputs": [],
   "source": [
    "import xarray as xr\n",
    "import glob\n",
    "import numpy as np\n",
    "import matplotlib.pyplot as plt\n",
    "import datetime"
   ]
  },
  {
   "cell_type": "code",
   "execution_count": null,
   "metadata": {},
   "outputs": [],
   "source": [
    "runname = 'n011'\n",
    "files = sorted(glob.glob(f'../rawdata/ecefiles/{runname}/*grid_T.nc'))\n",
    "\n",
    "filename = files[0]\n",
    "print(filename)\n",
    "ds = xr.open_dataset(filename)\n",
    "ds = ds.isel(y=slice(0,80))\n",
    "ds"
   ]
  },
  {
   "cell_type": "code",
   "execution_count": null,
   "metadata": {},
   "outputs": [],
   "source": [
    "dds = ds.isel(y=slice(0,80))\n",
    "dds = dds.drop_vars(['olevel_bounds','time_centered_bounds','time_counter_bounds','e3t','zos','tos','sos','mldr10_1','mldr10_1max','wfcorr','hfcorr','hc300','windsp','wfob','fmmflx','qt_oce','qemp_oce','qt_ice','qemp_ice','hflx_rain_cea','hflx_evap_cea','hflx_snow_cea','hflx_cal_cea','wfo','emp_oce','emp_ice','friver','calving','vfxice','vfxsnw','vfxsub','vfxspr','rain','snow_ao_cea','snow_ai_cea','evap_ao_cea','subl_ai_cea','sosflxdo'])\n",
    "dds"
   ]
  },
  {
   "cell_type": "code",
   "execution_count": null,
   "metadata": {},
   "outputs": [],
   "source": [
    "runname = 'ctrl'\n",
    "files = sorted(glob.glob('../rawdata/ecefiles/n011/*grid_T.nc'))\n",
    "#print(files)\n",
    "for f,filename in enumerate(files[32:250]):\n",
    "\n",
    "    year = filename[-27:-23]\n",
    "    ds = xr.open_dataset(filename)\n",
    "\n",
    "    dds = ds.isel(y=slice(0,80))\n",
    "    ds.close()\n",
    "    dds = dds.drop_vars(['olevel_bounds','time_centered_bounds','time_counter_bounds','e3t','zos','tos','sos','mldr10_1','mldr10_1max','wfcorr','hfcorr','hc300','windsp','wfob','fmmflx','qt_oce','qemp_oce','qt_ice','qemp_ice','hflx_rain_cea','hflx_evap_cea','hflx_snow_cea','hflx_cal_cea','wfo','emp_oce','emp_ice','friver','calving','vfxice','vfxsnw','vfxsub','vfxspr','rain','snow_ao_cea','snow_ai_cea','evap_ao_cea','subl_ai_cea','sosflxdo'])\n",
    "\n",
    "    Nyears = int(len(dds.time_counter)/12)\n",
    "    print(year,Nyears)\n",
    "    for n in range(Nyears):\n",
    "        dds2 = dds.isel(time_counter=slice(n*12,(n+1)*12))\n",
    "        savename = f'../data_jan/{runname}_{int(year)+n}.nc'\n",
    "\n",
    "        dds2.to_netcdf(savename)\n",
    "        print(f,savename,dds2.time_counter[0].values,dds2.time_counter[-1].values,len(dds2.time_counter))\n",
    "        dds2.close()\n",
    "    dds.close()"
   ]
  },
  {
   "cell_type": "code",
   "execution_count": null,
   "metadata": {},
   "outputs": [],
   "source": []
  }
 ],
 "metadata": {
  "kernelspec": {
   "display_name": "Python 3",
   "language": "python",
   "name": "python3"
  },
  "language_info": {
   "codemirror_mode": {
    "name": "ipython",
    "version": 3
   },
   "file_extension": ".py",
   "mimetype": "text/x-python",
   "name": "python",
   "nbconvert_exporter": "python",
   "pygments_lexer": "ipython3",
   "version": "3.8.11"
  },
  "orig_nbformat": 4,
  "vscode": {
   "interpreter": {
    "hash": "e7370f93d1d0cde622a1f8e1c04877d8463912d04d973331ad4851f04de6915a"
   }
  }
 },
 "nbformat": 4,
 "nbformat_minor": 2
}
