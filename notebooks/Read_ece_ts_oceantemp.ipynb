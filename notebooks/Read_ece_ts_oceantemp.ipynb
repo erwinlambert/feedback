{
 "cells": [
  {
   "cell_type": "markdown",
   "id": "26b6cfdc-0a1b-4168-95f6-65247c7df1b3",
   "metadata": {},
   "source": [
    "This file needs requires external data!\n",
    "\n",
    "(Run on workstation)"
   ]
  },
  {
   "cell_type": "code",
   "execution_count": 8,
   "id": "071cf1c5-7d58-4e10-bce6-958b974e49cc",
   "metadata": {},
   "outputs": [],
   "source": [
    "import xarray as xr\n",
    "import glob\n",
    "import numpy as np\n",
    "\n",
    "import sys\n",
    "\n",
    "sys.path.append('../src')\n",
    "import utils as ut\n",
    "np.set_printoptions(precision=2)"
   ]
  },
  {
   "cell_type": "code",
   "execution_count": 9,
   "id": "33bcdabd-13e2-40d8-9288-6575fe18bcf8",
   "metadata": {},
   "outputs": [],
   "source": [
    "run = 'hal2'"
   ]
  },
  {
   "cell_type": "code",
   "execution_count": 10,
   "id": "ad826e9f-1c36-46cf-a9a2-ba508d273d76",
   "metadata": {},
   "outputs": [
    {
     "name": "stdout",
     "output_type": "stream",
     "text": [
      "17 years\n"
     ]
    }
   ],
   "source": [
    "fnames = sorted(glob.glob(f'../data/ecefiles/{run}/{run}*T.nc'))\n",
    "\n",
    "nyears = 0\n",
    "for fname in fnames:\n",
    "    ds = xr.open_dataset(fname)\n",
    "    nyears += int(np.floor(len(ds.time_counter)/12))\n",
    "    ds.close()\n",
    "print(nyears, 'years')"
   ]
  },
  {
   "cell_type": "code",
   "execution_count": 11,
   "id": "6142a8e8-a8e0-43a1-bfdd-10d9f632c3e4",
   "metadata": {},
   "outputs": [],
   "source": [
    "#Get time-independent variables\n",
    "ds = xr.open_dataset('../data/ecefiles/areas.nc')\n",
    "area = ds['O1t0.srf'].values;\n",
    "ds.close()\n",
    "\n",
    "ds = xr.open_dataset(fnames[0])\n",
    "lat = ds['nav_lat'].values\n",
    "lon = ds['nav_lon'].values\n",
    "levmid = ds['olevel'].values\n",
    "lev = ds['olevel_bounds'].values\n",
    "time_bnds = ds['time_centered_bounds']\n",
    "thick = ds['e3t'].values #Quasi-time-independent, treated as fixed\n",
    "ds.close()\n",
    "secs = (time_bnds[:12,1]-time_bnds[:12,0]).values / np.timedelta64(1, 's')"
   ]
  },
  {
   "cell_type": "code",
   "execution_count": 12,
   "id": "3ee34ade-0f94-44a7-b776-cabc149b7c2f",
   "metadata": {},
   "outputs": [],
   "source": [
    "#Get weighted mask for basin averages\n",
    "lons = np.repeat(lon[np.newaxis,:,:],len(levmid),axis=0)\n",
    "lats = np.repeat(lat[np.newaxis,:,:],len(levmid),axis=0)\n",
    "mask = np.repeat(np.zeros(lons.shape)[np.newaxis,:,:,:],len(ut.basin),axis=0)\n",
    "aweight = np.zeros(mask.shape)\n",
    "\n",
    "for b,bas in enumerate(ut.basin):\n",
    "    mm = np.zeros(lons.shape)\n",
    "    if bas=='East Ant.':\n",
    "        #EAIS\n",
    "        mm[((lons<173) & (lons>-10)) & (lats<-65) & (lats>-76)] = 1\n",
    "        depp = 369\n",
    "    if bas=='Ross':\n",
    "        #ROSS\n",
    "        mm[((lons>150) | (lons<-150)) & (lats<-76)] = 1\n",
    "        depp = 312        \n",
    "    if bas=='Amundsen':\n",
    "        #AMUN\n",
    "        mm[(lons>-150) & (lons<-80) & (lats<-70)] = 1\n",
    "        depp = 305\n",
    "    if bas=='Weddell':\n",
    "        #WEDD\n",
    "        mm[(lons>-65) & (lons<-10) & (lats<-72)] = 1\n",
    "        depp = 420\n",
    "    if bas=='Peninsula':\n",
    "        #APEN\n",
    "        mm[(lons>-66) & (lons<-56) & (lats>-70) & (lats<-65)] = 1\n",
    "        mm[(lons>-80) & (lons<-65) & (lats>-75) & (lats<-70)] = 1\n",
    "        depp = 420\n",
    "        \n",
    "    z0 = depp-50.\n",
    "    i0 = np.argmax(lev[:,1]>z0)\n",
    "    mm[:i0,:,:] = 0\n",
    "    w0 = (lev[i0,1]-z0)/(lev[i0,1]-lev[i0,0])\n",
    "    mm[i0,:,:] = w0*mm[i0,:,:]\n",
    "    for j in range(0,lon.shape[0]):\n",
    "        for i in range(0,lon.shape[1]):\n",
    "            if np.nansum(thick[0,i0:,j,i]) == 0:\n",
    "                continue\n",
    "            z1 = depp+50.\n",
    "            i1 = np.argmin(lev[:,1]<z1)\n",
    "            w1 = (z1-lev[i1,0])/(lev[i1,1]-lev[i1,0])\n",
    "            mm[i1,j,i] = w1*mm[i1,j,i]\n",
    "            mm[i1+1:,j,i] = 0\n",
    "    mask[b,:,:,:] = mm*np.where(np.isnan(thick[0,:,:,:]),0,thick[0,:,:,:])/100.\n",
    "    aweight[b,:,:,:] = mask[b,:,:,:]*area[np.newaxis,:,:] "
   ]
  },
  {
   "cell_type": "code",
   "execution_count": 13,
   "id": "43c7ad0b-6453-4a3e-a58f-450252d614ae",
   "metadata": {},
   "outputs": [
    {
     "name": "stdout",
     "output_type": "stream",
     "text": [
      "ref: 0 [ 0.47  0.01  1.63 -1.28 -0.73]\n",
      "--------------------------------------\n",
      "1950 0 [ 0.49  0.14  1.69 -1.31 -0.67]\n",
      "1951 1 [ 0.44  0.41  1.72 -1.38 -0.72]\n",
      "1952 2 [ 0.44  0.55  1.84 -1.42 -0.58]\n",
      "1953 3 [ 0.48  0.83  1.98 -1.46 -0.56]\n",
      "1954 4 [ 0.52  1.05  2.01 -1.48 -0.56]\n",
      "1955 5 [ 0.6   1.04  1.91 -1.55 -0.67]\n",
      "1956 6 [ 0.64  0.89  1.84 -1.52 -0.66]\n",
      "1957 7 [ 0.66  0.81  1.9  -1.43 -0.65]\n",
      "1958 8 [ 0.65  0.74  1.94 -1.35 -0.7 ]\n",
      "1959 9 [ 0.67  0.98  1.84 -1.33 -0.82]\n",
      "1960 10 [ 0.74  0.68  1.68 -1.24 -0.76]\n",
      "1961 11 [ 0.72  0.41  1.68 -1.22 -0.66]\n",
      "1962 12 [ 0.7   0.37  1.85 -1.24 -0.61]\n",
      "1963 13 [ 0.68  0.67  1.95 -1.06 -0.49]\n",
      "1964 14 [ 0.63  0.91  1.97 -1.04 -0.55]\n",
      "1965 15 [ 0.65  0.96  1.91 -1.03 -0.45]\n",
      "1966 16 [ 0.7   0.79  1.94 -1.05 -0.45]\n"
     ]
    }
   ],
   "source": [
    "#Calculate basin-average annual time series\n",
    "tbas = np.zeros((nyears,len(ut.basin)))\n",
    "ttime = np.arange(nyears)\n",
    "months = np.arange(0,12)\n",
    "\n",
    "#Reference values from n012 for first year\n",
    "print('ref: 0 [ 0.47  0.01  1.63 -1.28 -0.73]')\n",
    "print('--------------------------------------')\n",
    "\n",
    "c = 0\n",
    "for f,fname in enumerate(fnames):\n",
    "    ds = xr.open_dataset(fname)\n",
    "    time = ds['time_centered'].values\n",
    "    temp = ds['thetao'].values\n",
    "    ds.close()\n",
    "    \n",
    "    year0 = int(fname[-27:-23])\n",
    "    \n",
    "    tb = np.zeros((len(ut.basin)))\n",
    "    ny = int(len(time)/12)\n",
    "    for y in np.arange(0,ny):\n",
    "        for b,bas in enumerate(ut.basin):\n",
    "            for m,mm in enumerate(months):\n",
    "                tbb = np.nansum(temp[m+12*y,:,:,:]*aweight[b,:,:,:])/np.nansum(aweight[b,:,:,:])\n",
    "                tb[b] += tbb*secs[m]\n",
    "            tbas[c,b] = tb[b]/sum(secs)\n",
    "        print(year0+y,c,tbas[c,:])\n",
    "        tb = np.zeros((len(ut.basin)))\n",
    "        c += 1"
   ]
  },
  {
   "cell_type": "code",
   "execution_count": 14,
   "id": "6569ded2-6f9c-4afb-a2df-5f3fbaee5c6b",
   "metadata": {},
   "outputs": [],
   "source": [
    "temp2 = xr.DataArray(tbas,dims=('time','basin'),coords={'time':ttime,'basin':ut.basin},attrs={'unit':'degrees Celcius','long_name':'temperature time series per basin'})\n",
    "\n",
    "ds = xr.Dataset({'temp':temp2})\n",
    "ds.to_netcdf(f'../data/temperature_{run}.nc',mode='w')\n",
    "ds.close()"
   ]
  },
  {
   "cell_type": "code",
   "execution_count": 8,
   "id": "6453c732-2c35-48fc-84bf-176ed18b8acd",
   "metadata": {
    "jupyter": {
     "source_hidden": true
    },
    "tags": []
   },
   "outputs": [],
   "source": [
    "mask2 = xr.DataArray(mask,dims=('basin','olevel','y','x'),coords={'basin':ut.basin,'olevel':levmid},attrs={'long_name':'basin mask'})\n",
    "lat2  = xr.DataArray(lat,dims=('y','x'))\n",
    "lon2  = xr.DataArray(lon,dims=('y','x'))\n",
    "\n",
    "ds = xr.Dataset({'mask':mask2,'lat':lat2,'lon':lon2})\n",
    "ds.to_netcdf(f'../data/basinmask.nc',mode='w')\n",
    "ds.close()"
   ]
  },
  {
   "cell_type": "code",
   "execution_count": null,
   "id": "3f4aa04f-f919-4df7-acb5-36a6f06cea3a",
   "metadata": {},
   "outputs": [],
   "source": []
  }
 ],
 "metadata": {
  "kernelspec": {
   "display_name": "Python 3 (ipykernel)",
   "language": "python",
   "name": "python3"
  },
  "language_info": {
   "codemirror_mode": {
    "name": "ipython",
    "version": 3
   },
   "file_extension": ".py",
   "mimetype": "text/x-python",
   "name": "python",
   "nbconvert_exporter": "python",
   "pygments_lexer": "ipython3",
   "version": "3.8.11"
  }
 },
 "nbformat": 4,
 "nbformat_minor": 5
}
