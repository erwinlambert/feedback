{
 "cells": [
  {
   "cell_type": "markdown",
   "id": "26b6cfdc-0a1b-4168-95f6-65247c7df1b3",
   "metadata": {},
   "source": [
    "This file needs requires external data!\n",
    "\n",
    "(Run on workstation)"
   ]
  },
  {
   "cell_type": "code",
   "execution_count": 1,
   "id": "071cf1c5-7d58-4e10-bce6-958b974e49cc",
   "metadata": {},
   "outputs": [],
   "source": [
    "import xarray as xr\n",
    "import glob\n",
    "import numpy as np\n",
    "\n",
    "import sys\n",
    "\n",
    "sys.path.append('../src')\n",
    "import utils as ut\n",
    "from utils2 import save_basinvolumes\n",
    "np.set_printoptions(precision=2)"
   ]
  },
  {
   "cell_type": "code",
   "execution_count": 2,
   "id": "67b42e8d-9f9e-4806-a2c9-c335ca093529",
   "metadata": {},
   "outputs": [],
   "source": [
    "#Get basin volume\n",
    "try:\n",
    "    ds = xr.open_dataset('../data/basinvolumes.nc')\n",
    "except:\n",
    "    save_basinvolumes()\n",
    "    ds = xr.open_dataset('../data/basinvolumes.nc')\n",
    "volume = ds['volume']\n",
    "ds.close()"
   ]
  },
  {
   "cell_type": "code",
   "execution_count": 3,
   "id": "26569e4c-3ead-4302-a760-4f1d20e79e29",
   "metadata": {},
   "outputs": [],
   "source": [
    "def get_fnames(run):\n",
    "    if run == 'ctrl':\n",
    "        fnames = sorted(glob.glob(f'../data/ecefiles/n011/n011*T.nc'))[38:-5]\n",
    "    elif run == 'spin':\n",
    "        fnames = sorted(glob.glob(f'../data/ecefiles/n011/n011*T.nc'))[:38]\n",
    "    else:\n",
    "        fnames = sorted(glob.glob(f'../data/ecefiles/{run}/{run}*T.nc'))\n",
    "    return fnames"
   ]
  },
  {
   "cell_type": "code",
   "execution_count": 4,
   "id": "8d46d7fb-6f88-4cae-adcb-668127be6b51",
   "metadata": {
    "tags": []
   },
   "outputs": [],
   "source": [
    "#Monthly time series\n",
    "\n",
    "def save_monthly(run):\n",
    "    fnames = get_fnames(run)\n",
    "\n",
    "    nmonths = 0\n",
    "    for fname in fnames:\n",
    "        ds = xr.open_dataset(fname)\n",
    "        nmonths += len(ds.time_counter)\n",
    "        ds.close()\n",
    "    print(run,':',nmonths, 'months = ',int(np.floor(nmonths/12)),'y',int(nmonths-12*np.floor(nmonths/12)),'m')\n",
    "\n",
    "    #Calculate basin-average annual time series\n",
    "    tbas = np.zeros((nmonths,len(volume.basin)))\n",
    "    ttime = np.arange(nmonths)\n",
    "\n",
    "    c = 0\n",
    "    for f,fname in enumerate(fnames):\n",
    "        ds = xr.open_dataset(fname)\n",
    "        time = ds['time_centered'].values\n",
    "        temp = ds['thetao'].values\n",
    "        ds.close()\n",
    "\n",
    "        for m in range(len(time)):\n",
    "            for b,bas in enumerate(volume.basin):\n",
    "                tbas[c,b] = np.nansum(temp[m,:,:,:]*volume.sel(basin=bas))/np.nansum(volume.sel(basin=bas))\n",
    "            print(f'{c:3.0f}',tbas[c,:],end='                                                \\r')\n",
    "            c += 1\n",
    "\n",
    "    #Save data\n",
    "    temp2 = xr.DataArray(tbas,dims=('time','basin'),coords={'time':ttime,'basin':volume.basin},attrs={'unit':'degrees Celcius','long_name':'temperature time series per basin'})\n",
    "    ds = xr.Dataset({'temp':temp2})\n",
    "    savename = f'../data/temperature_mon_{run}.nc'\n",
    "    ds.to_netcdf(savename,mode='w')\n",
    "    ds.close()\n",
    "    print('Saved',savename,end='                     \\n')"
   ]
  },
  {
   "cell_type": "code",
   "execution_count": 5,
   "id": "a5c949d9-8c9a-40ef-8190-8eeeaa92d9e5",
   "metadata": {
    "tags": []
   },
   "outputs": [],
   "source": [
    "#Annual time series\n",
    "\n",
    "def save_annual(run):\n",
    "    fnames = get_fnames(run)\n",
    "\n",
    "    nyears = 0\n",
    "    for fname in fnames:\n",
    "        ds = xr.open_dataset(fname)\n",
    "        nyears += int(np.floor(len(ds.time_counter)/12))\n",
    "        ds.close()\n",
    "    print(run,':',nyears, 'years')\n",
    "\n",
    "    #Get seconds per month\n",
    "    ds = xr.open_dataset('../data/ecefiles/n011/n011_1m_18500101_18501231_grid_T.nc')\n",
    "    time_bnds = ds['time_centered_bounds']\n",
    "    ds.close()\n",
    "    secs = (time_bnds[:12,1]-time_bnds[:12,0]).values / np.timedelta64(1, 's')\n",
    "    \n",
    "    #Calculate basin-average annual time series\n",
    "    tbas = np.zeros((nyears,len(ut.basin)))\n",
    "    ttime = np.arange(nyears)\n",
    "    months = np.arange(0,12)\n",
    "\n",
    "    c = 0\n",
    "    for f,fname in enumerate(fnames):\n",
    "        ds = xr.open_dataset(fname)\n",
    "        time = ds['time_centered'].values\n",
    "        temp = ds['thetao'].values\n",
    "        ds.close()\n",
    "\n",
    "        year0 = int(fname[-27:-23])\n",
    "\n",
    "        tb = np.zeros((len(ut.basin)))\n",
    "        ny = int(len(time)/12)\n",
    "        for y in np.arange(0,ny):\n",
    "            for b,bas in enumerate(ut.basin):\n",
    "                for m,mm in enumerate(months):\n",
    "                    tbb = np.nansum(temp[m+12*y,:,:,:]*volume.sel(basin=bas))/np.nansum(volume.sel(basin=bas))\n",
    "                    tb[b] += tbb*secs[m]\n",
    "                tbas[c,b] = tb[b]/sum(secs)\n",
    "            print(year0+y,f'{c:3.0f}',tbas[c,:],end='                                \\r')\n",
    "            tb = np.zeros((len(ut.basin)))\n",
    "            c += 1\n",
    "\n",
    "    temp2 = xr.DataArray(tbas,dims=('time','basin'),coords={'time':ttime,'basin':ut.basin},attrs={'unit':'degrees Celcius','long_name':'temperature time series per basin'})\n",
    "    ds = xr.Dataset({'temp':temp2})\n",
    "    savename = f'../data/temperature_ann_{run}.nc'\n",
    "    ds.to_netcdf(savename,mode='w')\n",
    "    ds.close()\n",
    "    print('\\n','Saved',savename) "
   ]
  },
  {
   "cell_type": "code",
   "execution_count": 7,
   "id": "13817148-7825-43cd-9c78-fdf78b345960",
   "metadata": {},
   "outputs": [
    {
     "name": "stdout",
     "output_type": "stream",
     "text": [
      "tot2 : 716 months =  59 y 8 m\n",
      "Saved ../data/temperature_mon_tot2.nc                                                                                      \n"
     ]
    }
   ],
   "source": [
    "runs = ['tot2']\n",
    "#runs = ['ctrl','hal2','half','tot2','totl','spin','quar']\n",
    "\n",
    "for run in runs:\n",
    "    #save_annual(run)\n",
    "    save_monthly(run)"
   ]
  },
  {
   "cell_type": "code",
   "execution_count": null,
   "id": "73e646f8-0376-485a-9aae-09d0d7306304",
   "metadata": {},
   "outputs": [],
   "source": []
  }
 ],
 "metadata": {
  "kernelspec": {
   "display_name": "Python 3 (ipykernel)",
   "language": "python",
   "name": "python3"
  },
  "language_info": {
   "codemirror_mode": {
    "name": "ipython",
    "version": 3
   },
   "file_extension": ".py",
   "mimetype": "text/x-python",
   "name": "python",
   "nbconvert_exporter": "python",
   "pygments_lexer": "ipython3",
   "version": "3.8.11"
  }
 },
 "nbformat": 4,
 "nbformat_minor": 5
}
