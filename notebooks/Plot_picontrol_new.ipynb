{
 "cells": [
  {
   "cell_type": "code",
   "execution_count": null,
   "id": "absent-house",
   "metadata": {},
   "outputs": [],
   "source": [
    "import xarray as xr\n",
    "import pyproj\n",
    "import matplotlib as mpl\n",
    "import matplotlib.pyplot as plt\n",
    "import matplotlib.ticker as mticker\n",
    "import cmocean as cmo\n",
    "from mpl_toolkits.axes_grid1 import make_axes_locatable\n",
    "import cartopy.crs as ccrs\n",
    "from cartopy.mpl.gridliner import LONGITUDE_FORMATTER, LATITUDE_FORMATTER\n",
    "\n",
    "import numpy as np\n",
    "import copy"
   ]
  },
  {
   "cell_type": "code",
   "execution_count": null,
   "id": "4a063f9f-916b-4722-a450-f20f0126b7f8",
   "metadata": {
    "tags": []
   },
   "outputs": [],
   "source": [
    "run = 'fx03'\n",
    "years = [1850]\n",
    "#years = np.arange(1850,1860)\n",
    "\n",
    "rho=1000\n",
    "months = np.arange(1,13)"
   ]
  },
  {
   "cell_type": "code",
   "execution_count": null,
   "id": "2b6d9bd9-b58c-49d6-8653-a15c9aba85fd",
   "metadata": {
    "tags": []
   },
   "outputs": [],
   "source": [
    "#Prepare diagnostic variables\n",
    "RO_A  = np.zeros((len(years),len(months)))\n",
    "RO_O  = np.zeros((len(years),len(months)))\n",
    "\n",
    "#Read generic NEMO data\n",
    "ds = xr.open_dataset('../data/ecefiles/areas.nc')\n",
    "area = ds['O1t0.srf'].values;\n",
    "ds.close()\n",
    "ds = xr.open_dataset(f'../data/ecefiles/{run}/{run}_1m_{years[0]}0101_{years[0]}1231_grid_T.nc')\n",
    "lat = ds['nav_lat'].values\n",
    "lon = ds['nav_lon'].values\n",
    "time_bnds = ds['time_centered_bounds']\n",
    "mask = np.where(lat<-58,1,0)\n",
    "ds.close()\n",
    "\n",
    "secs = 0.*months\n",
    "for m,mm in enumerate(months):\n",
    "    secs[m] = (time_bnds[m,1]-time_bnds[m,0]).values / np.timedelta64(1, 's')   \n",
    "\n",
    "#Extract diagnostics\n",
    "for y,yy in enumerate(years):\n",
    "    ds = xr.open_dataset(f'../data/ecefiles/{run}/{run}_1m_{yy}0101_{yy}1231_grid_T.nc')\n",
    "    rnf  = ds['friver'].values\n",
    "    ds.close()\n",
    "    for m,mm in enumerate(months):\n",
    "        RO_O[y,m]  = np.nansum(rnf[m,:,:]*area*mask)*secs[m]*1e-12\n",
    "    print(f'{yy}: RO_O: {np.sum(RO_O[y,:]):.0f} Gt/yr')\n",
    "\n",
    "proj = ccrs.SouthPolarStereo()\n",
    "cmap = copy.copy(mpl.cm.get_cmap(\"cmo.thermal\"));\n",
    "cmap.set_under('w')\n",
    "cmap.set_bad('w')\n",
    "\n",
    "RNF = np.nansum(rnf*area*mask*secs[:,np.newaxis,np.newaxis],axis=0)*1e-12\n",
    "\n",
    "fig = plt.figure(figsize=(15,15))\n",
    "ax = fig.add_subplot(111,projection=proj)\n",
    "ax.set_extent([-280, 80, -80, -55], crs=ccrs.PlateCarree())\n",
    "im = ax.scatter(lon,lat,5,c=RNF,cmap=cmap,transform=ccrs.PlateCarree(),lw=0,vmin=1e-10)\n",
    "ax.coastlines(lw=.1)\n",
    "\n",
    "gl = ax.gridlines(crs=ccrs.PlateCarree(),draw_labels=True)\n",
    "gl.xlocator = mticker.FixedLocator(np.arange(-180,210,10))\n",
    "gl.xformatter = LONGITUDE_FORMATTER\n",
    "\n",
    "plt.colorbar(im);"
   ]
  },
  {
   "cell_type": "code",
   "execution_count": null,
   "id": "14dec58c-59fd-4e7d-a6d9-30ea4a099d53",
   "metadata": {},
   "outputs": [],
   "source": [
    "RNF4 = RNF.copy()\n",
    "\n",
    "#Amun\n",
    "RNF0 = np.where(np.logical_and(lon>-140,lon<-82),RNF,0)\n",
    "RNF4 = np.where(RNF0>0,0,RNF4)\n",
    "print('AMUN:',np.nansum(RNF0))\n",
    "\n",
    "RNF1 = np.where(np.logical_or(lon>160,lon<200-360),RNF,0)\n",
    "RNF4 = np.where(RNF1>0,0,RNF4)\n",
    "print('ROSS:',np.nansum(RNF1))\n",
    "\n",
    "RNF2 = np.where(np.logical_and(lon>60,lon<160),RNF,0)\n",
    "RNF4 = np.where(RNF2>0,0,RNF4)\n",
    "print('EAIS:',np.nansum(RNF2))\n",
    "\n",
    "RNF3 = np.where(np.logical_and(np.logical_and(lon>-65,lon<-20),lat<-73),RNF,0)\n",
    "RNF4 = np.where(RNF3>0,0,RNF4)\n",
    "print('WEDD:',np.nansum(RNF3))\n",
    "\n",
    "print('PENS:',np.nansum(RNF4))\n",
    "\n",
    "print('TOT:',np.nansum(RNF0+RNF1+RNF2+RNF3+RNF4))"
   ]
  },
  {
   "cell_type": "code",
   "execution_count": null,
   "id": "f11dc7a4-f755-4048-8394-196d766ebb8d",
   "metadata": {},
   "outputs": [],
   "source": [
    "fig = plt.figure(figsize=(15,15))\n",
    "ax = fig.add_subplot(111,projection=proj)\n",
    "ax.set_extent([-280, 80, -90, -63], crs=ccrs.PlateCarree())\n",
    "im = ax.scatter(lon,lat,5,c=RNF0+RNF1+RNF2+RNF3+RNF4,cmap=cmap,transform=ccrs.PlateCarree(),lw=0,vmin=1e-10)\n",
    "ax.coastlines(lw=.1)\n",
    "\n",
    "gl = ax.gridlines(crs=ccrs.PlateCarree(),draw_labels=True)\n",
    "gl.xlocator = mticker.FixedLocator(np.arange(-180,210,10))\n",
    "gl.xformatter = LONGITUDE_FORMATTER\n",
    "\n",
    "plt.colorbar(im);"
   ]
  },
  {
   "cell_type": "code",
   "execution_count": null,
   "id": "32a3ca97-f2f0-44fb-a512-bb6022ef32e0",
   "metadata": {
    "jupyter": {
     "source_hidden": true
    },
    "tags": []
   },
   "outputs": [],
   "source": [
    "#Read generic IFS data\n",
    "ds = xr.open_dataset('../data/ecefiles/areas.nc')\n",
    "area = ds['A128.srf'].values\n",
    "ds.close()\n",
    "ds = xr.load_dataset(f\"../data/ecefiles/{run}/ICMGG{run}+{years[0]}01\",engine='cfgrib')\n",
    "lon = ds['longitude'].values\n",
    "lat = ds['latitude'].values\n",
    "ds.close()\n",
    "mask = np.where(lat<-60,1,0)\n",
    "\n",
    "#Extract diagnostics\n",
    "for y,yy in enumerate(years):\n",
    "    for m,mm in enumerate(months):\n",
    "        fname = f\"../data/ecefiles/{run}/ICMGG{run}+{yy}{mm:02d}\"\n",
    "        ds = xr.load_dataset(fname,engine='cfgrib')\n",
    "        time = ds['time'].values\n",
    "        ro = ds['ro'].values\n",
    "        ds.close()\n",
    "        \n",
    "        RO_A[y,m] = np.nansum(ro*mask[np.newaxis,:]*area[np.newaxis,:])*rho*1e-12\n",
    "\n",
    "        #print(f'Got {yy} {mm}')\n",
    "    print(f'{yy}: RO_A: {np.sum(RO_A[y,:]):.0f} Gt/yr')"
   ]
  },
  {
   "cell_type": "code",
   "execution_count": null,
   "id": "cae09827-49c7-4b3d-a6d9-78e42ef0f1f5",
   "metadata": {},
   "outputs": [],
   "source": []
  }
 ],
 "metadata": {
  "kernelspec": {
   "display_name": "Python 3",
   "language": "python",
   "name": "python3"
  },
  "language_info": {
   "codemirror_mode": {
    "name": "ipython",
    "version": 3
   },
   "file_extension": ".py",
   "mimetype": "text/x-python",
   "name": "python",
   "nbconvert_exporter": "python",
   "pygments_lexer": "ipython3",
   "version": "3.8.10"
  }
 },
 "nbformat": 4,
 "nbformat_minor": 5
}
