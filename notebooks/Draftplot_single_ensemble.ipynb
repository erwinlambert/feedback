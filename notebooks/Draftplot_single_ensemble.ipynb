{
 "cells": [
  {
   "cell_type": "markdown",
   "id": "d4a9f64c-1bdb-40ba-ab96-26347a191b0c",
   "metadata": {},
   "source": [
    "Plot time series of temperature, mass loss, and sea level rise for a single ensemble member\n",
    "\n",
    "SSP: 245\n",
    "ESM: EC-Earth 3\n",
    "ISM: CISM_NCA\n",
    "\n",
    "Plot iterations, highlighting first and last\n",
    "\n",
    "Plot T, ML, SLR for each basin and Antarctic-wide (6x3 plots)"
   ]
  },
  {
   "cell_type": "code",
   "execution_count": null,
   "id": "dcf5fded-a7c6-4b40-a258-fb77006796be",
   "metadata": {},
   "outputs": [],
   "source": []
  }
 ],
 "metadata": {
  "kernelspec": {
   "display_name": "Python 3 (ipykernel)",
   "language": "python",
   "name": "python3"
  },
  "language_info": {
   "codemirror_mode": {
    "name": "ipython",
    "version": 3
   },
   "file_extension": ".py",
   "mimetype": "text/x-python",
   "name": "python",
   "nbconvert_exporter": "python",
   "pygments_lexer": "ipython3",
   "version": "3.9.6"
  }
 },
 "nbformat": 4,
 "nbformat_minor": 5
}
