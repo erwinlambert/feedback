{
 "cells": [
  {
   "cell_type": "markdown",
   "id": "26b6cfdc-0a1b-4168-95f6-65247c7df1b3",
   "metadata": {},
   "source": [
    "This file needs requires external data!\n",
    "\n",
    "(Run on workstation)"
   ]
  },
  {
   "cell_type": "code",
   "execution_count": null,
   "id": "071cf1c5-7d58-4e10-bce6-958b974e49cc",
   "metadata": {},
   "outputs": [],
   "source": [
    "import numpy as np\n",
    "import xarray as xr\n",
    "import matplotlib as mpl\n",
    "import matplotlib.pyplot as plt\n",
    "import scipy.interpolate as si\n",
    "\n",
    "import sys\n",
    "sys.path.append('../src')\n",
    "\n",
    "from alldata import AllData\n",
    "from ensemble import EnsembleMember\n",
    "\n",
    "\n",
    "np.set_printoptions(precision=2)\n",
    "%matplotlib notebook\n",
    "%matplotlib inline\n",
    "%config InlineBackend.print_figure_kwargs={'bbox_inches':None}\n",
    "%load_ext autoreload\n",
    "%autoreload 2"
   ]
  },
  {
   "cell_type": "markdown",
   "id": "67e960b5-185e-4cb0-af82-5932b993d445",
   "metadata": {},
   "source": [
    "Input parameters"
   ]
  },
  {
   "cell_type": "code",
   "execution_count": null,
   "id": "bf9dda5f-29d2-4c55-bb9a-349f485fbd43",
   "metadata": {},
   "outputs": [],
   "source": [
    "#Interesting ensemble members:\n",
    "#EC-Earth3-Veg PISM_DMI"
   ]
  },
  {
   "cell_type": "code",
   "execution_count": null,
   "id": "b590cfa7-1d34-440e-8578-74b61ffbce94",
   "metadata": {},
   "outputs": [],
   "source": [
    "#Choose starting year\n",
    "#year0 = 1951\n",
    "year0 = 1871\n",
    "\n",
    "#Choose ensemble member\n",
    "#ism = 'ISSM_UCI'\n",
    "#ism = 'GRIS_LSC'\n",
    "#ism = 'IMAU_UU'\n",
    "#ism = 'PISM_PIK'\n",
    "#ism = 'PISM_DMI'\n",
    "#ism = 'FETI_ULB'\n",
    "ism = 'CISM_NCA'\n",
    "#ism = 'MALI_DOE'\n",
    "#ism = 'SICO_ILTS'\n",
    "#esm = 'NorESM2-MM'\n",
    "esm = 'EC-Earth3'\n",
    "#esm = 'EC-Earth3-Veg'\n",
    "#esm = 'ACCESS-CM2'\n",
    "#esm = 'CanESM5'\n",
    "#esm = 'CAS-ESM2-0'\n",
    "#esm = 'CAMS-CSM1-0'\n",
    "#esm = 'INM-CM4-8'\n",
    "#esm = 'INM-CM5-0'\n",
    "#esm = 'CMCC-ESM2'\n",
    "#esm = 'MIROC6'\n",
    "#esm = 'MRI-ESM2-0'\n",
    "#esm = 'MPI-ESM1-2-LR'\n",
    "#esm = 'GFDL-ESM4'\n",
    "ssp = '585'"
   ]
  },
  {
   "cell_type": "markdown",
   "id": "959c0475-e7e2-40a8-ac42-947d02a8b291",
   "metadata": {},
   "source": [
    "Computation"
   ]
  },
  {
   "cell_type": "code",
   "execution_count": null,
   "id": "1bbc0e3c-b540-41d1-af26-7a5f6febec77",
   "metadata": {},
   "outputs": [],
   "source": [
    "#Read data\n",
    "ad = AllData()\n",
    "ad.fitctrl=True\n",
    "ad.gather(update=False)\n",
    "\n",
    "#print(ad.ism)\n",
    "\n",
    "#Compute iteration of ensemble member\n",
    "ens = EnsembleMember(ad,ism=ism,esm=esm,ssp=ssp,year0=year0)\n",
    "#ens.niter=1\n",
    "#ens.verbose=True\n",
    "ens.usefanom = True\n",
    "ens.compute()\n",
    "\n",
    "print(ens.gamma)"
   ]
  },
  {
   "cell_type": "markdown",
   "id": "d5d8d78c-b407-4df5-a6c9-f47f00142aee",
   "metadata": {},
   "source": [
    "Figure settings"
   ]
  },
  {
   "cell_type": "code",
   "execution_count": null,
   "id": "ad069e09-9787-4b25-be47-88d81fd48b84",
   "metadata": {},
   "outputs": [],
   "source": [
    "plt.style.use('../src/style_paper')\n",
    "\n",
    "mpl.rc('figure.subplot',left=.15)\n",
    "\n",
    "savename = f'../draftfigs/single_ensemble.png'"
   ]
  },
  {
   "cell_type": "markdown",
   "id": "636520e5-9932-4c57-8671-18043b518a81",
   "metadata": {},
   "source": [
    "Create and save figure"
   ]
  },
  {
   "cell_type": "code",
   "execution_count": null,
   "id": "fd66d76c-b2af-4895-bc57-74dd68fa5d99",
   "metadata": {},
   "outputs": [],
   "source": [
    "\n",
    "#Choose variables to plot\n",
    "#varbs = [ens.TMP,ens.MLT,ens.IML,100*ens.SLR]\n",
    "varbs = [ens.TMP,ens.IML,100*ens.SLR]\n",
    "\n",
    "fig,ax = plt.subplots(len(varbs),5,sharex=True,sharey='row',figsize=(7,5))\n",
    "\n",
    "\n",
    "for b,bas in enumerate(ens.basin.values):\n",
    "    for v,var in enumerate(varbs):\n",
    "        dax = ax[v,b]\n",
    "        #Add reference lines\n",
    "        if v==0:\n",
    "            dax.axhline(ens.tref[b],0,1,c='.5',lw=.5)\n",
    "        dax.axhline(0,0,1,c='k',lw=.5)\n",
    "\n",
    "        #No feedback in grey\n",
    "        dax.plot(ens.time,var[0,:,b],c='.5',lw=1,label='No feedback')\n",
    "        \n",
    "        #if v == 1:\n",
    "        #    dax.text(.1,.8,f'{var[0,-1,b]:.1f}',transform=dax.transAxes)\n",
    "\n",
    "        dax.plot(ens.time,var[1,:,b],c=ad.bcol[bas],lw=1,ls='--',label='Feedback b.r.')\n",
    "        dax.plot(ens.time,var[2,:,b],c=ad.bcol[bas],lw=1,label='Feedback a.r.')\n",
    "        #if v>1:\n",
    "        #    dax.text(.1,.8,f\"{100*((var[ens.nconv,-1,b]-var[ens.nconv,0,b])-(var[0,-1,b]-var[0,0,b]))/np.abs(var[0,-1,b]-var[0,0,b]):+.0f}%\",transform=dax.transAxes,weight='bold',c=ad.bcol[bas])\n",
    "        \n",
    "    ax[0,b].set_title(bas)\n",
    "\n",
    "ax[-1,2].set_xlabel('Time [years]')\n",
    "ax[0,0].set_ylabel(r'Temperature [$\\degree$C]')\n",
    "#ax[1,0].set_ylabel('Basal melt \\n anomaly \\n [m/yr]')\n",
    "ax[-2,0].set_ylabel('Anomalous \\n ice mass loss \\n [Gt/yr]')\n",
    "ax[-1,0].set_ylabel('Cumulative \\n sea level rise \\n [cm]')\n",
    "#ax[2,2].set_ylim([0,1])\n",
    "ax[-1,-1].legend(fontsize=6.5)\n",
    "\n",
    "#ax[0,0].set_ylim([-1,1])\n",
    "#ax[1,1].set_ylim([-10000,10000])\n",
    "#ax[2,2].set_ylim([-1,2])\n",
    "\n",
    "plt.savefig(savename)\n",
    "plt.show()"
   ]
  },
  {
   "cell_type": "code",
   "execution_count": null,
   "id": "25cd1f3a-6e18-4dc5-b294-4c65682e27e4",
   "metadata": {},
   "outputs": [],
   "source": []
  }
 ],
 "metadata": {
  "kernelspec": {
   "display_name": "Python 3 (ipykernel)",
   "language": "python",
   "name": "python3"
  },
  "language_info": {
   "codemirror_mode": {
    "name": "ipython",
    "version": 3
   },
   "file_extension": ".py",
   "mimetype": "text/x-python",
   "name": "python",
   "nbconvert_exporter": "python",
   "pygments_lexer": "ipython3",
   "version": "3.8.11"
  }
 },
 "nbformat": 4,
 "nbformat_minor": 5
}
