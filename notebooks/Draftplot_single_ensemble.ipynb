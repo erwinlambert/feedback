{
 "cells": [
  {
   "cell_type": "markdown",
   "id": "26b6cfdc-0a1b-4168-95f6-65247c7df1b3",
   "metadata": {},
   "source": [
    "This file needs requires external data!\n",
    "\n",
    "(Run on workstation)"
   ]
  },
  {
   "cell_type": "code",
   "execution_count": null,
   "id": "071cf1c5-7d58-4e10-bce6-958b974e49cc",
   "metadata": {},
   "outputs": [],
   "source": [
    "import numpy as np\n",
    "import xarray as xr\n",
    "import matplotlib as mpl\n",
    "import matplotlib.pyplot as plt\n",
    "\n",
    "import sys\n",
    "sys.path.append('../src')\n",
    "\n",
    "from alldata import AllData\n",
    "from ensemble import EnsembleMember\n",
    "\n",
    "\n",
    "np.set_printoptions(precision=2)\n",
    "%matplotlib notebook\n",
    "%matplotlib inline\n",
    "%config InlineBackend.print_figure_kwargs={'bbox_inches':None}\n",
    "%load_ext autoreload\n",
    "%autoreload 2"
   ]
  },
  {
   "cell_type": "markdown",
   "id": "67e960b5-185e-4cb0-af82-5932b993d445",
   "metadata": {},
   "source": [
    "Input parameters"
   ]
  },
  {
   "cell_type": "code",
   "execution_count": null,
   "id": "b590cfa7-1d34-440e-8578-74b61ffbce94",
   "metadata": {},
   "outputs": [],
   "source": [
    "#Choose starting year\n",
    "year0 = 1951\n",
    "#year0 = 1871\n",
    "\n",
    "#Choose ensemble member\n",
    "ism = 'CISM_NCA'\n",
    "esm = 'EC-Earth3'\n",
    "ssp = '245'\n",
    "\n",
    "#Choose basal melt parameterisation\n",
    "bmp = 'lin'"
   ]
  },
  {
   "cell_type": "markdown",
   "id": "959c0475-e7e2-40a8-ac42-947d02a8b291",
   "metadata": {},
   "source": [
    "Computation"
   ]
  },
  {
   "cell_type": "code",
   "execution_count": null,
   "id": "1bbc0e3c-b540-41d1-af26-7a5f6febec77",
   "metadata": {},
   "outputs": [],
   "source": [
    "#Read data\n",
    "ad = AllData()\n",
    "ad.year0 = year0\n",
    "ad.gather()\n",
    "\n",
    "#Compute iteration of ensemble member\n",
    "ens = EnsembleMember(ad,ism=ism,esm=esm,ssp=ssp)\n",
    "ens.iterate()"
   ]
  },
  {
   "cell_type": "markdown",
   "id": "d5d8d78c-b407-4df5-a6c9-f47f00142aee",
   "metadata": {},
   "source": [
    "Figure settings"
   ]
  },
  {
   "cell_type": "code",
   "execution_count": null,
   "id": "ad069e09-9787-4b25-be47-88d81fd48b84",
   "metadata": {},
   "outputs": [],
   "source": [
    "plt.style.use('../src/style_paper')\n",
    "\n",
    "mpl.rc('figure.subplot',left=.15)\n",
    "\n",
    "savename = f'../draftfigs/single_ensemble_{ad.year0}{ad.option}.png'"
   ]
  },
  {
   "cell_type": "markdown",
   "id": "636520e5-9932-4c57-8671-18043b518a81",
   "metadata": {},
   "source": [
    "Create and save figure"
   ]
  },
  {
   "cell_type": "code",
   "execution_count": null,
   "id": "1eff8ef6-ad2d-4456-b805-8c56bffc1b25",
   "metadata": {},
   "outputs": [],
   "source": [
    "fig,ax = plt.subplots(3,5,sharex=True,sharey='row')\n",
    "\n",
    "#Choose variables to plot\n",
    "varbs = [ens.TMP,.001*np.cumsum(ens.IML,axis=1),100*ens.SLR]\n",
    "\n",
    "for b,bas in enumerate(ens.basin.values):\n",
    "    for v,var in enumerate(varbs):\n",
    "        dax = ax[v,b]\n",
    "        dax.plot(ad.time,var[0,:,b],c='.5')\n",
    "        for n in range(1,ens.TMP.shape[0]):\n",
    "            dax.plot(ad.time,var[n,:,b],c=ad.bcol[bas])\n",
    "        dax.text(.1,.8,f\"{100*((var[-1,-1,b]-var[-1,0,b])-(var[0,-1,b]-var[0,0,b]))/np.abs(var[0,-1,b]-var[0,0,b]):+.0f}%\",transform=dax.transAxes,weight='bold',c=ad.bcol[bas])\n",
    "        \n",
    "    ax[0,b].set_title(bas)\n",
    "ax[-1,2].set_xlabel('Time [years]')\n",
    "ax[0,0].set_ylabel('Temperature [degC]')\n",
    "ax[1,0].set_ylabel('Cumulative ice mass loss \\n [1000 Gt]')\n",
    "ax[2,0].set_ylabel('Sea level rise [cm]')\n",
    "\n",
    "plt.savefig(savename)\n",
    "plt.show()"
   ]
  },
  {
   "cell_type": "code",
   "execution_count": null,
   "id": "f3c5c953-b5eb-4395-97cf-287913b48d56",
   "metadata": {},
   "outputs": [],
   "source": []
  }
 ],
 "metadata": {
  "kernelspec": {
   "display_name": "Python 3 (ipykernel)",
   "language": "python",
   "name": "python3"
  },
  "language_info": {
   "codemirror_mode": {
    "name": "ipython",
    "version": 3
   },
   "file_extension": ".py",
   "mimetype": "text/x-python",
   "name": "python",
   "nbconvert_exporter": "python",
   "pygments_lexer": "ipython3",
   "version": "3.8.11"
  }
 },
 "nbformat": 4,
 "nbformat_minor": 5
}
