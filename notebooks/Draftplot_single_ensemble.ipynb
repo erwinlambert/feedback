{
 "cells": [
  {
   "cell_type": "markdown",
   "id": "d4a9f64c-1bdb-40ba-ab96-26347a191b0c",
   "metadata": {},
   "source": [
    "Plot time series of temperature, mass loss, and sea level rise for a single ensemble member\n",
    "\n",
    "SSP: 245\n",
    "ESM: EC-Earth 3\n",
    "ISM: CISM_NCA\n",
    "\n",
    "Plot iterations, highlighting first and last\n",
    "\n",
    "Plot T, ML, SLR for each basin and Antarctic-wide (6x3 plots)"
   ]
  },
  {
   "cell_type": "code",
   "execution_count": null,
   "id": "9253e199-1084-4a78-ae36-f7caa08b57c8",
   "metadata": {},
   "outputs": [],
   "source": [
    "import numpy as np\n",
    "import xarray as xr\n",
    "import matplotlib as mpl\n",
    "import matplotlib.pyplot as plt\n",
    "\n",
    "import sys\n",
    "sys.path.append('../src')\n",
    "import utils as ut"
   ]
  },
  {
   "cell_type": "code",
   "execution_count": null,
   "id": "e362d7be-609b-4c5f-bac0-3e20392aa29e",
   "metadata": {},
   "outputs": [],
   "source": [
    "#year0,year1 = 1851,2000\n",
    "year0,year1 = 1951,2100\n",
    "\n",
    "option = ''\n",
    "#option = '_fit'"
   ]
  },
  {
   "cell_type": "code",
   "execution_count": null,
   "id": "775d78a9-63f1-4f6d-a8bc-316741248073",
   "metadata": {},
   "outputs": [],
   "source": [
    "ds = xr.open_dataset(f'../data/alldata{option}_{year0}_{year1}.nc')\n",
    "ds = ds.isel(exp=slice(0,5))"
   ]
  },
  {
   "cell_type": "code",
   "execution_count": null,
   "id": "716fceb4-2459-4590-9dff-ca8fc86d4b4d",
   "metadata": {},
   "outputs": [],
   "source": [
    "ism = 'CISM_NCA'\n",
    "esm = 'EC-Earth3'\n",
    "ssp = '245'\n",
    "bmp = 'lin'"
   ]
  },
  {
   "cell_type": "code",
   "execution_count": null,
   "id": "024eca60-c61a-41a3-98b0-37618282dba2",
   "metadata": {},
   "outputs": [],
   "source": [
    "TMP,IML,SLR = ut.iterate(ds,ism=ism,esm=esm,ssp=ssp,bmp=bmp)"
   ]
  },
  {
   "cell_type": "code",
   "execution_count": null,
   "id": "a7cc9d26-0467-439c-a449-f6b89e1e4471",
   "metadata": {},
   "outputs": [],
   "source": [
    "mpl.rcParams['figure.subplot.wspace'] = .1\n",
    "mpl.rcParams['figure.subplot.left'] = .15\n",
    "mpl.rcParams['figure.subplot.right'] = .99\n",
    "mpl.rcParams['figure.figsize'] = (7,5)"
   ]
  },
  {
   "cell_type": "code",
   "execution_count": null,
   "id": "eb942381-052b-495b-9b13-d4a12d71e733",
   "metadata": {},
   "outputs": [],
   "source": [
    "fig,ax = plt.subplots(3,5,sharex=True,sharey='row')\n",
    "\n",
    "for b,bas in enumerate(ds.basin.values):\n",
    "    for v,var in enumerate([TMP,np.cumsum(IML,axis=1),100*SLR]):\n",
    "        dax = ax[v,b]\n",
    "        dax.plot(ds.time,var[0,:,b],c='.5')\n",
    "        for n in range(1,TMP.shape[0]):\n",
    "            dax.plot(ds.time,var[n,:,b],c=ut.bcol[bas])\n",
    "        dax.text(.1,.8,f\"{100*((var[-1,-1,b]-var[-1,0,b])-(var[0,-1,b]-var[0,0,b]))/np.abs(var[0,-1,b]-var[0,0,b]):+.0f}%\",transform=dax.transAxes,weight='bold',c=ut.bcol[bas])\n",
    "        \n",
    "    ax[0,b].set_title(bas)\n",
    "ax[-1,2].set_xlabel('Time [years]')\n",
    "ax[0,0].set_ylabel('Temperature [degC]')\n",
    "ax[1,0].set_ylabel('Cumulative ice mass loss [Gt]')\n",
    "ax[2,0].set_ylabel('Sea level rise [cm]')\n",
    "\n",
    "plt.savefig(f'../draftfigs/single_ensemble{option}.png',dpi=450,facecolor='w',transparent=False)\n",
    "plt.show()\n",
    "ds.close()"
   ]
  },
  {
   "cell_type": "code",
   "execution_count": null,
   "id": "7a165cb7-f4c5-41c1-a970-59477e66005d",
   "metadata": {
    "jupyter": {
     "source_hidden": true
    },
    "tags": []
   },
   "outputs": [],
   "source": [
    "fig,ax = plt.subplots(3,5,sharex=True,sharey='row')\n",
    "\n",
    "for b,bas in enumerate(ds.basin.values):\n",
    "    for v,var in enumerate([TMP,np.cumsum(IML,axis=1),SLR]):\n",
    "        dax = ax[v,b]\n",
    "        dax.plot(ds.time,var[0,:,b],c='.5')\n",
    "        #for n in range(1,TMP.shape[0]):\n",
    "        #    dax.plot(ds.time,var[n,:,b],c=ut.bcol[bas])\n",
    "        #dax.text(.1,.8,f\"{100*((var[-1,-1,b]-var[-1,0,b])-(var[0,-1,b]-var[0,0,b]))/np.abs(var[0,-1,b]-var[0,0,b]):+.0f}%\",transform=dax.transAxes,weight='bold',c=ut.bcol[bas])\n",
    "        \n",
    "    ax[0,b].set_title(bas)\n",
    "ax[-1,2].set_xlabel('Time [years]')\n",
    "ax[0,0].set_ylabel('Temperature [degC]')\n",
    "ax[1,0].set_ylabel('Cumulative ice mass loss [Gt]')\n",
    "ax[2,0].set_ylabel('Sea level rise [m]')\n",
    "\n",
    "plt.savefig(f'../draftfigs/single_ensemble_nofeedback.png',dpi=450,facecolor='w',transparent=False)\n",
    "plt.show()\n",
    "ds.close()"
   ]
  },
  {
   "cell_type": "code",
   "execution_count": null,
   "id": "183972bb-9c6e-4e08-8195-0aead3e439ae",
   "metadata": {},
   "outputs": [],
   "source": []
  }
 ],
 "metadata": {
  "kernelspec": {
   "display_name": "Python 3 (ipykernel)",
   "language": "python",
   "name": "python3"
  },
  "language_info": {
   "codemirror_mode": {
    "name": "ipython",
    "version": 3
   },
   "file_extension": ".py",
   "mimetype": "text/x-python",
   "name": "python",
   "nbconvert_exporter": "python",
   "pygments_lexer": "ipython3",
   "version": "3.8.11"
  }
 },
 "nbformat": 4,
 "nbformat_minor": 5
}
