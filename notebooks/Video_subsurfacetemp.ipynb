{
 "cells": [
  {
   "cell_type": "code",
   "execution_count": null,
   "id": "a528c72f-4da5-4376-b714-7ec77127d363",
   "metadata": {},
   "outputs": [],
   "source": [
    "import xarray as xr\n",
    "import pyproj\n",
    "import matplotlib as mpl\n",
    "import matplotlib.pyplot as plt\n",
    "import matplotlib.ticker as mticker\n",
    "import cmocean as cmo\n",
    "import glob\n",
    "from mpl_toolkits.axes_grid1 import make_axes_locatable\n",
    "from mpl_toolkits.axes_grid1.inset_locator import inset_axes\n",
    "import cartopy\n",
    "import cartopy.crs as ccrs\n",
    "from cartopy.mpl.gridliner import LONGITUDE_FORMATTER, LATITUDE_FORMATTER\n",
    "\n",
    "import numpy as np\n",
    "import copy\n",
    "import sys,os\n",
    "\n",
    "sys.path.append('../src')\n",
    "\n",
    "from rundata import RunData\n",
    "from alldata import AllData\n",
    "\n",
    "np.set_printoptions(precision=2)\n",
    "%matplotlib notebook\n",
    "%matplotlib inline\n",
    "%config InlineBackend.print_figure_kwargs={'bbox_inches':None}\n",
    "%load_ext autoreload\n",
    "%autoreload 2"
   ]
  },
  {
   "cell_type": "markdown",
   "id": "09426146-0e03-4e57-82c8-535438b8094a",
   "metadata": {},
   "source": [
    "Input parameters"
   ]
  },
  {
   "cell_type": "code",
   "execution_count": null,
   "id": "9ca68a47-307a-45ad-85cd-cd4665331846",
   "metadata": {},
   "outputs": [],
   "source": [
    "newrun  = 'tot2'  # New run to be compared to control\n",
    "depthT = 370\n",
    "depthS = 100"
   ]
  },
  {
   "cell_type": "markdown",
   "id": "bcf74401-cdf0-446b-8d88-ac9578325981",
   "metadata": {},
   "source": [
    "Get 2d variables"
   ]
  },
  {
   "cell_type": "code",
   "execution_count": null,
   "id": "0ddb9659-4abf-4653-8f0b-5abce3c2a4cf",
   "metadata": {},
   "outputs": [],
   "source": [
    "ad = AllData()\n",
    "\n",
    "rd1 = RunData(newrun)\n",
    "rd1.checkfornewdata()\n",
    "rd1.get_var2d('thetao',depthT)\n",
    "rd1.get_var2d('so',depthS)\n",
    "\n",
    "rd0 = RunData('ctrl')\n",
    "rd0.get_var2d('thetao',depthT,rd1.nmonths)\n",
    "rd0.get_var2d('so',depthS,rd1.nmonths)"
   ]
  },
  {
   "cell_type": "markdown",
   "id": "ecdb9617-e875-4489-a19c-ced4841b888f",
   "metadata": {},
   "source": [
    "Get basin mask for inset"
   ]
  },
  {
   "cell_type": "code",
   "execution_count": null,
   "id": "9d0fe34a-99b0-41ba-ab52-9d80f0e31264",
   "metadata": {},
   "outputs": [],
   "source": [
    "ds = xr.open_dataset(f'../data/basinmask.nc').isel(y=slice(0,rd1.jmax),basin=slice(0,5))\n",
    "mask = np.nansum(ds.mask,axis=1)\n",
    "ds.close()"
   ]
  },
  {
   "cell_type": "markdown",
   "id": "b0f9db4a-2ac1-4022-82a5-36985966e001",
   "metadata": {},
   "source": [
    "Get monthly teperature time series"
   ]
  },
  {
   "cell_type": "code",
   "execution_count": null,
   "id": "dd6513f6-d963-469c-be79-a49240299e83",
   "metadata": {},
   "outputs": [],
   "source": [
    "ds = xr.open_dataset(f'../data/temperature_mon_ctrl.nc').isel(basin=slice(0,5))\n",
    "tempc = ds.temp.isel(time=slice(0,rd1.nmonths))\n",
    "ds.close()\n",
    "\n",
    "ds = xr.open_dataset(f'../data/temperature_mon_{newrun}.nc').isel(basin=slice(0,5))\n",
    "time = ds.time.values/12\n",
    "tempr = ds.temp\n",
    "ds.close()\n",
    "dtemp = tempr-tempc"
   ]
  },
  {
   "cell_type": "code",
   "execution_count": null,
   "id": "3f4a8029-9d95-405f-ae51-20b8082ef0b9",
   "metadata": {},
   "outputs": [],
   "source": [
    "cmaps = {}\n",
    "vmins = {}\n",
    "vmaxs = {}\n",
    "\n",
    "cmaps['thetao'] = 'cmo.balance'\n",
    "cmaps['so']     = 'cmo.tarn_r'\n",
    "vmins['thetao'] = -2\n",
    "vmins['so']     = -1\n",
    "vmaxs['thetao'] = 2\n",
    "vmaxs['so']     = 1\n",
    "\n",
    "varname = {}\n",
    "varname['thetao'] = 'Temperature'\n",
    "varname['so']     = 'Salinity'\n",
    "\n",
    "mpl.rc('figure',figsize=(15,5))\n",
    "mpl.rc('figure.subplot',wspace=.15,hspace=.01,left=.01,right=.99,bottom=.1,top=.9)\n",
    "\n",
    "mnames = ['Jan','Feb','Mar','Apr','May','Jun','Jul','Aug','Sep','Oct','Nov','Dec']"
   ]
  },
  {
   "cell_type": "code",
   "execution_count": null,
   "id": "e30d641f-f1a7-40ee-908e-2469739a9fdf",
   "metadata": {
    "tags": []
   },
   "outputs": [],
   "source": [
    "#Save frames\n",
    "\n",
    "prefix = f'substemp_{newrun}_mon'\n",
    "\n",
    "framerate = rd1.nmonths/60\n",
    "\n",
    "#for m in range(nmonths-2,nmonths):\n",
    "for m in range(rd1.nmonths):\n",
    "    fig = plt.figure()\n",
    "    \n",
    "    for v,vv in enumerate(['so','thetao']):\n",
    "        ax = fig.add_subplot(1,3,v+1,projection=ccrs.SouthPolarStereo())\n",
    "        ax.set_extent([-180, 180, -80, -59], crs=ccrs.PlateCarree())\n",
    "        im = ax.scatter(rd1.lon,rd1.lat,5,c=rd1.var2d[vv][m,:,:]-rd0.var2d[vv][m,:,:],cmap=cmaps[vv],vmin=vmins[vv],vmax=vmaxs[vv],transform=ccrs.PlateCarree())\n",
    "        ax.add_feature(cartopy.feature.LAND.with_scale('10m'),facecolor='.7')\n",
    "        ax.coastlines(linewidth=0.4, zorder=2, resolution='10m')\n",
    "        axins = inset_axes(ax,width=\"5%\",height=\"100%\",loc='center right',borderpad=-2)\n",
    "        cb = fig.colorbar(im, cax=axins)\n",
    "    \n",
    "        ax.set_title(f'{varname[vv]} anomaly at {rd1.dep2d[vv]:.0f}m depth [degC]')\n",
    "        ax.set_axis_off()\n",
    "\n",
    "    ax = fig.add_subplot(133)\n",
    "    ax.axhline(0,0,1,color='.5',ls=':')\n",
    "    for b,bas in enumerate(ad.basin):\n",
    "        ax.plot(time[:m+1],dtemp.sel(basin=bas)[:m+1],c=ad.bcol[bas])\n",
    "        ax.scatter(time[m],dtemp.sel(basin=bas)[m],40,c=ad.bcol[bas])\n",
    "    ax.set_xlim([0,np.ceil(rd1.nmonths/12)])\n",
    "    ax.set_ylim([vmins['thetao'],vmaxs['thetao']]) \n",
    "    ax.set_yticklabels([])\n",
    "    ax.set_title('Subsurface ocean temperature anomaly [degC]')\n",
    "    ax.set_xlabel('Years')\n",
    "\n",
    "    axins = inset_axes(ax,width=\"30%\",height=\"30%\",loc='lower left',borderpad=0,axes_class=cartopy.mpl.geoaxes.GeoAxes,axes_kwargs=dict(map_projection=cartopy.crs.SouthPolarStereo()))\n",
    "    axins.set_extent([-180, 180, -80, -60], crs=ccrs.PlateCarree())\n",
    "    for b,bas in enumerate(ad.basin):\n",
    "        axins.scatter(rd1.lon,rd1.lat,5*mask[b,:,:],c=ad.bcol[bas],lw=0,transform=ccrs.PlateCarree())\n",
    "\n",
    "    axins.add_feature(cartopy.feature.LAND.with_scale('10m'),facecolor='.7')\n",
    "    axins.coastlines(linewidth=0.4, zorder=2, resolution='10m')\n",
    "    axins.set_axis_off()\n",
    "    \n",
    "    y2d = int(np.floor(m/12))\n",
    "    m2d = int(m-12*y2d)\n",
    "    fig.suptitle(f'{mnames[m2d]} {y2d:03.0f} of {rd1.nyears:03.0f}')\n",
    "    \n",
    "    savename = f'../videos/{prefix}_{m:04.0f}.png'\n",
    "    plt.savefig(savename,dpi=150,facecolor='w',transparent=False)\n",
    "    print('Saved',m+1,'of',rd1.nmonths,'months',end='\\r')\n",
    "    plt.close()\n",
    "    "
   ]
  },
  {
   "cell_type": "code",
   "execution_count": null,
   "id": "9756b7e2-fe9d-481f-b20b-70d0d8fb3771",
   "metadata": {
    "tags": []
   },
   "outputs": [],
   "source": [
    "#Make video and delete frames\n",
    "os.system(f'ffmpeg -y -r {framerate} -f image2 -s 1920x1080 -i ../videos/{prefix}_%04d.png -vcodec libx264 -crf 25  -pix_fmt yuv420p ../videos/{prefix}.mp4')\n",
    "os.system(f'rm -r ../videos/{prefix}*.png')"
   ]
  },
  {
   "cell_type": "code",
   "execution_count": null,
   "id": "5410ff79-dd67-43b9-9dba-79d9d7c6e4cd",
   "metadata": {},
   "outputs": [],
   "source": []
  }
 ],
 "metadata": {
  "kernelspec": {
   "display_name": "Python 3 (ipykernel)",
   "language": "python",
   "name": "python3"
  },
  "language_info": {
   "codemirror_mode": {
    "name": "ipython",
    "version": 3
   },
   "file_extension": ".py",
   "mimetype": "text/x-python",
   "name": "python",
   "nbconvert_exporter": "python",
   "pygments_lexer": "ipython3",
   "version": "3.8.11"
  }
 },
 "nbformat": 4,
 "nbformat_minor": 5
}
