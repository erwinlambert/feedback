{
 "cells": [
  {
   "cell_type": "code",
   "execution_count": 1,
   "id": "a528c72f-4da5-4376-b714-7ec77127d363",
   "metadata": {},
   "outputs": [],
   "source": [
    "import xarray as xr\n",
    "import pyproj\n",
    "import matplotlib as mpl\n",
    "import matplotlib.pyplot as plt\n",
    "import matplotlib.ticker as mticker\n",
    "import cmocean as cmo\n",
    "import glob\n",
    "from mpl_toolkits.axes_grid1 import make_axes_locatable\n",
    "from mpl_toolkits.axes_grid1.inset_locator import inset_axes\n",
    "import cartopy\n",
    "import cartopy.crs as ccrs\n",
    "from cartopy.mpl.gridliner import LONGITUDE_FORMATTER, LATITUDE_FORMATTER\n",
    "\n",
    "import numpy as np\n",
    "import copy\n",
    "import sys,os\n",
    "\n",
    "sys.path.append('../src')\n",
    "import utils as ut"
   ]
  },
  {
   "cell_type": "code",
   "execution_count": 2,
   "id": "9ca68a47-307a-45ad-85cd-cd4665331846",
   "metadata": {},
   "outputs": [],
   "source": [
    "runn = 'tot2'\n",
    "jmax = 55\n",
    "olev = 36"
   ]
  },
  {
   "cell_type": "code",
   "execution_count": 3,
   "id": "52f10b66-d9b6-49b1-9b5b-bec8ede84dac",
   "metadata": {
    "jupyter": {
     "source_hidden": true
    },
    "tags": []
   },
   "outputs": [],
   "source": [
    "#Get time-independent variables\n",
    "ds = xr.open_dataset('../data/ecefiles/areas.nc')\n",
    "area = ds['O1t0.srf'].values;\n",
    "ds.close()\n",
    "\n",
    "fnames = sorted(glob.glob(f'../data/ecefiles/n011/n011*.nc'))\n",
    "\n",
    "ds = xr.open_dataset(fnames[0])\n",
    "lat = ds['nav_lat'].values\n",
    "lon = ds['nav_lon'].values\n",
    "levmid = ds['olevel'].values\n",
    "lev = ds['olevel_bounds'].values\n",
    "time_bnds = ds['time_centered_bounds']\n",
    "thick = ds['e3t'].values #Quasi-time-independent, treated as fixed\n",
    "\n",
    "ds.close()\n",
    "secs = (time_bnds[:12,1]-time_bnds[:12,0]).values / np.timedelta64(1, 's')\n",
    "\n",
    "months = np.arange(0,12)"
   ]
  },
  {
   "cell_type": "code",
   "execution_count": 3,
   "id": "48deb197-90c5-4b1c-a347-e7d66a723423",
   "metadata": {},
   "outputs": [],
   "source": [
    "def get_fnames(run):\n",
    "    fnames = sorted(glob.glob(f'../data/ecefiles/{run}/{run}*T.nc'))\n",
    "    if run == 'n011':\n",
    "        fnames = fnames[38:] #Omit the first 100 years which is spin up\n",
    "        rrun = 'ctrl'\n",
    "    else:\n",
    "        rrun = run\n",
    "\n",
    "    nmonths = 0\n",
    "    for fname in fnames:\n",
    "        ds = xr.open_dataset(fname)\n",
    "        nmonths += len(ds.time_counter)\n",
    "        ds.close()\n",
    "    nyears = int(np.floor(nmonths/12))\n",
    "    print(rrun,nmonths, 'months =',nyears,'y',int(nmonths-12*nyears),'m')\n",
    "    return fnames,nmonths,nyears,rrun"
   ]
  },
  {
   "cell_type": "code",
   "execution_count": 4,
   "id": "9d0fe34a-99b0-41ba-ab52-9d80f0e31264",
   "metadata": {},
   "outputs": [],
   "source": [
    "ds = xr.open_dataset(f'../data/basinmask.nc').isel(y=slice(0,jmax),basin=slice(0,5))\n",
    "lon = ds.lon\n",
    "lat = ds.lat\n",
    "mask = ds.mask\n",
    "basin = ds.basin.values\n",
    "ds.close()\n",
    "mask = np.nansum(mask,axis=1)"
   ]
  },
  {
   "cell_type": "code",
   "execution_count": 5,
   "id": "dd6513f6-d963-469c-be79-a49240299e83",
   "metadata": {
    "tags": []
   },
   "outputs": [],
   "source": [
    "runs = np.append(['n011'],runn)\n",
    "\n",
    "ds = xr.open_dataset(f'../data/temperature_mon_ctrl.nc').isel(basin=slice(0,5))\n",
    "tempc = ds.temp\n",
    "ds.close()\n",
    "\n",
    "ds = xr.open_dataset(f'../data/temperature_mon_{runn}.nc').isel(basin=slice(0,5))\n",
    "time = ds.time.values/12\n",
    "tempr = ds.temp\n",
    "ds.close()\n",
    "\n",
    "dtemp = tempr-tempc[:len(time)]"
   ]
  },
  {
   "cell_type": "code",
   "execution_count": 6,
   "id": "186293c3-7d9e-45aa-857f-83ccc8421107",
   "metadata": {
    "tags": []
   },
   "outputs": [
    {
     "name": "stdout",
     "output_type": "stream",
     "text": [
      "tot2 390 months = 32 y 6 m\n",
      "ctrl 2400 months = 200 y 0 m\n",
      "tot2 390 months = 32 y 6 m\n"
     ]
    }
   ],
   "source": [
    "fnames,nmonthsr,nyears,rrun = get_fnames(runn)\n",
    "ds = xr.open_dataset(fnames[0]).isel(y=slice(0,jmax))\n",
    "lat = ds['nav_lat'].values\n",
    "lon = ds['nav_lon'].values\n",
    "ds.close()\n",
    "\n",
    "var = {}\n",
    "for run in runs:\n",
    "    fnames,nmonths,nyears,rrun = get_fnames(run)\n",
    "    var[run] = np.zeros((nmonthsr,lon.shape[0],lon.shape[1]))\n",
    "    c = -1\n",
    "    for fname in fnames:\n",
    "        ds = xr.open_dataset(fname).isel(y=slice(0,jmax))\n",
    "        for t,tt in enumerate(ds['time_counter'].values):\n",
    "            c+=1\n",
    "            if c>=nmonthsr:\n",
    "                break\n",
    "            var[run][c,:,:] = ds['thetao'].isel(olevel=olev,time_counter=t)\n",
    "        if c>=nmonthsr:\n",
    "            break\n",
    "        "
   ]
  },
  {
   "cell_type": "code",
   "execution_count": 7,
   "id": "3f4a8029-9d95-405f-ae51-20b8082ef0b9",
   "metadata": {},
   "outputs": [],
   "source": [
    "cmap = 'cmo.balance'\n",
    "vmin = -1\n",
    "vmax = 1\n",
    "\n",
    "mpl.rcParams['figure.figsize'] = (15,5)\n",
    "mpl.rcParams['figure.subplot.wspace'] = .25\n",
    "mpl.rcParams['figure.subplot.hspace'] = .1"
   ]
  },
  {
   "cell_type": "code",
   "execution_count": 8,
   "id": "ef333911-f007-4500-970f-f1f46e4d77c4",
   "metadata": {
    "tags": []
   },
   "outputs": [
    {
     "name": "stdout",
     "output_type": "stream",
     "text": [
      "Saved 9 of 390 months\r"
     ]
    },
    {
     "name": "stderr",
     "output_type": "stream",
     "text": [
      "ffmpeg version 4.3.2 Copyright (c) 2000-2021 the FFmpeg developers\n",
      "  built with gcc 10 (GCC)\n",
      "  configuration: --prefix=/usr --bindir=/usr/bin --datadir=/usr/share/ffmpeg --docdir=/usr/share/doc/ffmpeg --incdir=/usr/include/ffmpeg --libdir=/usr/lib64 --mandir=/usr/share/man --arch=x86_64 --optflags='-O2 -flto=auto -ffat-lto-objects -fexceptions -g -grecord-gcc-switches -pipe -Wall -Werror=format-security -Wp,-D_FORTIFY_SOURCE=2 -Wp,-D_GLIBCXX_ASSERTIONS -specs=/usr/lib/rpm/redhat/redhat-hardened-cc1 -fstack-protector-strong -specs=/usr/lib/rpm/redhat/redhat-annobin-cc1 -m64 -mtune=generic -fasynchronous-unwind-tables -fstack-clash-protection -fcf-protection' --extra-ldflags='-Wl,-z,relro -Wl,--as-needed -Wl,-z,now -specs=/usr/lib/rpm/redhat/redhat-hardened-ld ' --extra-cflags=' -I/usr/include/rav1e' --enable-libopencore-amrnb --enable-libopencore-amrwb --enable-libvo-amrwbenc --enable-version3 --enable-bzlib --disable-crystalhd --enable-fontconfig --enable-frei0r --enable-gcrypt --enable-gnutls --enable-ladspa --enable-libaom --enable-libdav1d --enable-libass --enable-libbluray --enable-libcdio --enable-libdrm --enable-libjack --enable-libfreetype --enable-libfribidi --enable-libgsm --enable-liblensfun --enable-libmp3lame --enable-libmysofa --enable-nvenc --enable-openal --enable-opencl --enable-opengl --enable-libopenjpeg --enable-libopenmpt --enable-libopus --enable-libpulse --enable-librsvg --enable-librav1e --enable-libsmbclient --enable-version3 --enable-libsoxr --enable-libspeex --enable-libssh --enable-libtheora --enable-libvorbis --enable-libv4l2 --enable-libvidstab --enable-libvmaf --enable-version3 --enable-vapoursynth --enable-libvpx --enable-vulkan --enable-libglslang --enable-libx264 --enable-libx265 --enable-libxvid --enable-libxml2 --enable-libzimg --enable-libzvbi --enable-lv2 --enable-avfilter --enable-avresample --enable-libmodplug --enable-postproc --enable-pthreads --disable-static --enable-shared --enable-gpl --disable-debug --disable-stripping --shlibdir=/usr/lib64 --enable-lto --enable-libmfx --enable-runtime-cpudetect\n",
      "  libavutil      56. 51.100 / 56. 51.100\n",
      "  libavcodec     58. 91.100 / 58. 91.100\n",
      "  libavformat    58. 45.100 / 58. 45.100\n",
      "  libavdevice    58. 10.100 / 58. 10.100\n",
      "  libavfilter     7. 85.100 /  7. 85.100\n",
      "  libavresample   4.  0.  0 /  4.  0.  0\n",
      "  libswscale      5.  7.100 /  5.  7.100\n",
      "  libswresample   3.  7.100 /  3.  7.100\n",
      "  libpostproc    55.  7.100 / 55.  7.100\n",
      "Input #0, image2, from '../videos/substemp_tot2_mon_%04d.png':\n",
      "  Duration: 00:00:01.54, start: 0.000000, bitrate: N/A\n",
      "    Stream #0:0: Video: png, rgba(pc), 2250x750 [SAR 5906:5906 DAR 3:1], 6.50 fps, 6.50 tbr, 6.50 tbn, 6.50 tbc\n",
      "Stream mapping:\n",
      "  Stream #0:0 -> #0:0 (png (native) -> h264 (libx264))\n",
      "Press [q] to stop, [?] for help\n",
      "[libx264 @ 0x55bc5f38d340] using SAR=1/1\n",
      "[libx264 @ 0x55bc5f38d340] using cpu capabilities: MMX2 SSE2Fast SSSE3 SSE4.2 AVX FMA3 BMI2 AVX2\n",
      "[libx264 @ 0x55bc5f38d340] profile High, level 4.0, 4:2:0, 8-bit\n",
      "[libx264 @ 0x55bc5f38d340] 264 - core 160 r3011 cde9a93 - H.264/MPEG-4 AVC codec - Copyleft 2003-2020 - http://www.videolan.org/x264.html - options: cabac=1 ref=3 deblock=1:0:0 analyse=0x3:0x113 me=hex subme=7 psy=1 psy_rd=1.00:0.00 mixed_ref=1 me_range=16 chroma_me=1 trellis=1 8x8dct=1 cqm=0 deadzone=21,11 fast_pskip=1 chroma_qp_offset=-2 threads=12 lookahead_threads=2 sliced_threads=0 nr=0 decimate=1 interlaced=0 bluray_compat=0 constrained_intra=0 bframes=3 b_pyramid=2 b_adapt=1 b_bias=0 direct=1 weightb=1 open_gop=0 weightp=2 keyint=250 keyint_min=6 scenecut=40 intra_refresh=0 rc_lookahead=40 rc=crf mbtree=1 crf=25.0 qcomp=0.60 qpmin=0 qpmax=69 qpstep=4 ip_ratio=1.40 aq=1:1.00\n",
      "Output #0, mp4, to '../videos/substemp_tot2_mon.mp4':\n",
      "  Metadata:\n",
      "    encoder         : Lavf58.45.100\n",
      "    Stream #0:0: Video: h264 (libx264) (avc1 / 0x31637661), yuv420p, 2250x750 [SAR 1:1 DAR 3:1], q=-1--1, 6.50 fps, 13312 tbn, 6.50 tbc\n",
      "    Metadata:\n",
      "      encoder         : Lavc58.91.100 libx264\n",
      "    Side data:\n",
      "      cpb: bitrate max/min/avg: 0/0/0 buffer size: 0 vbv_delay: N/A\n",
      "frame=   10 fps=0.0 q=-1.0 Lsize=      87kB time=00:00:01.07 bitrate= 664.6kbits/s speed=8.97x    \n",
      "video:86kB audio:0kB subtitle:0kB other streams:0kB global headers:0kB muxing overhead: 1.103980%\n",
      "[libx264 @ 0x55bc5f38d340] frame I:1     Avg QP:20.40  size: 47522\n",
      "[libx264 @ 0x55bc5f38d340] frame P:3     Avg QP:22.65  size:  6674\n",
      "[libx264 @ 0x55bc5f38d340] frame B:6     Avg QP:20.50  size:  3378\n",
      "[libx264 @ 0x55bc5f38d340] consecutive B-frames: 20.0%  0.0%  0.0% 80.0%\n",
      "[libx264 @ 0x55bc5f38d340] mb I  I16..4: 22.1% 64.6% 13.4%\n",
      "[libx264 @ 0x55bc5f38d340] mb P  I16..4:  0.4%  3.1%  0.7%  P16..4:  3.8%  1.1%  0.5%  0.0%  0.0%    skip:90.3%\n",
      "[libx264 @ 0x55bc5f38d340] mb B  I16..4:  0.2%  0.7%  0.1%  B16..8:  5.3%  1.2%  0.3%  direct: 0.9%  skip:91.3%  L0:48.7% L1:47.3% BI: 4.0%\n",
      "[libx264 @ 0x55bc5f38d340] 8x8 transform intra:65.9% inter:77.8%\n",
      "[libx264 @ 0x55bc5f38d340] coded y,uvDC,uvAC intra: 14.9% 15.2% 7.7% inter: 2.5% 2.1% 0.4%\n",
      "[libx264 @ 0x55bc5f38d340] i16 v,h,dc,p: 68% 19%  9%  4%\n",
      "[libx264 @ 0x55bc5f38d340] i8 v,h,dc,ddl,ddr,vr,hd,vl,hu: 52% 12% 28%  1%  2%  1%  2%  1%  1%\n",
      "[libx264 @ 0x55bc5f38d340] i4 v,h,dc,ddl,ddr,vr,hd,vl,hu: 42% 18% 16%  4%  4%  5%  4%  3%  4%\n",
      "[libx264 @ 0x55bc5f38d340] i8c dc,h,v,p: 85%  7%  6%  2%\n",
      "[libx264 @ 0x55bc5f38d340] Weighted P-Frames: Y:0.0% UV:0.0%\n",
      "[libx264 @ 0x55bc5f38d340] ref P L0: 62.7% 15.0% 16.4%  5.9%\n",
      "[libx264 @ 0x55bc5f38d340] ref B L0: 78.1% 19.1%  2.7%\n",
      "[libx264 @ 0x55bc5f38d340] ref B L1: 94.4%  5.6%\n",
      "[libx264 @ 0x55bc5f38d340] kb/s:456.61\n"
     ]
    },
    {
     "data": {
      "text/plain": [
       "0"
      ]
     },
     "execution_count": 8,
     "metadata": {},
     "output_type": "execute_result"
    }
   ],
   "source": [
    "prefix = f'substemp_{run}_mon'\n",
    "\n",
    "framerate = nmonthsr/60\n",
    "\n",
    "for m in range(0,10):\n",
    "#for m in range(nmonthsr):\n",
    "    fig = plt.figure()\n",
    "    \n",
    "    ax = fig.add_subplot(131,projection=ccrs.SouthPolarStereo())\n",
    "    ax.set_extent([-180, 180, -80, -60], crs=ccrs.PlateCarree())\n",
    "    for b,bas in enumerate(basin):\n",
    "        ax.scatter(lon,lat,15*mask[b,:,:],c=ut.bcol[bas],lw=0,transform=ccrs.PlateCarree())\n",
    "\n",
    "    ax.add_feature(cartopy.feature.LAND.with_scale('10m'),facecolor='.7')\n",
    "    ax.coastlines(linewidth=0.4, zorder=2, resolution='10m')\n",
    "        \n",
    "    ax.set_title('Five ocean regions')\n",
    "        \n",
    "    ax = fig.add_subplot(132,projection=ccrs.SouthPolarStereo())\n",
    "    ax.set_extent([-180, 180, -80, -60], crs=ccrs.PlateCarree())\n",
    "    im = ax.scatter(lon,lat,15,c=var['tot2'][m,:,:]-var['n011'][m,:,:],cmap=cmap,vmin=vmin,vmax=vmax,transform=ccrs.PlateCarree())\n",
    "    #im = ax.pcolormesh(lon[:,1:-1],lat[:,1:-1],var['tot2'][m,:,1:-1]-var['n011'][m,:,1:-1],cmap=cmap,vmin=vmin,vmax=vmax,transform=ccrs.PlateCarree())\n",
    "    #im = ax.pcolormesh(lon,lat,var['tot2'][m,:,:]-var['n011'][m,:,:],cmap=cmap,vmin=vmin,vmax=vmax,transform=ccrs.PlateCarree())\n",
    "\n",
    "    ax.add_feature(cartopy.feature.LAND.with_scale('10m'),facecolor='.7')\n",
    "    ax.coastlines(linewidth=0.4, zorder=2, resolution='10m')\n",
    "        \n",
    "    axins = inset_axes(ax,width=\"5%\",height=\"100%\",loc='center right',borderpad=-2)\n",
    "    cb = fig.colorbar(im, cax=axins)\n",
    "    \n",
    "    ax.set_title('Temperature at 370m depth [degC]')\n",
    "    \n",
    "    ax = fig.add_subplot(133)\n",
    "    ax.axhline(0,0,1,color='.5',ls=':')\n",
    "    for b,bas in enumerate(basin):\n",
    "        ax.plot(time[:m+1],dtemp.sel(basin=bas)[:m+1],c=ut.bcol[bas])\n",
    "        ax.scatter(time[m],dtemp.sel(basin=bas)[m],40,c=ut.bcol[bas])\n",
    "    ax.set_xlim([0,np.ceil(nmonths/12)])\n",
    "    ax.set_ylim([vmin,vmax]) \n",
    "    ax.set_yticklabels([])\n",
    "    ax.set_title('Subsurface ocean temperature anomaly [degC]')\n",
    "    ax.set_xlabel('Years')\n",
    "\n",
    "    savename = f'../videos/{prefix}_{m:04.0f}.png'\n",
    "    plt.savefig(savename,dpi=150)\n",
    "    print('Saved',m,'of',nmonthsr,'months',end='\\r')\n",
    "    plt.close()\n",
    "    \n",
    "os.system(f'ffmpeg -y -r {framerate} -f image2 -s 1920x1080 -i ../videos/{prefix}_%04d.png -vcodec libx264 -crf 25  -pix_fmt yuv420p ../videos/{prefix}.mp4')\n",
    "os.system(f'rm -r ../videos/{prefix}*.png')"
   ]
  },
  {
   "cell_type": "code",
   "execution_count": null,
   "id": "5410ff79-dd67-43b9-9dba-79d9d7c6e4cd",
   "metadata": {},
   "outputs": [],
   "source": []
  }
 ],
 "metadata": {
  "kernelspec": {
   "display_name": "Python 3 (ipykernel)",
   "language": "python",
   "name": "python3"
  },
  "language_info": {
   "codemirror_mode": {
    "name": "ipython",
    "version": 3
   },
   "file_extension": ".py",
   "mimetype": "text/x-python",
   "name": "python",
   "nbconvert_exporter": "python",
   "pygments_lexer": "ipython3",
   "version": "3.8.11"
  }
 },
 "nbformat": 4,
 "nbformat_minor": 5
}
