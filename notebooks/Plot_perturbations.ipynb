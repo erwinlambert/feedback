{
 "cells": [
  {
   "cell_type": "code",
   "execution_count": null,
   "id": "a5abf7ce-2e2c-4bb2-abf4-29c236297546",
   "metadata": {},
   "outputs": [],
   "source": [
    "import xarray as xr\n",
    "import matplotlib as mpl\n",
    "import matplotlib.pyplot as plt\n",
    "import numpy as np\n",
    "import copy\n",
    "import sys\n",
    "\n",
    "sys.path.append('../src')\n",
    "import utils as ut"
   ]
  },
  {
   "cell_type": "code",
   "execution_count": null,
   "id": "2713faec-4241-42e7-84ff-92da9c172386",
   "metadata": {},
   "outputs": [],
   "source": [
    "#runs = ['ctrl','half','hal2','totl','tot2']\n",
    "runs = ['ctrl','hal2','tot2']"
   ]
  },
  {
   "cell_type": "code",
   "execution_count": null,
   "id": "95a15d7f-2804-4a63-9a40-a848db877898",
   "metadata": {},
   "outputs": [],
   "source": [
    "cols = {}\n",
    "cols['ctrl'] = '.5'\n",
    "cols['quar'] = ut.scol['119']\n",
    "cols['half'] = ut.scol['126']\n",
    "cols['hal2'] = ut.scol['126']\n",
    "cols['totl'] = ut.scol['245']\n",
    "cols['tot2'] = ut.scol['245']\n",
    "cols['doub'] = ut.scol['585']\n",
    "\n",
    "\n",
    "lss = {}\n",
    "lss['ctrl'] = '-'\n",
    "lss['quar'] = '-'\n",
    "lss['half'] = '-'\n",
    "lss['hal2'] = '-'\n",
    "lss['totl'] = '-'\n",
    "lss['tot2'] = '-'\n",
    "lss['doub'] = '-'\n",
    "\n",
    "lws = {}\n",
    "lws['ctrl'] = .5\n",
    "lws['quar'] = .5\n",
    "lws['half'] = .5\n",
    "lws['hal2'] = 1\n",
    "lws['totl'] = .5\n",
    "lws['tot2'] = 1\n",
    "lws['doub'] = 1"
   ]
  },
  {
   "cell_type": "code",
   "execution_count": null,
   "id": "5bc3809d-42cb-48f8-b355-0e4795fa8c1c",
   "metadata": {},
   "outputs": [],
   "source": [
    "mpl.rcParams['figure.subplot.wspace'] = .05\n",
    "mpl.rcParams['figure.subplot.hspace'] = .05\n",
    "mpl.rcParams['figure.subplot.left'] = .1\n",
    "mpl.rcParams['figure.subplot.right'] = .9\n",
    "mpl.rcParams['lines.linewidth'] = 1\n",
    "mpl.rcParams['figure.figsize'] = (20,8)\n",
    "mpl.rcParams['figure.subplot.bottom'] = .08\n"
   ]
  },
  {
   "cell_type": "code",
   "execution_count": null,
   "id": "9ab7967c-106e-480f-a7ca-3f429fa8843f",
   "metadata": {},
   "outputs": [],
   "source": [
    "tmax = 150*12\n",
    "nbasins = 5 #5 or 7\n",
    "\n",
    "fig,ax = plt.subplots(2,nbasins,sharex=True,sharey='row')\n",
    "\n",
    "ctrl = xr.open_dataset(f'../data/temperature_mon_ctrl.nc').isel(time=slice(0,tmax))\n",
    "\n",
    "for r,run in enumerate(runs):\n",
    "    ds = xr.open_dataset(f'../data/temperature_mon_{run}.nc').isel(time=slice(0,tmax))\n",
    "    for b,bas in enumerate(ds.basin.values[:nbasins]):\n",
    "        ax[0,b].plot(ds.time/12,ds.temp.sel(basin=bas),c=cols[run],ls=lss[run],lw=lws[run],label=run)\n",
    "        ax[1,b].plot(ds.time/12,ds.temp.sel(basin=bas)-ctrl.temp.sel(basin=bas),c=cols[run],ls=lss[run],lw=lws[run])\n",
    "        ax[0,b].set_title(bas,color=ut.bcol[bas],loc='left')\n",
    "    ds.close()\n",
    "\n",
    "ax[0,0].legend()\n",
    "ax[0,0].set_ylabel('Subsurface Temperature [degC]')\n",
    "ax[1,0].set_ylabel('Temperature anomaly [degC]')\n",
    "fig.supxlabel('Time [years]')\n",
    "plt.show()"
   ]
  },
  {
   "cell_type": "code",
   "execution_count": null,
   "id": "71967f91-d8fb-4424-8146-fc6d6693fd34",
   "metadata": {},
   "outputs": [],
   "source": []
  },
  {
   "cell_type": "code",
   "execution_count": null,
   "id": "b8976b52-3905-4952-ae83-ed5d3a1dc679",
   "metadata": {},
   "outputs": [],
   "source": []
  }
 ],
 "metadata": {
  "kernelspec": {
   "display_name": "Python 3 (ipykernel)",
   "language": "python",
   "name": "python3"
  },
  "language_info": {
   "codemirror_mode": {
    "name": "ipython",
    "version": 3
   },
   "file_extension": ".py",
   "mimetype": "text/x-python",
   "name": "python",
   "nbconvert_exporter": "python",
   "pygments_lexer": "ipython3",
   "version": "3.8.11"
  }
 },
 "nbformat": 4,
 "nbformat_minor": 5
}
