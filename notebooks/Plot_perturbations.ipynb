{
 "cells": [
  {
   "cell_type": "code",
   "execution_count": 1,
   "id": "a5abf7ce-2e2c-4bb2-abf4-29c236297546",
   "metadata": {},
   "outputs": [],
   "source": [
    "import xarray as xr\n",
    "import matplotlib as mpl\n",
    "import matplotlib.pyplot as plt\n",
    "import numpy as np\n",
    "import copy\n",
    "import sys\n",
    "\n",
    "sys.path.append('../src')\n",
    "import utils as ut"
   ]
  },
  {
   "cell_type": "code",
   "execution_count": 5,
   "id": "2713faec-4241-42e7-84ff-92da9c172386",
   "metadata": {},
   "outputs": [],
   "source": [
    "runs = ['ctrl','totl']\n"
   ]
  },
  {
   "cell_type": "code",
   "execution_count": 6,
   "id": "5bc3809d-42cb-48f8-b355-0e4795fa8c1c",
   "metadata": {},
   "outputs": [],
   "source": [
    "mpl.rcParams['figure.subplot.wspace'] = .2\n",
    "mpl.rcParams['figure.subplot.left'] = .1\n",
    "mpl.rcParams['figure.subplot.right'] = .9\n",
    "mpl.rcParams['figure.figsize'] = (7,5)\n",
    "\n",
    "btitle = ['a) East Antarctica','b) Ross','d) Amundsen','e) Weddell','f) Peninsula']\n",
    "alpha = .3\n",
    "lw = .5\n",
    "axi = [0,0,1,1,1]\n",
    "axj = [0,1,0,1,2]"
   ]
  },
  {
   "cell_type": "code",
   "execution_count": 8,
   "id": "9ab7967c-106e-480f-a7ca-3f429fa8843f",
   "metadata": {},
   "outputs": [
    {
     "data": {
      "image/png": "[encoded data removed]",
      "text/plain": [
       "<Figure size 504x360 with 6 Axes>"
      ]
     },
     "metadata": {
      "needs_background": "light"
     },
     "output_type": "display_data"
    }
   ],
   "source": [
    "fig,ax = plt.subplots(2,3,sharex=True,sharey=True)\n",
    "\n",
    "for r,run in enumerate(runs):\n",
    "    ds = xr.open_dataset(f'../data/temperature_{run}.nc')\n",
    "    \n",
    "    for b,bas in enumerate(ds.basin.values):\n",
    "        dax = ax[axi[b],axj[b]]\n",
    "\n",
    "        temp = ds.temp.sel(basin=bas)\n",
    "        if run == 'ctrl':\n",
    "            dax.plot(ds.time,temp,c='.5',zorder=0)\n",
    "        else:\n",
    "            #dax.plot(ds.time,temp,c=ut.bcol[bas])\n",
    "            dax.scatter(ds.time,temp,5,c=ut.bcol[bas])\n",
    "        if r==0:\n",
    "            dax.set_title(btitle[b],loc='left')\n",
    "            dax.set_ylim([-2,3])\n",
    "            dax.set_xlim([-1,10])\n",
    "    ds.close()\n",
    "\n",
    "            \n",
    "ax[0,2].set_visible(False)\n",
    "plt.show()"
   ]
  },
  {
   "cell_type": "code",
   "execution_count": null,
   "id": "71967f91-d8fb-4424-8146-fc6d6693fd34",
   "metadata": {},
   "outputs": [],
   "source": []
  }
 ],
 "metadata": {
  "kernelspec": {
   "display_name": "Python 3 (ipykernel)",
   "language": "python",
   "name": "python3"
  },
  "language_info": {
   "codemirror_mode": {
    "name": "ipython",
    "version": 3
   },
   "file_extension": ".py",
   "mimetype": "text/x-python",
   "name": "python",
   "nbconvert_exporter": "python",
   "pygments_lexer": "ipython3",
   "version": "3.8.11"
  }
 },
 "nbformat": 4,
 "nbformat_minor": 5
}
