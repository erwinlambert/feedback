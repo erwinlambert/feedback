{
 "cells": [
  {
   "cell_type": "markdown",
   "id": "bb86fb04-7461-470f-b31a-3d2159966311",
   "metadata": {},
   "source": [
    "This notebook allows to quickly plot new monthly data from ongoing runs"
   ]
  },
  {
   "cell_type": "code",
   "execution_count": null,
   "id": "a5abf7ce-2e2c-4bb2-abf4-29c236297546",
   "metadata": {},
   "outputs": [],
   "source": [
    "import xarray as xr\n",
    "import matplotlib as mpl\n",
    "import matplotlib.pyplot as plt\n",
    "import numpy as np\n",
    "import copy\n",
    "import sys\n",
    "\n",
    "sys.path.append('../src')\n",
    "\n",
    "from rundata import RunData\n",
    "\n",
    "#np.set_printoptions(precision=2)\n",
    "%matplotlib notebook\n",
    "%matplotlib inline\n",
    "%config InlineBackend.print_figure_kwargs={'bbox_inches':None}\n",
    "%load_ext autoreload\n",
    "%autoreload 2"
   ]
  },
  {
   "cell_type": "code",
   "execution_count": null,
   "id": "2713faec-4241-42e7-84ff-92da9c172386",
   "metadata": {},
   "outputs": [],
   "source": [
    "#runs = ['ctrl','half','hal2','totl','tot2']\n",
    "runs = ['ctrl','tot2','amun']"
   ]
  },
  {
   "cell_type": "code",
   "execution_count": null,
   "id": "f8917eb3-930e-4763-89ed-eb544bf59bba",
   "metadata": {},
   "outputs": [],
   "source": [
    "for run in runs:\n",
    "    rd = RunData(run)\n",
    "    rd.checkfornewdata(option='mon')"
   ]
  },
  {
   "cell_type": "code",
   "execution_count": null,
   "id": "5bc3809d-42cb-48f8-b355-0e4795fa8c1c",
   "metadata": {},
   "outputs": [],
   "source": [
    "plt.style.use('../src/style_paper')\n",
    "\n",
    "mpl.rc('figure',figsize=(16,8))"
   ]
  },
  {
   "cell_type": "code",
   "execution_count": null,
   "id": "9ab7967c-106e-480f-a7ca-3f429fa8843f",
   "metadata": {},
   "outputs": [],
   "source": [
    "tmax = 100*12\n",
    "nbasins = 5 #5 or 7\n",
    "\n",
    "fig,ax = plt.subplots(3,nbasins,sharex=True,sharey='row')\n",
    "\n",
    "ctrl = xr.open_dataset(f'../data/temperature_mon_ctrl.nc').isel(time=slice(0,tmax))\n",
    "\n",
    "#Get linear fit through control\n",
    "ctrl2 = ctrl.temp.copy()\n",
    "for b,bas in enumerate(ctrl.basin.values):\n",
    "    out = np.polyfit(ctrl.time,ctrl.temp.sel(basin=bas),1)\n",
    "    ctrl2[:,b] = out[1] + ctrl.time*out[0]\n",
    "\n",
    "\n",
    "for r,run in enumerate(runs):\n",
    "    ds = xr.open_dataset(f'../data/temperature_mon_{run}.nc').isel(time=slice(0,tmax))\n",
    "    for b,bas in enumerate(ds.basin.values[:nbasins]):\n",
    "        ax[0,b].plot(ds.time/12,ds.temp.sel(basin=bas),c=rd.rcol[run],label=run)\n",
    "        ax[1,b].plot(ds.time/12,ds.temp.sel(basin=bas)-ctrl.temp.sel(basin=bas),c=rd.rcol[run])\n",
    "        if run != 'ctrl':\n",
    "            ax[2,b].plot(ds.time/12,ds.temp.sel(basin=bas)-ctrl2.sel(basin=bas),c=rd.rcol[run])\n",
    "        else:\n",
    "            ax[0,b].plot(ds.time/12,ctrl2.sel(basin=bas),c=rd.rcol[run],lw=.5)\n",
    "        ax[2,b].axhline(0,0,1,c=rd.rcol['ctrl'],lw=.5)\n",
    "        ax[0,b].set_title(bas,color=rd.bcol[bas],loc='left')\n",
    "    ds.close()\n",
    "    \n",
    "ax[0,0].legend()\n",
    "ax[0,0].set_ylabel('Subsurface Temperature [degC]')\n",
    "ax[1,0].set_ylabel('Temp anom from ctrl [degC]')\n",
    "ax[2,0].set_ylabel('Temp anom from fit through ctrl [degC]')\n",
    "fig.supxlabel('Time [years]')\n",
    "\n",
    "plt.savefig(f'../draftfigs/dumfig_perturbation.png',dpi=450,facecolor='w',transparent=False)\n",
    "plt.show()"
   ]
  },
  {
   "cell_type": "code",
   "execution_count": null,
   "id": "71967f91-d8fb-4424-8146-fc6d6693fd34",
   "metadata": {},
   "outputs": [],
   "source": []
  },
  {
   "cell_type": "code",
   "execution_count": null,
   "id": "b8976b52-3905-4952-ae83-ed5d3a1dc679",
   "metadata": {},
   "outputs": [],
   "source": []
  }
 ],
 "metadata": {
  "kernelspec": {
   "display_name": "Python 3 (ipykernel)",
   "language": "python",
   "name": "python3"
  },
  "language_info": {
   "codemirror_mode": {
    "name": "ipython",
    "version": 3
   },
   "file_extension": ".py",
   "mimetype": "text/x-python",
   "name": "python",
   "nbconvert_exporter": "python",
   "pygments_lexer": "ipython3",
   "version": "3.8.11"
  }
 },
 "nbformat": 4,
 "nbformat_minor": 5
}
