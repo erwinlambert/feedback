{
 "cells": [
  {
   "cell_type": "code",
   "execution_count": 1,
   "id": "7e450173-46c8-4943-ad2b-80dab41e71a6",
   "metadata": {},
   "outputs": [],
   "source": [
    "#Read orf\n",
    "\n",
    "#Take difference from control [degC]\n",
    "\n",
    "#Divide by perturbation 400 Gt/yr -> [degC per Gt/yr]"
   ]
  },
  {
   "cell_type": "code",
   "execution_count": 2,
   "id": "f35c98e7-3d8d-449d-bff1-62ae86199212",
   "metadata": {},
   "outputs": [],
   "source": [
    "#Read irf \n",
    "\n",
    "#[check basins!]\n",
    "\n",
    "#Take difference from t=0\n",
    "\n",
    "#Change sign negative -> positive [Gt]\n",
    "\n",
    "#Differentiate in time -> [Gt/yr]\n",
    "\n",
    "#Divide by perturbation 8 m/yr -> [Gt/yr per m/yr]"
   ]
  },
  {
   "cell_type": "code",
   "execution_count": 3,
   "id": "7ba1093c-e97b-4463-8bc8-6e21234d594c",
   "metadata": {},
   "outputs": [],
   "source": [
    "#Read srf\n",
    "\n",
    "#Check basins!\n",
    "\n",
    "#Ensure units [m/yr per m/yr]\n",
    "\n",
    "#From codep:\n",
    "\n",
    "def calcSLR(TH,years):\n",
    "    SLRens = np.zeros((len(imods),TH.shape[0],TH.shape[1]))\n",
    "    for i,imod in enumerate(imods):\n",
    "        for b,bb in enumerate(range(1,6)):\n",
    "            with open(f'../rawdata/Larmip2019-master/RFunctions/RF_{imod}_BM08_R{bb}.dat') as f:\n",
    "                R = np.array([float(x) for x in f.readlines()])\n",
    "            for t,tt in enumerate(years):\n",
    "                if t==0: continue\n",
    "                SLRens[i,b,t] = bm*100*np.sum(TH[b,:t][::-1]*R[:t])\n",
    "            SLRens[i,b,:] = fun.detrend(SLRens[i,b,:],np.array([]),years)       \n",
    "    SLRb = np.sum(SLRens,axis=0)/len(imods)\n",
    "    return SLRb,years"
   ]
  },
  {
   "cell_type": "code",
   "execution_count": null,
   "id": "fab0290b-161f-4b20-9abb-2124dc3ee498",
   "metadata": {},
   "outputs": [],
   "source": []
  }
 ],
 "metadata": {
  "kernelspec": {
   "display_name": "Python 3 (ipykernel)",
   "language": "python",
   "name": "python3"
  },
  "language_info": {
   "codemirror_mode": {
    "name": "ipython",
    "version": 3
   },
   "file_extension": ".py",
   "mimetype": "text/x-python",
   "name": "python",
   "nbconvert_exporter": "python",
   "pygments_lexer": "ipython3",
   "version": "3.9.6"
  }
 },
 "nbformat": 4,
 "nbformat_minor": 5
}
