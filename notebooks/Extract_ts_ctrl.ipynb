{
 "cells": [
  {
   "cell_type": "code",
   "execution_count": 2,
   "id": "2993a754-483a-4091-b943-a38d0ef60e9d",
   "metadata": {},
   "outputs": [],
   "source": [
    "import xarray as xr\n",
    "\n",
    "import numpy as np\n",
    "import copy\n",
    "import sys\n",
    "\n",
    "sys.path.append('../src')\n",
    "import utils as ut"
   ]
  },
  {
   "cell_type": "code",
   "execution_count": 15,
   "id": "620c5c10-54f6-4bd6-9dd9-8b8ac1e873d3",
   "metadata": {},
   "outputs": [],
   "source": [
    "run = 'n011'\n",
    "\n",
    "ds = xr.open_dataset(f'../data/temperature_{run}.nc')\n",
    "ds = ds.isel(time=slice(100,250))\n",
    "ds['time'] = np.arange(0,150)\n",
    "\n",
    "ds.to_netcdf(f'../data/temperature_ctrl.nc',mode='w')\n",
    "ds.close()"
   ]
  },
  {
   "cell_type": "code",
   "execution_count": null,
   "id": "c2464843-fe73-4291-9ad4-a82d7c8a6403",
   "metadata": {},
   "outputs": [],
   "source": []
  }
 ],
 "metadata": {
  "kernelspec": {
   "display_name": "Python 3 (ipykernel)",
   "language": "python",
   "name": "python3"
  },
  "language_info": {
   "codemirror_mode": {
    "name": "ipython",
    "version": 3
   },
   "file_extension": ".py",
   "mimetype": "text/x-python",
   "name": "python",
   "nbconvert_exporter": "python",
   "pygments_lexer": "ipython3",
   "version": "3.8.11"
  }
 },
 "nbformat": 4,
 "nbformat_minor": 5
}
