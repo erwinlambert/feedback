{
 "cells": [
  {
   "cell_type": "code",
   "execution_count": null,
   "id": "f8529731-f560-4d6d-8446-8ffe540a3f70",
   "metadata": {},
   "outputs": [],
   "source": [
    "import xarray as xr\n",
    "import numpy as np\n",
    "import matplotlib.pyplot as plt\n",
    "\n",
    "import sys\n",
    "sys.path.append('../src')\n",
    "import utils as ut"
   ]
  },
  {
   "cell_type": "code",
   "execution_count": null,
   "id": "a2397932-f192-4147-b2ef-ebe6f83e5c1d",
   "metadata": {},
   "outputs": [],
   "source": [
    "rftime = np.arange(150)\n",
    "basin = ut.basin[:5]\n",
    "ssp = ut.ssp\n",
    "exp = ut.exp"
   ]
  },
  {
   "cell_type": "code",
   "execution_count": null,
   "id": "64055909-57b9-441c-bc83-9f95f78f00c2",
   "metadata": {},
   "outputs": [],
   "source": [
    "tanom  = np.zeros((len(rftime),len(exp),len(basin)))\n",
    "\n",
    "#Magnitude and time scale of response \n",
    "\n",
    "mag = [1.2,2,.7,1,1] #degC\n",
    "tsc = [60,50,100,60,50] #year\n",
    "\n",
    "faclo = .1\n",
    "fachi = .6\n",
    "\n",
    "for b,bas in enumerate(basin):\n",
    "    for e,ee in enumerate(exp[:5]):\n",
    "        if b==e:\n",
    "            fac = fachi\n",
    "        else:\n",
    "            fac = faclo\n",
    "        tanom[:,e,b] = fac* mag[b]*(1-np.exp(-rftime/tsc[b]))\n",
    "\n",
    "for b,bas in enumerate(basin):\n",
    "    tanom[:,5,b] = np.sum(tanom[:,:4,b],axis=1)\n",
    "\n",
    "tanom[:,6,:] = .5* tanom[:,5,:]\n",
    "tanom[:,7,:] =  2* tanom[:,5,:]"
   ]
  },
  {
   "cell_type": "code",
   "execution_count": null,
   "id": "b7f75400-acad-4dda-9477-83de434b9681",
   "metadata": {},
   "outputs": [],
   "source": [
    "fitctrl=True"
   ]
  },
  {
   "cell_type": "code",
   "execution_count": null,
   "id": "899b07bb-6fc8-479f-9a37-8315bea1f276",
   "metadata": {},
   "outputs": [],
   "source": [
    "ds = xr.open_dataset(f'../data/temperature_ann_ctrl.nc').isel(basin=slice(0,5))\n",
    "tctrl = ds.temp\n",
    "ds.close()\n",
    "\n",
    "#Overwrite control with linear fit\n",
    "if fitctrl:\n",
    "    for b,bas in enumerate(basin):\n",
    "        out = np.polyfit(rftime,tctrl[:,b],1)\n",
    "        tctrl[:,b] = out[1] + rftime*out[0]\n",
    "\n",
    "ds = xr.open_dataset(f'../data/temperature_ann_tot2.nc').isel(basin=slice(0,5))\n",
    "yavail = len(ds.time)\n",
    "print(yavail)\n",
    "dtemp = ds.temp - tctrl[:yavail,:]\n",
    "ds.close()\n",
    "\n",
    "#Individual basin responses\n",
    "for b,bas in enumerate(basin):\n",
    "    for e,ee in enumerate(exp[:5]):\n",
    "        if b==e:\n",
    "            fac = fachi\n",
    "        else:\n",
    "            fac = faclo\n",
    "        tanom[:yavail,e,b] = fac* dtemp.sel(basin=bas)\n",
    "\n",
    "#TOTL\n",
    "tanom[:yavail,5,:] = dtemp\n",
    "\n",
    "#HALF and DOUB\n",
    "tanom[:yavail,6,:] = .5* tanom[:yavail,5,:]\n",
    "tanom[:yavail,7,:] =  2* tanom[:yavail,5,:]"
   ]
  },
  {
   "cell_type": "code",
   "execution_count": null,
   "id": "176894f7-8f71-4e9d-9ddd-de524721bacd",
   "metadata": {},
   "outputs": [],
   "source": [
    "exp = exp[:5]\n",
    "\n",
    "fig,ax = plt.subplots(len(exp),len(basin),sharex=True,sharey=True,figsize=(10,10))\n",
    "\n",
    "for e,ee in enumerate(exp):\n",
    "    for b,bas in enumerate(basin):\n",
    "        ax[e,b].plot(rftime,tanom[:,e,b],c=ut.bcol[bas])\n",
    "        ax[0,b].set_title(bas,c=ut.bcol[bas])\n",
    "    ax[e,0].set_ylabel(ee)\n",
    "        \n",
    "fig.supylabel('Temperature response [degC]')\n",
    "plt.show()"
   ]
  },
  {
   "cell_type": "code",
   "execution_count": null,
   "id": "26fe1f50-5e39-47a4-bd6e-2ebd847619b7",
   "metadata": {},
   "outputs": [],
   "source": []
  }
 ],
 "metadata": {
  "kernelspec": {
   "display_name": "Python 3 (ipykernel)",
   "language": "python",
   "name": "python3"
  },
  "language_info": {
   "codemirror_mode": {
    "name": "ipython",
    "version": 3
   },
   "file_extension": ".py",
   "mimetype": "text/x-python",
   "name": "python",
   "nbconvert_exporter": "python",
   "pygments_lexer": "ipython3",
   "version": "3.8.11"
  }
 },
 "nbformat": 4,
 "nbformat_minor": 5
}
