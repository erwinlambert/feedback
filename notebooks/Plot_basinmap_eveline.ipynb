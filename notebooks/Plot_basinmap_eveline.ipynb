{
 "cells": [
  {
   "cell_type": "code",
   "execution_count": null,
   "id": "f925740e-71ae-41d9-9c1b-ab0280ecb02f",
   "metadata": {},
   "outputs": [],
   "source": [
    "import xarray as xr\n",
    "import pyproj\n",
    "import matplotlib as mpl\n",
    "import matplotlib.pyplot as plt\n",
    "import matplotlib.ticker as mticker\n",
    "import cmocean as cmo\n",
    "import glob\n",
    "from mpl_toolkits.axes_grid1 import make_axes_locatable\n",
    "import cartopy.crs as ccrs\n",
    "from cartopy.mpl.gridliner import LONGITUDE_FORMATTER, LATITUDE_FORMATTER\n",
    "\n",
    "import numpy as np\n",
    "import copy\n",
    "import sys\n",
    "\n",
    "sys.path.append('../src')\n",
    "import utils as ut"
   ]
  },
  {
   "cell_type": "code",
   "execution_count": null,
   "id": "8b1e20d6-e644-49fe-91f9-16a97b1cae85",
   "metadata": {},
   "outputs": [],
   "source": [
    "ds = xr.open_dataset(f'../data/basinmask.nc')\n",
    "lon = ds.lon\n",
    "lat = ds.lat\n",
    "mask = ds.mask\n",
    "basin = ds.basin\n",
    "ds.close()"
   ]
  },
  {
   "cell_type": "code",
   "execution_count": null,
   "id": "194e534d-f7e4-4652-955a-95c0a5dca9bf",
   "metadata": {},
   "outputs": [],
   "source": [
    "mpl.rcParams['figure.subplot.wspace'] = .2\n",
    "mpl.rcParams['figure.subplot.left'] = .1\n",
    "mpl.rcParams['figure.subplot.right'] = .9\n",
    "mpl.rcParams['figure.figsize'] = (7,7)"
   ]
  },
  {
   "cell_type": "code",
   "execution_count": null,
   "id": "8bc9b1cb-f0b9-4e61-9f7c-94c6ac365c59",
   "metadata": {},
   "outputs": [],
   "source": [
    "fig = plt.figure()\n",
    "\n",
    "ax = fig.add_subplot(111,projection=ccrs.SouthPolarStereo())\n",
    "ax.set_extent([-180, 180, -80, -63], crs=ccrs.PlateCarree())\n",
    "for b,bas in enumerate(basin.values):\n",
    "    im = ax.scatter(lon,lat,25*np.nansum(mask[b,:,:,:],axis=0),c=ut.bcol[bas],transform=ccrs.PlateCarree(),label=bas,lw=0,alpha=1)\n",
    "ax.coastlines(lw=.1)\n",
    "ax.legend(bbox_to_anchor=(1.1,0),loc='lower left',markerscale=2)\n",
    "\n",
    "gl = ax.gridlines(crs=ccrs.PlateCarree(),draw_labels=False,color='k',linewidth=.1)\n",
    "gl.xlocator = mticker.FixedLocator(np.arange(-180,210,30))\n",
    "gl.xformatter = LONGITUDE_FORMATTER\n",
    "\n",
    "plt.savefig(f'../draftfigs/basinmap_eveline.png',dpi=450)\n",
    "plt.show()"
   ]
  },
  {
   "cell_type": "code",
   "execution_count": null,
   "id": "e4e0377c-6511-4681-8f09-0cce3b328238",
   "metadata": {},
   "outputs": [],
   "source": []
  }
 ],
 "metadata": {
  "kernelspec": {
   "display_name": "Python 3 (ipykernel)",
   "language": "python",
   "name": "python3"
  },
  "language_info": {
   "codemirror_mode": {
    "name": "ipython",
    "version": 3
   },
   "file_extension": ".py",
   "mimetype": "text/x-python",
   "name": "python",
   "nbconvert_exporter": "python",
   "pygments_lexer": "ipython3",
   "version": "3.8.11"
  }
 },
 "nbformat": 4,
 "nbformat_minor": 5
}
