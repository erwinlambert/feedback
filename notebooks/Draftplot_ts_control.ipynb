{
 "cells": [
  {
   "cell_type": "markdown",
   "id": "795e1f8c-c77a-46b4-807b-0e5a54e92ac6",
   "metadata": {},
   "source": [
    "! This file has problems running on laptop, run on workstation instead"
   ]
  },
  {
   "cell_type": "code",
   "execution_count": null,
   "id": "45ff18c1-4ea6-4863-a0e8-638e2b003bd2",
   "metadata": {},
   "outputs": [],
   "source": [
    "import xarray as xr\n",
    "import pyproj\n",
    "import matplotlib as mpl\n",
    "import matplotlib.pyplot as plt\n",
    "import matplotlib.ticker as mticker\n",
    "import cmocean as cmo\n",
    "import glob\n",
    "from mpl_toolkits.axes_grid1 import make_axes_locatable\n",
    "import cartopy.crs as ccrs\n",
    "from cartopy.mpl.gridliner import LONGITUDE_FORMATTER, LATITUDE_FORMATTER\n",
    "\n",
    "import numpy as np\n",
    "import copy\n",
    "import sys\n",
    "\n",
    "sys.path.append('../src')\n",
    "\n",
    "from alldata import AllData\n",
    "\n",
    "plt.style.use('../src/style_paper')"
   ]
  },
  {
   "cell_type": "markdown",
   "id": "04f67db5-b060-4e69-b2f3-75c46539f57b",
   "metadata": {},
   "source": [
    "Input parameters"
   ]
  },
  {
   "cell_type": "code",
   "execution_count": null,
   "id": "486137e6-b2fe-4a30-9140-bb44631140dd",
   "metadata": {},
   "outputs": [],
   "source": [
    "#Percentiles for uncertainty ranges\n",
    "perc = [17,83]"
   ]
  },
  {
   "cell_type": "markdown",
   "id": "2f7edf5e-b8cb-4f39-b868-3d00fa55bbba",
   "metadata": {},
   "source": [
    "Read annual time series"
   ]
  },
  {
   "cell_type": "code",
   "execution_count": null,
   "id": "e5f390e5-44bd-4f4c-83a5-2f82b173f655",
   "metadata": {},
   "outputs": [],
   "source": [
    "ds = xr.open_dataset(f'../data/temperature_ann_ctrl.nc').isel(basin=slice(0,5))\n",
    "basin = ds.basin\n",
    "ttime = ds.time+100 #Shift to append control after spinup\n",
    "tbas = ds.temp\n",
    "ds.close()\n",
    "\n",
    "ds = xr.open_dataset(f'../data/temperature_ann_spin.nc').isel(basin=slice(0,5))\n",
    "ttime2 = ds.time\n",
    "tbas2 = ds.temp\n",
    "ds.close()\n",
    "\n",
    "ds = xr.open_dataset(f'../data/basinmask.nc')\n",
    "lon = ds.lon\n",
    "lat = ds.lat\n",
    "mask = ds.mask\n",
    "ds.close()\n",
    "\n",
    "ad = AllData()"
   ]
  },
  {
   "cell_type": "markdown",
   "id": "afecdf2a-eecd-4a8c-9345-0ff99a1e04ca",
   "metadata": {},
   "source": [
    "Read reanalysis data"
   ]
  },
  {
   "cell_type": "code",
   "execution_count": null,
   "id": "b7e0494b-6002-4409-b39d-0b89a71586ce",
   "metadata": {},
   "outputs": [],
   "source": [
    "ds = xr.open_dataset('../data/eveline/thetao_sector_timeseries_global-reanalysis-phy-001-026-grepv1_1993_2018.nc')\n",
    "ds = ds.drop_sel(product=['mean','std'])\n",
    "evbas = ['eais','ross','amun','wedd','apen']\n",
    "\n",
    "rean = np.zeros(len(evbas))\n",
    "r_lo = np.zeros(len(evbas))\n",
    "r_hi = np.zeros(len(evbas))\n",
    "\n",
    "for b,bas in enumerate(evbas):\n",
    "    var = ds[bas].values.flatten()\n",
    "    rean[b] = np.mean(var)\n",
    "    r_lo[b] = np.percentile(var,perc[0])\n",
    "    r_hi[b] = np.percentile(var,perc[1])\n",
    "    \n",
    "ds.close()\n",
    "\n",
    "print(rean)"
   ]
  },
  {
   "cell_type": "markdown",
   "id": "4acf5439-c219-441b-8f96-be4258a3bea2",
   "metadata": {},
   "source": [
    "Read CMIP6 piControl"
   ]
  },
  {
   "cell_type": "code",
   "execution_count": null,
   "id": "4193d7ba-8638-4727-bd2c-22316594a2dc",
   "metadata": {},
   "outputs": [],
   "source": [
    "ds = xr.open_dataset('../data/temperature_cmip6_piControl.nc')\n",
    "ds = ds.isel(time=slice(0,-50))\n",
    "ctime = ds.time + 550\n",
    "ctbas = ds.temp\n",
    "ds.close()"
   ]
  },
  {
   "cell_type": "markdown",
   "id": "58fa9b9f-584d-4c61-8301-be64b9f4c1c7",
   "metadata": {},
   "source": [
    "Prepare figure"
   ]
  },
  {
   "cell_type": "code",
   "execution_count": null,
   "id": "7c0a913a-9a0a-436c-882a-c420c7e1235d",
   "metadata": {},
   "outputs": [],
   "source": [
    "mpl.rc('lines',linewidth=.5)\n",
    "mpl.rc('figure.subplot',wspace=.2,right=.9)\n",
    "\n",
    "btitle = ['a) East Antarctica','b) Ross','d) Amundsen','e) Weddell','f) Peninsula']\n",
    "\n",
    "nax = [1,2,4,5,6]\n",
    "alpha = .3\n",
    "\n",
    "savename = f'../draftfigs/ts_control.png'"
   ]
  },
  {
   "cell_type": "markdown",
   "id": "5a3f52dd-14fa-42e2-a9e3-ef66cdc57f7f",
   "metadata": {},
   "source": [
    "Make and save figure"
   ]
  },
  {
   "cell_type": "code",
   "execution_count": null,
   "id": "18a6fd66-2b40-4a9b-98a3-52d78bf88e0a",
   "metadata": {},
   "outputs": [],
   "source": [
    "fig = plt.figure()\n",
    "\n",
    "#Create map of ocean basins\n",
    "ax = fig.add_subplot(233,projection=ccrs.SouthPolarStereo())\n",
    "ax.set_extent([-180, 180, -80, -63], crs=ccrs.PlateCarree())\n",
    "for b,bas in enumerate(basin.values):\n",
    "    im = ax.scatter(lon,lat,15*np.nansum(mask[b,:,:,:],axis=0),c=ad.bcol[bas],transform=ccrs.PlateCarree(),label=bas,lw=0,alpha=1)\n",
    "ax.coastlines(lw=.1)\n",
    "ax.set_title('c) Ocean basins',loc='left')\n",
    "gl = ax.gridlines(crs=ccrs.PlateCarree(),draw_labels=False,color='k',linewidth=.1)\n",
    "gl.xlocator = mticker.FixedLocator(np.arange(-180,210,30))\n",
    "gl.xformatter = LONGITUDE_FORMATTER\n",
    "\n",
    "#Plot time series of pi control, spinup and new control per basin\n",
    "for b,bas in enumerate(basin.values):\n",
    "    ax = fig.add_subplot(2,3,nax[b])\n",
    "    temp = tbas.sel(basin=bas)\n",
    "\n",
    "    ax.plot(ttime,temp,c=ad.bcol[bas],zorder=9)\n",
    "    ax.plot(ttime2,tbas2.sel(basin=bas),c=ad.bcol[bas],zorder=9)\n",
    "    ax.plot(ctime,ctbas.sel(basin=bas),color='k')        \n",
    "        \n",
    "    ax.fill_between([ctime[0],ttime[-1]],[r_lo[b],r_lo[b]],[r_hi[b],r_hi[b]],color='tab:olive',alpha=alpha,clip_on=False,label=f'Reanalysis',lw=0)\n",
    "    ax.fill_between([ctime[0],ctime[-1]],[np.percentile(ctbas.sel(basin=bas),perc[0]),np.percentile(ctbas.sel(basin=bas),perc[0])],[np.percentile(ctbas.sel(basin=bas),perc[1]),np.percentile(ctbas.sel(basin=bas),perc[1])],color='k',alpha=alpha,lw=0,clip_on=False)\n",
    "    ax.fill_between([ttime[-150],ttime[-1]],[np.percentile(temp[-150:],perc[0]),np.percentile(temp[-150:],perc[0])],[np.percentile(temp[-150:],perc[1]),np.percentile(temp[-150:],perc[1])],color=ad.bcol[bas],alpha=alpha,lw=0,clip_on=False)\n",
    "    \n",
    "    #Include labels and titles\n",
    "    ax.set_title(btitle[b],loc='left')\n",
    "\n",
    "    if nax[b] == 1:\n",
    "        ax.legend(loc='upper left')\n",
    "    \n",
    "    if nax[b] == 5:\n",
    "        ax.set_xlabel('Time [years]')\n",
    "    if nax[b] in [1,2]:\n",
    "        ax.set_xticklabels([])\n",
    "    if nax[b] not in [1,4]:\n",
    "        ax.set_yticklabels([])\n",
    "    if nax[b] == 4:\n",
    "        ax.text(ctime[0]/2,-1.7,'CMIP 6\\npiControl',ha='center')\n",
    "        \n",
    "        ax.text(50,-1.7,'spin\\nup',ha='center',c='tab:red')\n",
    "        ax.text(175,-1.7,'CTRL',ha='center',c='tab:red')\n",
    "\n",
    "    #Some other specifications\n",
    "    ax.set_ylim([-2,3])\n",
    "    ax.set_xticks([-450,0,100,250])\n",
    "    ax.set_xlim([-450,250])\n",
    "    ax.grid(True,axis='x',linewidth=.3,color='k')\n",
    "    \n",
    "fig.supylabel('Subsurface ocean temperature [degC]',fontsize=9)\n",
    "\n",
    "plt.savefig(savename)\n",
    "plt.show()"
   ]
  },
  {
   "cell_type": "code",
   "execution_count": null,
   "id": "bd498127-b88f-4aba-bcad-5b66b40cd265",
   "metadata": {},
   "outputs": [],
   "source": []
  },
  {
   "cell_type": "code",
   "execution_count": null,
   "id": "56e2d9fe-fea9-4721-9faa-e0b14ec653e6",
   "metadata": {},
   "outputs": [],
   "source": []
  }
 ],
 "metadata": {
  "kernelspec": {
   "display_name": "Python 3 (ipykernel)",
   "language": "python",
   "name": "python3"
  },
  "language_info": {
   "codemirror_mode": {
    "name": "ipython",
    "version": 3
   },
   "file_extension": ".py",
   "mimetype": "text/x-python",
   "name": "python",
   "nbconvert_exporter": "python",
   "pygments_lexer": "ipython3",
   "version": "3.8.11"
  }
 },
 "nbformat": 4,
 "nbformat_minor": 5
}
