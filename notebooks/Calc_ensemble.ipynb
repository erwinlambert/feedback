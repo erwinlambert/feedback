{
 "cells": [
  {
   "cell_type": "markdown",
   "id": "fdd590cf-e8ed-4c23-b16e-0d33727e5f9c",
   "metadata": {},
   "source": [
    "Calculate ensemble of sea level projections"
   ]
  },
  {
   "cell_type": "code",
   "execution_count": null,
   "id": "31fe2692-ed70-4a04-ab7b-ca095a7092dd",
   "metadata": {},
   "outputs": [],
   "source": [
    "import numpy as np\n",
    "import xarray as xr\n",
    "\n",
    "import sys\n",
    "sys.path.append('../src')\n",
    "import utils as ut"
   ]
  },
  {
   "cell_type": "code",
   "execution_count": null,
   "id": "54409f3c-cccc-4b6d-827c-845db946b2e3",
   "metadata": {},
   "outputs": [],
   "source": [
    "#year0 = 1851\n",
    "year0 = 1951\n",
    "\n",
    "year1 = year0+149"
   ]
  },
  {
   "cell_type": "code",
   "execution_count": null,
   "id": "df01841f-55df-41e8-9453-d6e5b98db643",
   "metadata": {},
   "outputs": [],
   "source": [
    "ds = xr.open_dataset(f'../data/alldata_{year0}_{year1}.nc')\n",
    "ds = ds.isel(exp=slice(0,5))\n",
    "\n",
    "#Extract few models for quick calcs\n",
    "#ds = ds.isel(esm=slice(0,2),ism=slice(0,2))"
   ]
  },
  {
   "cell_type": "code",
   "execution_count": null,
   "id": "8333419a-e8e3-4c92-bd3c-37ae8dbb748a",
   "metadata": {},
   "outputs": [],
   "source": [
    "for b,bmp in enumerate(ut.bmps):\n",
    "    slr_nf = np.zeros((len(ds.ssp),len(ds.esm),len(ds.ism),len(ds.time)))\n",
    "    slr_wf = np.zeros((len(ds.ssp),len(ds.esm),len(ds.ism),len(ds.time)))\n",
    "    for s,ss in enumerate(ds.ssp.values):\n",
    "        for e,es in enumerate(ds.esm.values):\n",
    "            for i,ii in enumerate(ds.ism.values):\n",
    "                TMP,IML,SLR = ut.iterate(ds,ism=ii,esm=es,ssp=ss,bmp=bmp)\n",
    "                slr_nf[s,e,i,:] = np.sum(SLR[0,:,:],axis=1)\n",
    "                slr_wf[s,e,i,:] = np.sum(SLR[-1,:,:],axis=1)\n",
    "                print(f'{bmp:4s}',ss,f'{es:14s}',f'{ii:10s}',f'{slr_nf[s,e,i,-1]: .3f}',f'{slr_wf[s,e,i,-1]: .3f}')       \n",
    "    #Save\n",
    "    slr_nf2 = xr.DataArray(slr_nf,dims=('ssp','esm','ism','time'),coords={'ssp':ds.ssp,'esm':ds.esm,'ism':ds.ism,'time':ds.time},attrs={'unit':'m','long_name':'Cumulative sea level rise without feedback'})\n",
    "    slr_wf2 = xr.DataArray(slr_wf,dims=('ssp','esm','ism','time'),coords={'ssp':ds.ssp,'esm':ds.esm,'ism':ds.ism,'time':ds.time},attrs={'unit':'m','long_name':'Cumulative sea level rise with feedback'})\n",
    "\n",
    "    ds2 = xr.Dataset({'slr_nf':slr_nf2,'slr_wf':slr_wf2})\n",
    "    ds2.to_netcdf(f'../data/ensemble_{bmp}_{year0}_{year1}.nc',mode='w')\n",
    "    ds2.close()\n",
    "    print(f'Saved {bmp}')\n",
    "ds.close()"
   ]
  },
  {
   "cell_type": "code",
   "execution_count": null,
   "id": "f704f21d-62c5-4f3c-a497-3ab4dd47bb8b",
   "metadata": {},
   "outputs": [],
   "source": []
  }
 ],
 "metadata": {
  "kernelspec": {
   "display_name": "Python 3 (ipykernel)",
   "language": "python",
   "name": "python3"
  },
  "language_info": {
   "codemirror_mode": {
    "name": "ipython",
    "version": 3
   },
   "file_extension": ".py",
   "mimetype": "text/x-python",
   "name": "python",
   "nbconvert_exporter": "python",
   "pygments_lexer": "ipython3",
   "version": "3.8.11"
  }
 },
 "nbformat": 4,
 "nbformat_minor": 5
}
