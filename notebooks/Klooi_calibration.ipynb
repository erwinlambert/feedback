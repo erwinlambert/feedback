{
 "cells": [
  {
   "cell_type": "code",
   "execution_count": null,
   "id": "154616da-4d3e-47c2-a709-acd2892cc533",
   "metadata": {},
   "outputs": [],
   "source": [
    "import xarray as xr\n",
    "import matplotlib as mpl\n",
    "import matplotlib.pyplot as plt\n",
    "import numpy as np\n",
    "import copy\n",
    "import sys\n",
    "\n",
    "sys.path.append('../src')\n",
    "import utils as ut\n",
    "\n",
    "from alldata import AllData\n",
    "from ensemble import EnsembleMember\n",
    "\n",
    "#np.set_printoptions(precision=2)\n",
    "%matplotlib notebook\n",
    "%matplotlib inline\n",
    "%config InlineBackend.print_figure_kwargs={'bbox_inches':None}\n",
    "%load_ext autoreload\n",
    "%autoreload 2"
   ]
  },
  {
   "cell_type": "code",
   "execution_count": null,
   "id": "e595d007-fa48-4da6-89c7-b041b494a7d5",
   "metadata": {},
   "outputs": [],
   "source": [
    "#Read data\n",
    "ad = AllData()\n",
    "ds = ad.gather().drop_sel(ism='PISM_DMI')"
   ]
  },
  {
   "cell_type": "code",
   "execution_count": null,
   "id": "bc0ce27b-0ca2-4ddb-bd34-ecee95275935",
   "metadata": {},
   "outputs": [],
   "source": [
    "year0 = 1871\n",
    "\n",
    "ssp = '245'\n",
    "\n",
    "bmsens = [4/(ad.K*ad.spy),7/(ad.K*ad.spy),16/(ad.K*ad.spy),18e-5,36e-5,72e-5]\n",
    "bmps = ['lin','lin','lin','quad','quad','quad']"
   ]
  },
  {
   "cell_type": "code",
   "execution_count": null,
   "id": "6614cd2d-f96b-4f9b-90a9-8052ad323b9a",
   "metadata": {},
   "outputs": [],
   "source": [
    "nyears = 41\n",
    "time = ds.time[-nyears:]\n",
    "\n",
    "VARwf = np.zeros((len(ds.esm)*len(ds.ism),len(bmsens),nyears,len(ds.basin)))\n",
    "VARnf = np.zeros((len(ds.esm)*len(ds.ism),len(bmsens),nyears,len(ds.basin)))\n",
    "\n",
    "c=0\n",
    "d= -1\n",
    "for e,esm in enumerate(ds.esm.values):\n",
    "    for i,ism in enumerate(ds.ism.values):\n",
    "        d+=1\n",
    "        for bm,bms in enumerate(bmsens):\n",
    "            c+=1\n",
    "            ens = EnsembleMember(ds,ism=ism,esm=esm,ssp=ssp)\n",
    "            ens.bmp = bmps[bm]\n",
    "            ens.gamma[bmp] = bms*np.ones(5)\n",
    "            ens.iterate()\n",
    "            VARwf[d,bm,:,:] = 1000*(ens.SLR[-1,-nyears:,:]-ens.SLR[-1,-nyears,:])\n",
    "            VARnf[d,bm,:,:] = 1000*(ens.SLR[0,-nyears:,:]-ens.SLR[0,-nyears,:])\n",
    "\n",
    "            print(f'Got esm {e+1} of {len(ds.esm)} | ism {i+1} of {len(ds.ism)} | bmp {bm+1} of {len(bmsens)} | {100*c/(len(ds.esm)*len(ds.ism)*len(bmsens)):.0f}% ',end='           \\r')"
   ]
  },
  {
   "cell_type": "code",
   "execution_count": null,
   "id": "8e92bddb-6f1b-4e32-8f0c-d26d6e37a7ea",
   "metadata": {},
   "outputs": [],
   "source": [
    "mpl.rcParams['figure.subplot.wspace'] = .1\n",
    "mpl.rcParams['figure.subplot.left'] = .1\n",
    "mpl.rcParams['figure.subplot.right'] = .99\n",
    "mpl.rcParams['figure.figsize'] = (15,15)"
   ]
  },
  {
   "cell_type": "code",
   "execution_count": null,
   "id": "b31cdd77-0602-4874-b7e7-456026c0563d",
   "metadata": {},
   "outputs": [],
   "source": [
    "rignot = [3,-2,10,-1,2]"
   ]
  },
  {
   "cell_type": "code",
   "execution_count": null,
   "id": "1a6bf97b-903c-422e-b2a3-734dfdd50f09",
   "metadata": {},
   "outputs": [],
   "source": [
    "fig,ax = plt.subplots(5,len(bmsens),sharex=True,sharey=True)\n",
    "\n",
    "for bm,bms in enumerate(bmsens):\n",
    "    for b,bas in enumerate(ds.basin.values):\n",
    "        dax = ax[b,bm]\n",
    "        dax.axhline(0,0,1,c='k',lw=.3,ls=':')\n",
    "\n",
    "        dax.plot(time,np.median(VARnf[:,bm,:,b],axis=0),c='.5',lw=2)\n",
    "        dax.fill_between(time,np.percentile(VARnf[:,bm,:,b],17,axis=0),np.percentile(VARnf[:,bm,:,b],83,axis=0),color='.5',alpha=.3)\n",
    "        \n",
    "        dax.plot(time,np.median(VARwf[:,bm,:,b],axis=0),c=ut.bcol[bas],lw=2)\n",
    "        dax.fill_between(time,np.percentile(VARwf[:,bm,:,b],17,axis=0),np.percentile(VARwf[:,bm,:,b],83,axis=0),color=ut.bcol[bas],alpha=.3)\n",
    "\n",
    "        dax.scatter(2017,rignot[b],200,marker='X',c='k')\n",
    "    ax[0,bm].set_title(f'{bmps[bm]} {1e5*bms:.1f}e5 m/s')\n",
    "\n",
    "for b,bas in enumerate(ds.basin.values):\n",
    "    ax[b,0].set_ylabel(bas)\n",
    "    \n",
    "ax[0,0].set_xlim([1979,2020])\n",
    "ax[0,0].set_ylim([-5,15])\n",
    "\n",
    "fig.supylabel('Sea level rise [mm]')\n",
    "plt.savefig(f'../draftfigs/calibration{ad.option}.png',dpi=450,facecolor='w',transparent=False)\n",
    "plt.show()\n",
    "ds.close()"
   ]
  },
  {
   "cell_type": "code",
   "execution_count": null,
   "id": "b764e143-0def-47c1-b539-f8f94348fed9",
   "metadata": {},
   "outputs": [],
   "source": []
  }
 ],
 "metadata": {
  "kernelspec": {
   "display_name": "Python 3 (ipykernel)",
   "language": "python",
   "name": "python3"
  },
  "language_info": {
   "codemirror_mode": {
    "name": "ipython",
    "version": 3
   },
   "file_extension": ".py",
   "mimetype": "text/x-python",
   "name": "python",
   "nbconvert_exporter": "python",
   "pygments_lexer": "ipython3",
   "version": "3.8.11"
  }
 },
 "nbformat": 4,
 "nbformat_minor": 5
}
