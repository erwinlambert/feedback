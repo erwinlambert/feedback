{
 "cells": [
  {
   "cell_type": "code",
   "execution_count": null,
   "metadata": {},
   "outputs": [],
   "source": [
    "import xarray as xr\n",
    "import pyproj\n",
    "import matplotlib as mpl\n",
    "import matplotlib.pyplot as plt\n",
    "import cmocean as cmo\n",
    "from mpl_toolkits.axes_grid1 import make_axes_locatable\n",
    "import cartopy.crs as ccrs\n",
    "import numpy as np\n",
    "import copy"
   ]
  },
  {
   "cell_type": "code",
   "execution_count": null,
   "metadata": {},
   "outputs": [],
   "source": [
    "ds = xr.open_dataset('../data/ecefiles/runoff_depth.nc')\n",
    "ds"
   ]
  },
  {
   "cell_type": "code",
   "execution_count": null,
   "metadata": {},
   "outputs": [],
   "source": [
    "proj = ccrs.SouthPolarStereo()\n",
    "cmap = copy.copy(mpl.cm.get_cmap(\"cmo.thermal_r\"));\n",
    "cmap.set_under('w')\n",
    "cmap.set_bad('w')\n",
    "cmap.set_over('w')"
   ]
  },
  {
   "cell_type": "code",
   "execution_count": null,
   "metadata": {},
   "outputs": [],
   "source": [
    "lon = ds.nav_lon\n",
    "lat = ds.nav_lat\n",
    "dep = ds['rodepth']\n",
    "depp = dep.values[0,:,:]"
   ]
  },
  {
   "cell_type": "code",
   "execution_count": null,
   "metadata": {},
   "outputs": [],
   "source": [
    "fig = plt.figure(figsize=(13,10))\n",
    "ax = fig.add_subplot(111,projection=proj)\n",
    "ax.set_extent([-180,180, -80, -53], crs=ccrs.PlateCarree())\n",
    "im = ax.scatter(lon[:,1:-1],lat[:,1:-1],10,c=depp[:,1:-1],cmap=cmap,transform=ccrs.PlateCarree(),vmin=0,vmax=100)\n",
    "ax.coastlines(lw=.1)\n",
    "plt.colorbar(im)\n",
    "plt.show()"
   ]
  },
  {
   "cell_type": "code",
   "execution_count": null,
   "metadata": {},
   "outputs": [],
   "source": [
    "#Get distance from Antarctic coast\n",
    "dss = xr.open_dataset('../data/ecefiles/masks.nc')\n",
    "msk = dss['O1t0.msk']\n",
    "dss.close()\n",
    "\n",
    "mask = np.where(msk==1,1,1e12)[:,1:-1]\n",
    "cdist = np.zeros((depp.shape))+1000\n",
    "Re = 6371 #km\n",
    "\n",
    "for j in range(depp.shape[0]):\n",
    "    for i in range(depp.shape[1]):\n",
    "        if lat[j,i] > -50:\n",
    "            continue\n",
    "        \n",
    "        #Haversine formula\n",
    "        dist = 2*Re*np.arcsin(np.sqrt(np.sin(np.deg2rad(0.5*(lat[:,1:-1]-lat[j,i])))**2+np.cos(np.deg2rad(lat[j,i]))*np.cos(np.deg2rad(lat[:,1:-1]))*np.sin(np.deg2rad(0.5*(lon[:,1:-1]-lon[j,i])))**2))\n",
    "        dist = np.where(dist==0,1,dist)\n",
    "        dist = np.where(lat[:,1:-1]>-60,1e12,dist)\n",
    "        cdist[j,i] = np.minimum(1000,np.min(dist*mask))"
   ]
  },
  {
   "cell_type": "code",
   "execution_count": null,
   "metadata": {},
   "outputs": [],
   "source": [
    "proj = ccrs.SouthPolarStereo()\n",
    "fig = fig = plt.figure(figsize=(13,10))\n",
    "\n",
    "ax = fig.add_subplot(111,projection=proj)\n",
    "ax.set_extent([-180,180, -80, -53], crs=ccrs.PlateCarree())\n",
    "im = ax.scatter(lon,lat,15,c=cdist,cmap=cmap,transform=ccrs.PlateCarree(),vmin=2,vmax=999)\n",
    "ax.coastlines(lw=.1)\n",
    "\n",
    "plt.colorbar(im)\n",
    "plt.show()"
   ]
  },
  {
   "cell_type": "code",
   "execution_count": null,
   "metadata": {},
   "outputs": [],
   "source": [
    "depp2 = np.where(np.logical_and(cdist>1,cdist<150),200,depp)\n",
    "\n",
    "fig = fig = plt.figure(figsize=(24,8))\n",
    "\n",
    "ax = fig.add_subplot(121,projection=proj)\n",
    "ax.set_extent([-180,180, -80, -3], crs=ccrs.PlateCarree())\n",
    "im = ax.scatter(lon,lat,15,c=depp,cmap=cmap,transform=ccrs.PlateCarree(),vmin=0,vmax=200)\n",
    "ax.coastlines(lw=.1)\n",
    "\n",
    "ax = fig.add_subplot(122,projection=proj)\n",
    "ax.set_extent([-180,180, -80, -3], crs=ccrs.PlateCarree())\n",
    "im = ax.scatter(lon,lat,15,c=depp2,cmap=cmap,transform=ccrs.PlateCarree(),vmin=0,vmax=200)\n",
    "ax.coastlines(lw=.1)\n",
    "\n",
    "\n",
    "plt.colorbar(im)\n",
    "plt.show()"
   ]
  },
  {
   "cell_type": "code",
   "execution_count": null,
   "metadata": {},
   "outputs": [],
   "source": [
    "#Save new depth file\n",
    "ds['rodepth'][0,:,:] = depp2\n",
    "\n",
    "ds.to_netcdf('../data/inputfiles/runoff_depth.nc')"
   ]
  },
  {
   "cell_type": "code",
   "execution_count": null,
   "metadata": {},
   "outputs": [],
   "source": []
  }
 ],
 "metadata": {
  "kernelspec": {
   "display_name": "Python 3 (ipykernel)",
   "language": "python",
   "name": "python3"
  },
  "language_info": {
   "codemirror_mode": {
    "name": "ipython",
    "version": 3
   },
   "file_extension": ".py",
   "mimetype": "text/x-python",
   "name": "python",
   "nbconvert_exporter": "python",
   "pygments_lexer": "ipython3",
   "version": "3.8.11"
  }
 },
 "nbformat": 4,
 "nbformat_minor": 4
}
