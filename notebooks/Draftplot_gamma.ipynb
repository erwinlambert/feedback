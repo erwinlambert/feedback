{
 "cells": [
  {
   "cell_type": "code",
   "execution_count": null,
   "id": "2a09425a-3195-46d1-875d-76582f7ff3c6",
   "metadata": {},
   "outputs": [],
   "source": [
    "import numpy as np\n",
    "import xarray as xr\n",
    "import matplotlib as mpl\n",
    "import matplotlib.pyplot as plt\n",
    "\n",
    "import sys\n",
    "sys.path.append('../src')\n",
    "\n",
    "from alldata import AllData\n",
    "from ensemble import EnsembleMember,FullEnsemble\n",
    "\n",
    "np.set_printoptions(precision=2)\n",
    "%matplotlib notebook\n",
    "%matplotlib inline\n",
    "%config InlineBackend.print_figure_kwargs={'bbox_inches':None}\n",
    "%load_ext autoreload\n",
    "%autoreload 2"
   ]
  },
  {
   "cell_type": "code",
   "execution_count": null,
   "id": "eef93bc2-b2b4-4847-8ed6-26d8eeff4089",
   "metadata": {},
   "outputs": [],
   "source": [
    "ad = AllData()\n",
    "ad.usefanom = True\n",
    "ad.gather(update=False)\n",
    "\n",
    "fe = FullEnsemble(ad)\n",
    "fe.gather(force_update=False)"
   ]
  },
  {
   "cell_type": "code",
   "execution_count": null,
   "id": "6b3f4b2d-fada-4a86-9248-c24a81045853",
   "metadata": {},
   "outputs": [],
   "source": [
    "plt.style.use('../src/style_paper')\n",
    "mpl.rc('figure.subplot',left=.2,bottom=.2)"
   ]
  },
  {
   "cell_type": "code",
   "execution_count": null,
   "id": "e80df928-a571-4bc6-b262-2911d654c12a",
   "metadata": {},
   "outputs": [],
   "source": [
    "fig,ax = plt.subplots(1,1,sharex=True,sharey='row',figsize=(3.5,3.5))\n",
    "\n",
    "gamma0 = np.array(fe.gamma[0,:,:]).flatten()\n",
    "gamma1 = np.array(fe.gamma[1,:,:]).flatten()\n",
    "\n",
    "print(len(gamma0))\n",
    "\n",
    "gamma0 = np.where(gamma0<0,np.nan,gamma0)\n",
    "gamma0 = np.where(np.isnan(gamma1),np.nan,gamma0)\n",
    "gamma1 = np.where(np.isnan(gamma0),np.nan,gamma1)\n",
    "\n",
    "gamma0 = gamma0[~np.isnan(gamma0)]\n",
    "gamma1 = gamma1[~np.isnan(gamma1)]\n",
    "print(len(gamma0),len(gamma1))\n",
    "\n",
    "gammaE = np.array([.5,.5,1,1,1,2.3,2.3,2.3,2.3,2.3,4.5,4.5,4.5,8])\n",
    "\n",
    "ax.boxplot([gammaE,gamma0,gamma1],showfliers=False,widths=.5,notch=False)#,labels=['L2022','Before recal.','After recal.'])\n",
    "for gammaJ in [7710,15300]:\n",
    "    ax.plot([-1.125,-1+.125],np.array([gammaJ,gammaJ])*(1028*3974/(918*3.34e5))**2,c='k')\n",
    "ax.plot([-1,-1],np.array([7710,15300])*(1028*3974/(918*3.34e5))**2,c='k')\n",
    "    \n",
    "ax.plot([-1.25,-1+.25],np.array([11100,11100])*(1028*3974/(918*3.34e5))**2,c='tab:orange')\n",
    "\n",
    "for gammaJ in [9620,21000]:\n",
    "    ax.plot([-.125,.125],np.array([gammaJ,gammaJ])*(1028*3974/(918*3.34e5))**2,c='k')\n",
    "ax.plot([0,0],np.array([9620,21000])*(1028*3974/(918*3.34e5))**2,c='k')\n",
    "\n",
    "    \n",
    "ax.plot([-.25,.25],np.array([14500,14500])*(1028*3974/(918*3.34e5))**2,c='tab:orange')\n",
    "\n",
    "    \n",
    "#ax.violinplot([gammaE,gamma0,gamma1],showextrema=False,showmedians=True,quantiles=[[.17,.83],[.17,.83],[.17,.83]])#,showfliers=False,widths=.5,notch=False,labels=['L2022','Before recal.','After recal.'])\n",
    "ax.set_xticks([-1,0,1,2,3])\n",
    "ax.set_xticklabels(['J2020\\nlocal','J2020\\nnonlocal','L2022','Before\\nrecal.','After\\nrecal.'])\n",
    "\n",
    "\n",
    "ax.set_ylim([0,10])\n",
    "\n",
    "ax.set_ylabel(r'Basal melt parameter $\\gamma$ [m yr$^{-1}$ $\\degree$C$^{-2}$]')\n",
    "\n",
    "plt.savefig(f'../draftfigs/gamma_distribution.png',dpi=450,facecolor='w',transparent=False)\n",
    "plt.show()\n"
   ]
  },
  {
   "cell_type": "code",
   "execution_count": null,
   "id": "793dcbd4-28b0-43b4-8ddf-7047bdd6e3e4",
   "metadata": {},
   "outputs": [],
   "source": []
  }
 ],
 "metadata": {
  "kernelspec": {
   "display_name": "Python 3 (ipykernel)",
   "language": "python",
   "name": "python3"
  },
  "language_info": {
   "codemirror_mode": {
    "name": "ipython",
    "version": 3
   },
   "file_extension": ".py",
   "mimetype": "text/x-python",
   "name": "python",
   "nbconvert_exporter": "python",
   "pygments_lexer": "ipython3",
   "version": "3.8.11"
  }
 },
 "nbformat": 4,
 "nbformat_minor": 5
}
