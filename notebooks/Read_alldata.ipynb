{
 "cells": [
  {
   "cell_type": "code",
   "execution_count": null,
   "id": "9fdf5b03-c62a-4e41-a4d8-68751468ff80",
   "metadata": {},
   "outputs": [],
   "source": [
    "import xarray as xr\n",
    "import numpy as np\n",
    "import matplotlib.pyplot as plt\n",
    "\n",
    "import sys\n",
    "sys.path.append('../src')\n",
    "import utils as ut"
   ]
  },
  {
   "cell_type": "markdown",
   "id": "b42c86e9-3358-4e83-99d9-2e6e3da27210",
   "metadata": {},
   "source": [
    "General input"
   ]
  },
  {
   "cell_type": "code",
   "execution_count": null,
   "id": "a3fa2a84-8e28-4f0d-9da1-8899db4c9bea",
   "metadata": {},
   "outputs": [],
   "source": [
    "option = 'detrend_mix_biasadj_'\n",
    "\n",
    "year0,year1 = 1951,2100\n",
    "#year0,year1 = 1851,2000"
   ]
  },
  {
   "cell_type": "markdown",
   "id": "29d5e5ab-d525-44cf-8001-80f10eb50491",
   "metadata": {},
   "source": [
    "Indicate which runs are ready"
   ]
  },
  {
   "cell_type": "code",
   "execution_count": null,
   "id": "c4f4770b-5ad0-424b-be83-36cfd9a27a30",
   "metadata": {},
   "outputs": [],
   "source": [
    "ready = {}\n",
    "ready['eais'] = False\n",
    "ready['ross'] = False\n",
    "ready['amun'] = False\n",
    "ready['wedd'] = False\n",
    "ready['pens'] = False\n",
    "ready['totl'] = False #When True, can remove dummy ORF code below\n",
    "ready['half'] = False\n",
    "ready['doub'] = False\n",
    "\n",
    "#When all true, can remove TOTL-based ORFs and 'ready'-dependence"
   ]
  },
  {
   "cell_type": "markdown",
   "id": "e88b9f73-bb6d-413a-8f23-e9243b17715f",
   "metadata": {},
   "source": [
    "Read some other input data - do not change"
   ]
  },
  {
   "cell_type": "code",
   "execution_count": null,
   "id": "0767a487-7c72-43ff-b52c-12d622ce9848",
   "metadata": {},
   "outputs": [],
   "source": [
    "nyears = year1-year0+1\n",
    "rftime = np.arange(nyears)\n",
    "basin = ut.basin[:5]\n",
    "ssp = ut.ssp\n",
    "exp = ut.exp"
   ]
  },
  {
   "cell_type": "markdown",
   "id": "4fd0c88d-5593-40d2-874a-69063999a29b",
   "metadata": {},
   "source": [
    "Define ice sheet model names, different names for IRF and SRF data"
   ]
  },
  {
   "cell_type": "code",
   "execution_count": null,
   "id": "0bf81eff-d6be-4b63-a8b5-13e93c1d457f",
   "metadata": {},
   "outputs": [],
   "source": [
    "ism   = ['CISM_NCA','FETI_ULB','GRIS_LSC','IMAU_UU','ISSM_UCI','MALI_DOE','PISM_DMI','PISM_PIK','SICO_ILTS']\n",
    "\n",
    "\n",
    "ism_i = ['CISM_NCA','FETISH_ULB','GRIS_LSC','IMAU_VUB','ISSM_UCI','MALI_DOE','PISM_DMI','PISM_PIK','SICO_ILTS']\n",
    "ism_s = ['CISM_NCA','FETI_VUB','GRIS_LSC','IMAU_VUB','ISSM_UCI','MALI_LAN','PISM_DMI','PISM_PIK','SICO_UHO']\n",
    "region = ['R1','R2','R3','R4','R5']"
   ]
  },
  {
   "cell_type": "markdown",
   "id": "d7d8f316-e79b-418b-b781-b9c3b969a2fc",
   "metadata": {},
   "source": [
    "Read IRFs and SRFs"
   ]
  },
  {
   "cell_type": "code",
   "execution_count": null,
   "id": "118125a4-80fd-4394-878c-b3c55b2c69cb",
   "metadata": {},
   "outputs": [],
   "source": [
    "#Read IRF\n",
    "irf  = np.zeros((len(rftime),len(ism),len(basin)))\n",
    "for i,ii in enumerate(ism_i):\n",
    "    for r,reg in enumerate(region):\n",
    "        with open(f'../data/Larmip/RFunctions_total/RF_{ii}_BM08_{reg}.dat') as f:\n",
    "            irf[:,i,r] = np.array([float(x) for x in f.readlines()])[:nyears]\n",
    "\n",
    "#Read SRF\n",
    "srf  = np.zeros((len(rftime),len(ism),len(basin)))\n",
    "for i,ii in enumerate(ism_s):\n",
    "    for r,reg in enumerate(region):\n",
    "        with open(f'../data/Larmip/RFunctions/RF_{ii}_BM08_{reg}.dat') as f:\n",
    "            srf[:,i,r] = np.array([float(x) for x in f.readlines()])[:nyears]"
   ]
  },
  {
   "cell_type": "markdown",
   "id": "4dcd8bc8-17b1-4259-bcc3-32914ffc5c9c",
   "metadata": {},
   "source": [
    "Get metadata for CMIP6 temperature files from Eveline"
   ]
  },
  {
   "cell_type": "code",
   "execution_count": null,
   "id": "a5f0ecf2-414b-430e-be65-887d1a89de50",
   "metadata": {},
   "outputs": [],
   "source": [
    "#Get available ESMs for CMIP6 temperature data\n",
    "mods = {}\n",
    "for s,ss in enumerate(ssp):\n",
    "    ds2 = xr.open_dataset(f'../data/eveline/thetao_{option}sector_timeseries_historical+ssp{ss}_1850_2100.nc')\n",
    "    mods[ss] = ds2.model.values\n",
    "allmods = set(mods[ssp[0]]) & set(mods[ssp[1]]) & set(mods[ssp[2]])\n",
    "esm = sorted(np.array([mod for mod in allmods]))\n",
    "print(len(esm),esm)\n",
    "\n",
    "#Get coordinates from Eveline's file\n",
    "ds2 = xr.open_dataset(f'../data/eveline/thetao_{option}sector_timeseries_historical+ssp{ssp[0]}_1850_2100.nc')\n",
    "ds2 = ds2.sel(year=slice(year0,year1))\n",
    "evbas = ['eais','ross','amun','wedd','apen']\n",
    "\n",
    "time = ds2.year.values\n",
    "ds2.close()"
   ]
  },
  {
   "cell_type": "markdown",
   "id": "f6972b36-e499-468f-afc9-de6b496b5520",
   "metadata": {},
   "source": [
    "Read temperature time series"
   ]
  },
  {
   "cell_type": "code",
   "execution_count": null,
   "id": "bf96fc23-3695-40bf-a674-51160b6ee747",
   "metadata": {},
   "outputs": [],
   "source": [
    "#Read temperature\n",
    "\n",
    "temp = np.zeros((len(time),len(esm),len(ssp),len(basin)))\n",
    "for s,ss in enumerate(ssp):\n",
    "    ds2 = xr.open_dataset(f'../data/eveline/thetao_{option}sector_timeseries_historical+ssp{ss}_1850_2100.nc')\n",
    "    ds2 = ds2.sel(year=slice(year0,year1))\n",
    "    for e,es in enumerate(esm):\n",
    "        for b,eb in enumerate(evbas):\n",
    "            temp[:,e,s,b] = ds2[eb].sel(model=es).values\n",
    "        #print(ss,es,temp[-1,e,s,:])\n",
    "    ds2.close()"
   ]
  },
  {
   "cell_type": "markdown",
   "id": "aa818c86-5c58-4988-b0a1-7c02cc645238",
   "metadata": {},
   "source": [
    "Create dummy ORFs \n",
    "\n",
    "*Remove when TOTL run is ready*"
   ]
  },
  {
   "cell_type": "code",
   "execution_count": null,
   "id": "577a9d15-a08a-4180-b0a1-a56f149aad14",
   "metadata": {},
   "outputs": [],
   "source": [
    "orf  = np.zeros((len(rftime),len(exp),len(basin)))\n",
    "\n",
    "#Magnitude and time scale of response \n",
    "\n",
    "pert = 400 #Gt/yr\n",
    "\n",
    "mag = [.4,.3,-.3,.4,.1] #degC\n",
    "tsc = [20,10,20,30,50] #year\n",
    "\n",
    "for b,bas in enumerate(basin):\n",
    "    orf[:,b,b] = mag[b]*(1-np.exp(-rftime/tsc[b]))/pert\n",
    "\n",
    "for b,bas in enumerate(basin):\n",
    "    orf[:,5,b] = orf[:,b,b]\n",
    "\n",
    "orf[:,6,:] = .5* orf[:,5,:]\n",
    "orf[:,7,:] =  2* orf[:,5,:]"
   ]
  },
  {
   "cell_type": "markdown",
   "id": "d01797cc-c035-4e36-adfa-cc51a93aeaa1",
   "metadata": {},
   "source": [
    "Overwrite all ORFs with response to TOTL perturbation, assuming perfect independence and linearity\n",
    "\n",
    "*Remove when all runs are ready*"
   ]
  },
  {
   "cell_type": "code",
   "execution_count": null,
   "id": "5346a841-7b0c-4d28-bb64-8763c21608e2",
   "metadata": {},
   "outputs": [],
   "source": [
    "ds = xr.open_dataset(f'../data/temperature_ctrl.nc')\n",
    "tctrl = ds.temp\n",
    "ds.close()\n",
    "\n",
    "pert = 400\n",
    "\n",
    "if ready['totl']:\n",
    "    orf  = np.zeros((len(rftime),len(exp),len(basin)))\n",
    "    \n",
    "    ds = xr.open_dataset(f'../data/temperature_totl.nc')\n",
    "    dtemp = ds.temp - tctrl\n",
    "    ds.close()\n",
    "\n",
    "    #Individual basin responses\n",
    "    for b,bas in enumerate(basin):\n",
    "        orf[:,b,b] = dtemp.sel(basin=bas)\n",
    "\n",
    "    #TOTL\n",
    "    orf[:,5,:] = dtemp\n",
    "\n",
    "    #HALF and DOUB\n",
    "    orf[:,6,:] = .5* orf[:,5,:]\n",
    "    orf[:,7,:] =  2* orf[:,5,:]"
   ]
  },
  {
   "cell_type": "markdown",
   "id": "51d3f8cb-36fe-414b-871b-1d84d905d9b3",
   "metadata": {},
   "source": [
    "Overwrite real ORFs if runs are ready"
   ]
  },
  {
   "cell_type": "code",
   "execution_count": null,
   "id": "b8093b2b-37e2-4e0d-83d2-e90a05d4664d",
   "metadata": {},
   "outputs": [],
   "source": [
    "for e,ee in enumerate(exp):\n",
    "    if ready[ee]:\n",
    "        ds = xr.open_dataset(f'../data/temperature_{ee}.nc')\n",
    "        orf[:,e,:] = ds.temp - tctrl\n",
    "        ds.close()"
   ]
  },
  {
   "cell_type": "markdown",
   "id": "7f50cb44-fc45-4bc1-9cc5-9eb82ddb4176",
   "metadata": {},
   "source": [
    "Save all data in one nc file"
   ]
  },
  {
   "cell_type": "code",
   "execution_count": null,
   "id": "7485d6ab-efba-4f44-8190-3218caddf977",
   "metadata": {},
   "outputs": [],
   "source": [
    "irf2  = xr.DataArray(irf,dims=('rftime','ism','basin'),coords={'rftime':rftime,'ism':ism,'basin':basin},attrs={'unit':'Gt/yr per m/yr','long_name':'ice mass loss response function to increased basal melt'})\n",
    "srf2  = xr.DataArray(srf,dims=('rftime','ism','basin'),coords={'rftime':rftime,'ism':ism,'basin':basin},attrs={'unit':'m/yr per m/yr','long_name':'sea level response function to increased basal melt'})\n",
    "temp2 = xr.DataArray(temp,dims=('time','esm','ssp','basin'),coords={'time':time,'esm':esm,'ssp':ssp,'basin':basin},attrs={'unit':'degrees Celcius','long_name':'temperature anomaly from pre-industrial control'})\n",
    "orf2  = xr.DataArray(orf,dims=('rftime','exp','basin'),coords={'rftime':rftime,'exp':exp,'basin':basin},attrs={'unit':'degrees Celcius per Gt/yr','long_name':'ocean response function to increased mass loss'})\n",
    "\n",
    "ds = xr.Dataset({'irf':irf2,'srf':srf2,'temp':temp2,'orf':orf2})\n",
    "ds.to_netcdf(f'../data/alldata_{year0}_{year1}.nc',mode='w')\n",
    "ds"
   ]
  },
  {
   "cell_type": "markdown",
   "id": "76863be1-95e0-4e75-9ed6-1e2b16234b92",
   "metadata": {},
   "source": [
    "Make some plots"
   ]
  },
  {
   "cell_type": "code",
   "execution_count": null,
   "id": "5d72b904-ef6d-436e-af18-7d47df91c356",
   "metadata": {},
   "outputs": [],
   "source": [
    "fig,ax = plt.subplots(len(basin),len(ism),sharex=True,sharey='row',figsize=(10,10))\n",
    "\n",
    "for i,im in enumerate(ism):\n",
    "    ax[0,i].set_title(im)\n",
    "    for b,bas in enumerate(basin):\n",
    "        ax[b,i].plot(rftime,irf[:,i,b],c=ut.bcol[bas],label=bas)\n",
    "\n",
    "fig.supylabel('IRF [Gt/yr per m/yr]')\n",
    "plt.show()"
   ]
  },
  {
   "cell_type": "code",
   "execution_count": null,
   "id": "059e82d4-11d4-4e4a-97b5-91e1ad5fe82d",
   "metadata": {},
   "outputs": [],
   "source": [
    "fig,ax = plt.subplots(len(basin),len(ism),sharex=True,sharey='row',figsize=(10,10))\n",
    "\n",
    "for i,im in enumerate(ism):\n",
    "    ax[0,i].set_title(im)\n",
    "    for b,bas in enumerate(basin):\n",
    "        ax[b,i].plot(rftime,1000*srf[:,i,b],c=ut.bcol[bas],label=bas)\n",
    "\n",
    "fig.supylabel('SRF * 1000 [m/yr per m/yr]')\n",
    "plt.show()\n"
   ]
  },
  {
   "cell_type": "code",
   "execution_count": null,
   "id": "41178dbd-3ea2-4e15-bbc2-e259bf578cd1",
   "metadata": {},
   "outputs": [],
   "source": [
    "fig,ax = plt.subplots(1,len(basin),sharex=True,figsize=(10,4))\n",
    "\n",
    "for b,bas in enumerate(basin):\n",
    "    ax[b].set_title(bas)\n",
    "\n",
    "    for s,ss in enumerate(ssp):\n",
    "        ax[b].plot(time,np.mean(ds.temp[:,:,s,b],axis=1),c=ut.scol[ss],lw=2)\n",
    "        for e,es in enumerate(esm):\n",
    "            ax[b].plot(time,ds.temp[:,e,s,b],c=ut.scol[ss],lw=.2)\n",
    "            \n",
    "fig.supylabel('Temperature anomaly [degC]')\n",
    "plt.show()"
   ]
  },
  {
   "cell_type": "code",
   "execution_count": null,
   "id": "67e313aa-74e5-4d28-b8da-560a81b849f3",
   "metadata": {},
   "outputs": [],
   "source": [
    "fig,ax = plt.subplots(len(exp),len(basin),sharex=True,sharey=True,figsize=(10,10))\n",
    "\n",
    "for e,ee in enumerate(exp):\n",
    "    for b,bas in enumerate(basin):\n",
    "        ax[e,b].plot(rftime,1000*orf[:,e,b],c=ut.bcol[bas])\n",
    "    ax[e,0].set_ylabel(ee)\n",
    "\n",
    "fig.supylabel('ORF [degC per 1000 Gt/yr]')\n",
    "plt.show()"
   ]
  },
  {
   "cell_type": "code",
   "execution_count": null,
   "id": "848cf179-3112-4cf9-b52d-ddd13995b33e",
   "metadata": {},
   "outputs": [],
   "source": []
  }
 ],
 "metadata": {
  "kernelspec": {
   "display_name": "Python 3 (ipykernel)",
   "language": "python",
   "name": "python3"
  },
  "language_info": {
   "codemirror_mode": {
    "name": "ipython",
    "version": 3
   },
   "file_extension": ".py",
   "mimetype": "text/x-python",
   "name": "python",
   "nbconvert_exporter": "python",
   "pygments_lexer": "ipython3",
   "version": "3.8.11"
  }
 },
 "nbformat": 4,
 "nbformat_minor": 5
}
