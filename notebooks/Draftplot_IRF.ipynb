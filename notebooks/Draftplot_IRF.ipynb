{
 "cells": [
  {
   "cell_type": "markdown",
   "id": "c7e55e11-aa54-4d1f-a0c2-4147e9c0cb14",
   "metadata": {},
   "source": [
    "### Plot all IRFs\n",
    "\n",
    "Plot time series of IRF for all ice sheet models\n",
    "\n",
    "To be included in appendix"
   ]
  },
  {
   "cell_type": "code",
   "execution_count": null,
   "id": "4c13ab84-8e46-455b-8419-9931d2e2a685",
   "metadata": {},
   "outputs": [],
   "source": [
    "import numpy as np\n",
    "import xarray as xr\n",
    "import matplotlib as mpl\n",
    "import matplotlib.pyplot as plt\n",
    "from scipy.optimize import curve_fit\n",
    "\n",
    "import sys\n",
    "sys.path.append('../src')\n",
    "\n",
    "from alldata import AllData\n",
    "\n",
    "#np.set_printoptions(precision=2)\n",
    "%matplotlib notebook\n",
    "%matplotlib inline\n",
    "%config InlineBackend.print_figure_kwargs={'bbox_inches':None}\n",
    "%load_ext autoreload\n",
    "%autoreload 2"
   ]
  },
  {
   "cell_type": "markdown",
   "id": "6040fd99-c14e-4e1f-a988-84e640eb37da",
   "metadata": {},
   "source": [
    "Read data"
   ]
  },
  {
   "cell_type": "code",
   "execution_count": null,
   "id": "8621723c-4593-41a0-8b51-541a8ed1d483",
   "metadata": {},
   "outputs": [],
   "source": [
    "ad = AllData()\n",
    "ad.fitctrl = True\n",
    "ad.usefanom = True\n",
    "ad.gather(update=False)\n",
    "\n",
    "#Omit invalid ism\n",
    "ad.ds = ad.ds.drop_sel(ism='PISM_DMI')"
   ]
  },
  {
   "cell_type": "markdown",
   "id": "18c7b21e-836b-46f0-8c5a-bfda746488fb",
   "metadata": {},
   "source": [
    "Figure settings"
   ]
  },
  {
   "cell_type": "code",
   "execution_count": null,
   "id": "6e1fde3a-2049-4c92-8b33-2b28866ca88f",
   "metadata": {},
   "outputs": [],
   "source": [
    "plt.style.use('../src/style_paper')\n",
    "\n",
    "mpl.rc('figure.subplot',left=.15,top=.95)"
   ]
  },
  {
   "cell_type": "markdown",
   "id": "de8d459b-fe25-41b7-99d9-2eb13c17c920",
   "metadata": {},
   "source": [
    "Make and save figure"
   ]
  },
  {
   "cell_type": "code",
   "execution_count": null,
   "id": "ca7b9a0b-c958-4ff3-9065-a7db5db7157b",
   "metadata": {},
   "outputs": [],
   "source": [
    "fig,ax = plt.subplots(5,8,figsize=(7,7),sharex=True,sharey=True)#'row')\n",
    "for i,ii in enumerate(ad.ds.irf.ism.values):\n",
    "    for b,bas in enumerate(ad.ds.irf.basin.values):\n",
    "        ax[b,i].axhline(0,1,0,ls=':',c='k')\n",
    "        ax[b,i].plot(ad.rftime,ad.ds.irf.sel(ism=ii,basin=bas).values,c=ad.bcol[bas],lw=1.)\n",
    "        #ax[b,i].plot(ad.rftime,ad.irf[:,i,b],c=ad.bcol[bas],lw=1.5)\n",
    "        \n",
    "        if b==0:\n",
    "            ax[b,i].set_title(ii)\n",
    "        if i==0:\n",
    "            ax[b,i].set_ylabel(bas)\n",
    "ax[-1,3].set_xlabel('Time after perturbation [years]')\n",
    "fig.supylabel(r'Ice response function R$^I$ [Gt/m]')\n",
    "\n",
    "plt.savefig(f'../draftfigs/all_irfs.png')\n",
    "plt.show()"
   ]
  },
  {
   "cell_type": "code",
   "execution_count": null,
   "id": "d45fc0ea-dcb7-4c0c-9ae5-2ea2e9450b69",
   "metadata": {},
   "outputs": [],
   "source": []
  }
 ],
 "metadata": {
  "kernelspec": {
   "display_name": "Python 3 (ipykernel)",
   "language": "python",
   "name": "python3"
  },
  "language_info": {
   "codemirror_mode": {
    "name": "ipython",
    "version": 3
   },
   "file_extension": ".py",
   "mimetype": "text/x-python",
   "name": "python",
   "nbconvert_exporter": "python",
   "pygments_lexer": "ipython3",
   "version": "3.9.6"
  }
 },
 "nbformat": 4,
 "nbformat_minor": 5
}
