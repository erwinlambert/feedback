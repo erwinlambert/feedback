{
 "cells": [
  {
   "cell_type": "markdown",
   "id": "c7e55e11-aa54-4d1f-a0c2-4147e9c0cb14",
   "metadata": {},
   "source": [
    "Plot all ORFs\n",
    "\n",
    "Plot time series of ORF for all basins and all experiments\n",
    "\n",
    "Either 5x8 panels\n",
    "\n",
    "or 8 panels with 5 lines; one for each basin"
   ]
  },
  {
   "cell_type": "code",
   "execution_count": null,
   "id": "4c13ab84-8e46-455b-8419-9931d2e2a685",
   "metadata": {},
   "outputs": [],
   "source": []
  }
 ],
 "metadata": {
  "kernelspec": {
   "display_name": "Python 3 (ipykernel)",
   "language": "python",
   "name": "python3"
  },
  "language_info": {
   "codemirror_mode": {
    "name": "ipython",
    "version": 3
   },
   "file_extension": ".py",
   "mimetype": "text/x-python",
   "name": "python",
   "nbconvert_exporter": "python",
   "pygments_lexer": "ipython3",
   "version": "3.9.6"
  }
 },
 "nbformat": 4,
 "nbformat_minor": 5
}
