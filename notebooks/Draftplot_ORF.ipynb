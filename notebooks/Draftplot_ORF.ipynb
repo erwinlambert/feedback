{
 "cells": [
  {
   "cell_type": "markdown",
   "id": "c7e55e11-aa54-4d1f-a0c2-4147e9c0cb14",
   "metadata": {},
   "source": [
    "### Plot all ORFs\n",
    "\n",
    "Plot time series of ORF for all basins and all experiments\n",
    "\n",
    "Either 5x8 panels\n",
    "\n",
    "or 8 panels with 5 lines; one for each basin"
   ]
  },
  {
   "cell_type": "code",
   "execution_count": null,
   "id": "4c13ab84-8e46-455b-8419-9931d2e2a685",
   "metadata": {},
   "outputs": [],
   "source": [
    "import numpy as np\n",
    "import xarray as xr\n",
    "import matplotlib as mpl\n",
    "import matplotlib.pyplot as plt\n",
    "import sys\n",
    "\n",
    "sys.path.append('../src')\n",
    "import utils as ut"
   ]
  },
  {
   "cell_type": "code",
   "execution_count": null,
   "id": "83d66f42-4da4-40dc-905d-bf0ad3b1ad45",
   "metadata": {},
   "outputs": [],
   "source": [
    "#option = ''\n",
    "option = '_fit'\n",
    "\n",
    "pert = 400\n",
    "\n",
    "ds = xr.open_dataset(f'../data/alldata{option}_1951_2100.nc')"
   ]
  },
  {
   "cell_type": "code",
   "execution_count": null,
   "id": "6e1fde3a-2049-4c92-8b33-2b28866ca88f",
   "metadata": {},
   "outputs": [],
   "source": [
    "mpl.rcParams['lines.linewidth'] = 2.\n",
    "mpl.rcParams['figure.subplot.wspace'] = .1\n",
    "mpl.rcParams['figure.subplot.left'] = .15\n",
    "mpl.rcParams['figure.subplot.right'] = .99\n",
    "mpl.rcParams['figure.subplot.bottom'] = .1\n",
    "mpl.rcParams['figure.subplot.top'] = .95\n",
    "mpl.rcParams['figure.figsize'] = (7,5)\n",
    "\n",
    "basinname = ['East Ant.','Ross','Amundsen','Weddell','Peninsula']"
   ]
  },
  {
   "cell_type": "code",
   "execution_count": null,
   "id": "11773af3-eb84-4805-b817-a3789104c777",
   "metadata": {},
   "outputs": [],
   "source": [
    "fig,ax = plt.subplots(5,5,sharex=True,sharey=True)\n",
    "for e,ex in enumerate(ds.exp.values[:5]):\n",
    "    for b,bas in enumerate(ds.basin.values):\n",
    "        ax[b,e].plot(ds.rftime,1000*ds.tanom[:,e,b]/pert,c=ut.bcol[bas])\n",
    "        if b==0:\n",
    "            ax[b,e].set_title(f'{ex}')\n",
    "        if e==0:\n",
    "            ax[b,e].set_ylabel(basinname[b])\n",
    "ax[-1,2].set_xlabel('Time [years]')\n",
    "fig.supylabel('Ocean Response Function [degC / 1000 Gt/yr]',fontsize=9)\n",
    "\n",
    "plt.savefig(f'../draftfigs/all_orfs{option}.png',dpi=450)\n",
    "plt.show()"
   ]
  },
  {
   "cell_type": "code",
   "execution_count": null,
   "id": "d45fc0ea-dcb7-4c0c-9ae5-2ea2e9450b69",
   "metadata": {},
   "outputs": [],
   "source": []
  }
 ],
 "metadata": {
  "kernelspec": {
   "display_name": "Python 3 (ipykernel)",
   "language": "python",
   "name": "python3"
  },
  "language_info": {
   "codemirror_mode": {
    "name": "ipython",
    "version": 3
   },
   "file_extension": ".py",
   "mimetype": "text/x-python",
   "name": "python",
   "nbconvert_exporter": "python",
   "pygments_lexer": "ipython3",
   "version": "3.8.11"
  }
 },
 "nbformat": 4,
 "nbformat_minor": 5
}
