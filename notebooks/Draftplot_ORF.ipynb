{
 "cells": [
  {
   "cell_type": "markdown",
   "id": "c7e55e11-aa54-4d1f-a0c2-4147e9c0cb14",
   "metadata": {},
   "source": [
    "### Plot all ORFs\n",
    "\n",
    "Plot time series of ORF for all basins and all experiments\n",
    "\n",
    "Either 5x8 panels\n",
    "\n",
    "or 8 panels with 5 lines; one for each basin"
   ]
  },
  {
   "cell_type": "code",
   "execution_count": null,
   "id": "4c13ab84-8e46-455b-8419-9931d2e2a685",
   "metadata": {},
   "outputs": [],
   "source": [
    "import numpy as np\n",
    "import xarray as xr\n",
    "import matplotlib as mpl\n",
    "import matplotlib.pyplot as plt\n",
    "\n",
    "import sys\n",
    "sys.path.append('../src')\n",
    "\n",
    "from alldata import AllData\n",
    "\n",
    "#np.set_printoptions(precision=2)\n",
    "%matplotlib notebook\n",
    "%matplotlib inline\n",
    "%config InlineBackend.print_figure_kwargs={'bbox_inches':None}\n",
    "%load_ext autoreload\n",
    "%autoreload 2"
   ]
  },
  {
   "cell_type": "markdown",
   "id": "6040fd99-c14e-4e1f-a988-84e640eb37da",
   "metadata": {},
   "source": [
    "Read data"
   ]
  },
  {
   "cell_type": "code",
   "execution_count": null,
   "id": "8621723c-4593-41a0-8b51-541a8ed1d483",
   "metadata": {},
   "outputs": [],
   "source": [
    "ad = AllData()\n",
    "ad.gather()"
   ]
  },
  {
   "cell_type": "markdown",
   "id": "18c7b21e-836b-46f0-8c5a-bfda746488fb",
   "metadata": {},
   "source": [
    "Figure settings"
   ]
  },
  {
   "cell_type": "code",
   "execution_count": null,
   "id": "6e1fde3a-2049-4c92-8b33-2b28866ca88f",
   "metadata": {},
   "outputs": [],
   "source": [
    "plt.style.use('../src/style_paper')\n",
    "\n",
    "mpl.rc('figure.subplot',left=.15)"
   ]
  },
  {
   "cell_type": "markdown",
   "id": "de8d459b-fe25-41b7-99d9-2eb13c17c920",
   "metadata": {},
   "source": [
    "Make and save figure"
   ]
  },
  {
   "cell_type": "code",
   "execution_count": null,
   "id": "11773af3-eb84-4805-b817-a3789104c777",
   "metadata": {},
   "outputs": [],
   "source": [
    "fig,ax = plt.subplots(5,5,sharex=True,sharey=True)\n",
    "for e,ex in enumerate(ad.exp[:5]):\n",
    "    for b,bas in enumerate(ad.basin):\n",
    "        ax[b,e].plot(ad.rftime,1000*ad.tanom[:,e,b]/ad.pert,c=ad.bcol[bas])\n",
    "        if b==0:\n",
    "            ax[b,e].set_title(f'{ex}')\n",
    "        if e==0:\n",
    "            ax[b,e].set_ylabel(bas)\n",
    "ax[-1,2].set_xlabel('Time [years]')\n",
    "fig.supylabel('Ocean Response Function [degC / 1000 Gt/yr]')\n",
    "\n",
    "plt.savefig(f'../draftfigs/all_orfs{ad.option}.png')\n",
    "plt.show()"
   ]
  },
  {
   "cell_type": "code",
   "execution_count": null,
   "id": "d45fc0ea-dcb7-4c0c-9ae5-2ea2e9450b69",
   "metadata": {},
   "outputs": [],
   "source": []
  }
 ],
 "metadata": {
  "kernelspec": {
   "display_name": "Python 3 (ipykernel)",
   "language": "python",
   "name": "python3"
  },
  "language_info": {
   "codemirror_mode": {
    "name": "ipython",
    "version": 3
   },
   "file_extension": ".py",
   "mimetype": "text/x-python",
   "name": "python",
   "nbconvert_exporter": "python",
   "pygments_lexer": "ipython3",
   "version": "3.8.11"
  }
 },
 "nbformat": 4,
 "nbformat_minor": 5
}
