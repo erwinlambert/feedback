{
 "cells": [
  {
   "cell_type": "code",
   "execution_count": null,
   "metadata": {},
   "outputs": [],
   "source": [
    "import xarray as xr\n",
    "import numpy as np"
   ]
  },
  {
   "cell_type": "code",
   "execution_count": null,
   "metadata": {},
   "outputs": [],
   "source": [
    "ds = xr.open_dataset('../data/ecefiles/runoff_maps.nc')\n",
    "lon = ds.lon.values\n",
    "lat = ds.lat.values\n",
    "lons,lats = np.meshgrid(lon,lat)"
   ]
  },
  {
   "cell_type": "code",
   "execution_count": null,
   "metadata": {},
   "outputs": [],
   "source": [
    "#Get distance from Antarctic coast\n",
    "n = 45\n",
    "\n",
    "mask = np.where(ds['drainage_basin_id']>-1,1,1e12)[:n,:]\n",
    "cdist = np.zeros((len(lat),len(lon)))+1000\n",
    "Re = 6371 #km\n",
    "\n",
    "for j,jj in enumerate(lat[:n+10]):\n",
    "    for i,ii in enumerate(lon):\n",
    "        #Haversine formula\n",
    "        dist = 2*Re*np.arcsin(np.sqrt(np.sin(np.deg2rad(0.5*(lats[:n,:]-jj)))**2+np.cos(np.deg2rad(jj))*np.cos(np.deg2rad(lats[:n,:]))*np.sin(np.deg2rad(0.5*(lons[:n,:]-ii)))**2))\n",
    "        #dist = (lons-ii)**2+(lats-jj)**2\n",
    "        if j < n:\n",
    "            dist[j,i] = 1e12\n",
    "        cdist[j,i] = np.minimum(1000,np.min(dist*mask))"
   ]
  },
  {
   "cell_type": "code",
   "execution_count": null,
   "metadata": {},
   "outputs": [],
   "source": [
    "#Create some reasonable catchment mask (not used)\n",
    "\n",
    "drain = ds['drainage_basin_id']\n",
    "\n",
    "#Separate Ross vs Wedd\n",
    "drain = np.where(np.logical_and(np.logical_and(drain==66,lons>90),lons<270),67,drain)\n",
    "\n",
    "#Split EAIS\n",
    "drain = np.where(np.logical_and(np.logical_and(drain>65,lons>350),lats>-77),68,drain)\n",
    "drain = np.where(np.logical_and(np.logical_and(drain>65,lons<180),lats>-77),68,drain)\n",
    "\n",
    "#Split Amun\n",
    "drain = np.where(np.logical_and(np.logical_and(np.logical_and(drain>65,lons>210),lons<280),lats>-77),69,drain)\n",
    "\n",
    "#Split Pens\n",
    "drain = np.where(np.logical_and(np.logical_and(np.logical_and(drain==66,lons>292),lons<310),lats>-70),70,drain)\n",
    "drain = np.where(np.logical_and(np.logical_and(np.logical_and(drain==66,lons>292),lons<295),lats>-74),70,drain)\n",
    "drain = np.where(np.logical_and(np.logical_and(np.logical_and(np.logical_and(drain==66,lons>280),lons<293),lats<-72),lats>-74),70,drain)\n",
    "\n",
    "#Add to Amun\n",
    "drain = np.where(np.logical_and(np.logical_and(np.logical_and(drain==66,lons>280),lons<295),lats>-72),69,drain)"
   ]
  },
  {
   "cell_type": "code",
   "execution_count": null,
   "metadata": {},
   "outputs": [],
   "source": [
    "#Create calving mask\n",
    "\n",
    "calv = ds['calving_point_id']\n",
    "\n",
    "#Remove old mask\n",
    "calv = np.where(calv==66,-2,calv)\n",
    "\n",
    "#Amun\n",
    "calv = np.where(np.logical_and(np.logical_and(np.logical_and(drain<0,lons>210),lons<270),lats<-72),69,calv)\n",
    "\n",
    "#Ross\n",
    "calv = np.where(np.logical_and(np.logical_and(np.logical_and(drain<0,lons>150),lons<210),lats<-72),67,calv)\n",
    "calv = np.where(np.logical_and(np.logical_and(np.logical_and(drain<0,lons>120),lons<180),lats<-69),67,calv)\n",
    "calv = np.where(np.logical_and(np.logical_and(np.logical_and(drain<0,lons>120),lons<170),lats<-67),67,calv)\n",
    "\n",
    "#EAIS\n",
    "calv = np.where(np.logical_and(np.logical_and(np.logical_and(drain<0,lons<150),lons>42),lats<-64),68,calv)\n",
    "calv = np.where(np.logical_and(np.logical_and(np.logical_and(drain<0,lons>10),lons<42),lats<-66),68,calv)\n",
    "calv = np.where(np.logical_and(np.logical_and(drain<0,lons<42),lats<-67),68,calv)\n",
    "calv = np.where(np.logical_and(np.logical_and(np.logical_and(drain<0,lons>330),lats>-72),lats<-68),68,calv)\n",
    "\n",
    "#Weddell\n",
    "calv = np.where(np.logical_and(np.logical_and(np.logical_and(np.logical_and(drain<0,calv<0),lons>295),lats<-68),lons<350),66,calv)\n",
    "calv = np.where(np.logical_and(np.logical_and(np.logical_and(np.logical_and(drain<0,calv<0),lons>310),lats<-58),lons<318),66,calv)\n",
    "calv = np.where(np.logical_and(np.logical_and(np.logical_and(np.logical_and(drain<0,calv<0),lons>305),lats<-65),lons<318),66,calv)\n",
    "\n",
    "#Pens\n",
    "calv = np.where(np.logical_and(np.logical_and(np.logical_and(np.logical_and(drain<0,calv<0),lons>298),lats<-58),lons<318),70,calv)\n",
    "calv = np.where(np.logical_and(np.logical_and(np.logical_and(np.logical_and(drain<0,calv<0),lons>300),lats<-62),lons<318),70,calv)\n",
    "\n",
    "calv = np.where(np.logical_and(calv==67,cdist>300),-2,calv)\n",
    "calv = np.where(np.logical_and(calv==68,cdist>300),-2,calv)\n",
    "calv = np.where(np.logical_and(calv==69,cdist>300),-2,calv)\n",
    "calv = np.where(np.logical_and(lats<-68,np.logical_and(calv==66,cdist>400)),-2,calv)\n",
    "calv = np.where(np.logical_and(lats<-66,np.logical_and(calv==66,cdist>600)),-2,calv)\n",
    "\n",
    "#Retain -2 over land\n",
    "#calv = np.where(ds['calving_point_id']==-1,-1,calv)"
   ]
  },
  {
   "cell_type": "code",
   "execution_count": null,
   "metadata": {},
   "outputs": [],
   "source": [
    "#Create runoff/basal melt mask\n",
    "\n",
    "arr = ds['arrival_point_id']\n",
    "\n",
    "#Remove old mask\n",
    "arr = np.where(arr==66,-2,arr)\n",
    "\n",
    "#Amun\n",
    "arr = np.where(np.logical_and(np.logical_and(np.logical_and(drain<0,lons>225),lons<270),lats<-72),69,arr)\n",
    "arr = np.where(np.logical_and(np.logical_and(np.logical_and(drain<0,lons>252),lons<275),lats<-71),69,arr)\n",
    "\n",
    "#Ross\n",
    "arr = np.where(np.logical_and(np.logical_and(np.logical_and(drain<0,lons>150),lons<180),lats<-76),67,arr)\n",
    "\n",
    "#EAIS\n",
    "arr = np.where(np.logical_and(np.logical_and(np.logical_and(drain<0,lons<140),lons>80),lats<-64.5),68,arr)\n",
    "arr = np.where(np.logical_and(np.logical_and(np.logical_and(drain<0,lons<80),lons>75),lats<-66),68,arr)\n",
    "arr = np.where(np.logical_and(np.logical_and(np.logical_and(drain<0,lons<75),lons>70),lats<-67),68,arr)\n",
    "arr = np.where(np.logical_and(np.logical_and(np.logical_and(drain<0,lons<150),lons>140),lats<-65),68,arr)\n",
    "\n",
    "#Wedd\n",
    "arr = np.where(np.logical_and(np.logical_and(np.logical_and(drain<0,lons>295),lats<-75.5),lons<350),66,arr)\n",
    "arr = np.where(np.logical_and(np.logical_and(np.logical_and(drain<0,lons>295),lats<-74.5),lons<310),66,arr)\n",
    "\n",
    "#Pens\n",
    "arr = np.where(np.logical_and(np.logical_and(np.logical_and(np.logical_and(drain<0,lons>298),lats<-64.5),lons<304),lats>-70),70,arr)\n",
    "arr = np.where(np.logical_and(np.logical_and(np.logical_and(np.logical_and(drain<0,lons>282),lats<-72),lons<298),lats>-75),70,arr)\n",
    "\n",
    "arr = np.where(np.logical_and(arr>65,cdist>250),-2,arr)\n",
    "\n",
    "#arr = np.where(ds['arrival_point_id']==-1,-1,arr)"
   ]
  },
  {
   "cell_type": "code",
   "execution_count": null,
   "metadata": {},
   "outputs": [],
   "source": [
    "#Overwrite masks and save as new file\n",
    "\n",
    "ds['drainage_basin_id'][:] = drain\n",
    "ds['calving_point_id'][:] = calv\n",
    "ds['arrival_point_id'][:] = arr\n",
    "\n",
    "ds.to_netcdf('../data/inputfiles/runoff_maps.nc')"
   ]
  },
  {
   "cell_type": "code",
   "execution_count": null,
   "metadata": {},
   "outputs": [],
   "source": []
  }
 ],
 "metadata": {
  "kernelspec": {
   "display_name": "Python 3 (ipykernel)",
   "language": "python",
   "name": "python3"
  },
  "language_info": {
   "codemirror_mode": {
    "name": "ipython",
    "version": 3
   },
   "file_extension": ".py",
   "mimetype": "text/x-python",
   "name": "python",
   "nbconvert_exporter": "python",
   "pygments_lexer": "ipython3",
   "version": "3.8.11"
  }
 },
 "nbformat": 4,
 "nbformat_minor": 4
}
