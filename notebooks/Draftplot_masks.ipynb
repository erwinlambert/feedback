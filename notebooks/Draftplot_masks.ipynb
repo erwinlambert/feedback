{
 "cells": [
  {
   "cell_type": "code",
   "execution_count": null,
   "id": "1946649f-3c35-43e7-9f5b-412fbe4a646d",
   "metadata": {},
   "outputs": [],
   "source": [
    "import xarray as xr\n",
    "import pyproj\n",
    "import matplotlib as mpl\n",
    "import matplotlib.pyplot as plt\n",
    "import matplotlib.ticker as mticker\n",
    "import cmocean as cmo\n",
    "from matplotlib.colors import ListedColormap\n",
    "from mpl_toolkits.axes_grid1 import make_axes_locatable\n",
    "import cartopy.crs as ccrs\n",
    "from cartopy.mpl.gridliner import LONGITUDE_FORMATTER, LATITUDE_FORMATTER\n",
    "\n",
    "import numpy as np\n",
    "import copy"
   ]
  },
  {
   "cell_type": "code",
   "execution_count": null,
   "id": "50d7f734-60d2-4a84-9353-aacc8638114d",
   "metadata": {},
   "outputs": [],
   "source": [
    "ds = xr.open_dataset('../data/ecefiles/runoff_maps.nc')\n",
    "lon = ds.lon.values\n",
    "lat = ds.lat.values\n",
    "lons,lats = np.meshgrid(lon,lat)\n",
    "\n",
    "ds2 = xr.open_dataset('../data/inputfiles/runoff_maps.nc')"
   ]
  },
  {
   "cell_type": "code",
   "execution_count": null,
   "id": "be14a789-b0c8-46da-abdc-612493697f96",
   "metadata": {},
   "outputs": [],
   "source": [
    "mpl.rcParams['font.family'] = 'serif'\n",
    "mpl.rcParams['axes.titlesize'] = 9\n",
    "mpl.rcParams['axes.labelsize'] = 9\n",
    "mpl.rcParams['legend.fontsize'] = 9\n",
    "\n",
    "mpl.rcParams['figure.subplot.wspace'] = .02\n",
    "mpl.rcParams['figure.subplot.hspace'] = .1\n",
    "mpl.rcParams['figure.subplot.left'] = .01\n",
    "mpl.rcParams['figure.subplot.right'] = .99\n",
    "mpl.rcParams['figure.subplot.top'] = .95\n",
    "mpl.rcParams['figure.subplot.bottom'] = .01\n",
    "mpl.rcParams['figure.figsize'] = (5,5)\n"
   ]
  },
  {
   "cell_type": "code",
   "execution_count": null,
   "id": "6675b2e0-6666-453b-a8d0-f85da3c5dd4e",
   "metadata": {},
   "outputs": [],
   "source": [
    "#Plot old and new masks\n",
    "\n",
    "proj = ccrs.SouthPolarStereo()\n",
    "#cmap = plt.get_cmap('tab10',10)\n",
    "cmap = ListedColormap([\"tab:purple\", \"tab:orange\", \"tab:blue\", \"tab:red\",\"tab:green\"])\n",
    "cmap.set_under('w')\n",
    "cmap.set_over('.5')\n",
    "\n",
    "titles = ['a) Old iceberg calving','b) New iceberg calving','c) Old runoff and basal melt','d) New runoff and basal melt']\n",
    "\n",
    "fig = plt.figure()\n",
    "\n",
    "for v,vv in enumerate([ds['calving_point_id'],ds2['calving_point_id'],ds['arrival_point_id'],ds2['arrival_point_id']]):\n",
    "    ax = fig.add_subplot(2,2,v+1,projection=proj)\n",
    "    ax.set_extent([-180,180, -90, -60], crs=ccrs.PlateCarree())\n",
    "    if v in [0,2]: vv += 5 #Move out of range\n",
    "    im = ax.pcolormesh(lon,lat,vv,shading='auto',cmap=cmap,transform=ccrs.PlateCarree(),vmin=65.5,vmax=70.5)\n",
    "    ax.coastlines(lw=.1)\n",
    "\n",
    "    gl = ax.gridlines(crs=ccrs.PlateCarree(),draw_labels=False)\n",
    "    gl.xlocator = mticker.FixedLocator(np.arange(-180,210,30))\n",
    "    gl.xformatter = LONGITUDE_FORMATTER\n",
    "    ax.set_title(titles[v],loc='left')\n",
    "    \n",
    "plt.savefig(f'../draftfigs/masks.png',dpi=450)\n",
    "plt.show()"
   ]
  },
  {
   "cell_type": "code",
   "execution_count": null,
   "id": "31672999-e6b2-4899-a438-965b600715bd",
   "metadata": {
    "jupyter": {
     "source_hidden": true
    },
    "tags": []
   },
   "outputs": [],
   "source": [
    "proj = ccrs.SouthPolarStereo()\n",
    "fig = fig = plt.figure(figsize=(18,15))\n",
    "\n",
    "ax = fig.add_subplot(111,projection=proj)\n",
    "ax.set_extent([-180,180, -90, -63], crs=ccrs.PlateCarree())\n",
    "im = ax.pcolormesh(lon,lat,ds2['arrival_point_id'],shading='auto',cmap=cmap,transform=ccrs.PlateCarree(),vmin=65.5,vmax=75.5)\n",
    "ax.coastlines(lw=.1)\n",
    "\n",
    "\n",
    "ds = xr.open_dataset('../data/inputfiles/runoff_depth.nc')\n",
    "dep = ds['rodepth'][0,:,:]\n",
    "llon = ds['nav_lon'][:]\n",
    "llat = ds['nav_lat'][:]\n",
    "\n",
    "ccmap = copy.copy(mpl.cm.get_cmap(\"cmo.matter\"));\n",
    "ccmap.set_under('w')\n",
    "ccmap.set_bad('w')\n",
    "\n",
    "im = ax.scatter(llon,llat,15,c=dep,cmap=ccmap,transform=ccrs.PlateCarree(),lw=0,alpha=.5)\n",
    "plt.colorbar(im)\n",
    "plt.show()"
   ]
  },
  {
   "cell_type": "code",
   "execution_count": null,
   "id": "ff2b4bfa-82c1-4500-a7eb-931361e011af",
   "metadata": {},
   "outputs": [],
   "source": []
  }
 ],
 "metadata": {
  "kernelspec": {
   "display_name": "Python 3 (ipykernel)",
   "language": "python",
   "name": "python3"
  },
  "language_info": {
   "codemirror_mode": {
    "name": "ipython",
    "version": 3
   },
   "file_extension": ".py",
   "mimetype": "text/x-python",
   "name": "python",
   "nbconvert_exporter": "python",
   "pygments_lexer": "ipython3",
   "version": "3.8.11"
  }
 },
 "nbformat": 4,
 "nbformat_minor": 5
}
