{
 "cells": [
  {
   "cell_type": "code",
   "execution_count": null,
   "metadata": {},
   "outputs": [],
   "source": [
    "import xarray as xr\n",
    "import glob\n",
    "import numpy as np\n",
    "import matplotlib.pyplot as plt\n",
    "import datetime"
   ]
  },
  {
   "cell_type": "code",
   "execution_count": null,
   "metadata": {},
   "outputs": [],
   "source": [
    "runname = 'pert'\n",
    "files = sorted(glob.glob('../rawdata/ecefiles/tot2/*grid_T.nc'))\n",
    "\n",
    "filename = files[0]\n",
    "print(filename)\n",
    "ds = xr.open_dataset(filename)\n",
    "ds"
   ]
  },
  {
   "cell_type": "code",
   "execution_count": null,
   "metadata": {},
   "outputs": [],
   "source": [
    "runname = 'pert'\n",
    "files = sorted(glob.glob('../rawdata/ecefiles/tot2/*grid_T.nc'))\n",
    "\n",
    "for f,filename in enumerate(files):\n",
    "\n",
    "    year = filename[-18:-14]\n",
    "    ds = xr.open_dataset(filename)\n",
    "\n",
    "    dpm = ds.time_counter.dt.days_in_month\n",
    "    wpm = dpm/np.sum(dpm)\n",
    "\n",
    "    dds = ds.isel(x=slice(220,310))\n",
    "    dds = dds.drop_vars(['time_centered_bounds','time_counter_bounds','tos','sos','mldr10_1','mldr10_1max','wfcorr','hfcorr','hc300','windsp','wfob','fmmflx','qt_oce','qemp_oce','qt_ice','qemp_ice','hflx_rain_cea','hflx_evap_cea','hflx_snow_cea','hflx_cal_cea','wfo','emp_oce','emp_ice','calving','vfxice','vfxsnw','vfxsub','vfxspr','rain','snow_ao_cea','snow_ai_cea','evap_ao_cea','subl_ai_cea','sosflxdo'])\n",
    "\n",
    "    dds = dds.weighted(wpm).mean(dim='time_counter')\n",
    "\n",
    "    savename = f'../data_jeemijn/{runname}_{year}.nc'\n",
    "\n",
    "    dds.to_netcdf(savename)\n",
    "    print(f,savename)"
   ]
  },
  {
   "cell_type": "code",
   "execution_count": null,
   "metadata": {},
   "outputs": [],
   "source": [
    "runname = 'ctrl'\n",
    "files = sorted(glob.glob('../rawdata/ecefiles/n011/*grid_T.nc'))[38:]\n",
    "\n",
    "for f,filename in enumerate(files):\n",
    "    dsall = xr.open_dataset(filename)\n",
    "    print(dsall.time_counter.values[0],dsall.time_counter.values[-1])\n",
    "    for y in range(10):\n",
    "        year = int(filename[-27:-23])+y\n",
    "        \n",
    "        ds = dsall.copy().isel(time_counter=slice(12*y,12*(y+1)))\n",
    "\n",
    "        dpm = ds.time_counter.dt.days_in_month\n",
    "        wpm = dpm/np.sum(dpm)\n",
    "\n",
    "        dds = ds.isel(x=slice(220,310))\n",
    "        dds = dds.drop_vars(['time_centered_bounds','time_counter_bounds','tos','sos','mldr10_1','mldr10_1max','wfcorr','hfcorr','hc300','windsp','wfob','fmmflx','qt_oce','qemp_oce','qt_ice','qemp_ice','hflx_rain_cea','hflx_evap_cea','hflx_snow_cea','hflx_cal_cea','wfo','emp_oce','emp_ice','calving','vfxice','vfxsnw','vfxsub','vfxspr','rain','snow_ao_cea','snow_ai_cea','evap_ao_cea','subl_ai_cea','sosflxdo'])\n",
    "\n",
    "        dds = dds.weighted(wpm).mean(dim='time_counter')\n",
    "\n",
    "        savename = f'../data_jeemijn/{runname}_{year}.nc'\n",
    "\n",
    "        dds.to_netcdf(savename)\n",
    "        print(f,y,savename,ds.time_counter.values[0],ds.time_counter.values[-1])"
   ]
  },
  {
   "cell_type": "code",
   "execution_count": null,
   "metadata": {},
   "outputs": [],
   "source": []
  }
 ],
 "metadata": {
  "kernelspec": {
   "display_name": "Python 3",
   "language": "python",
   "name": "python3"
  },
  "language_info": {
   "codemirror_mode": {
    "name": "ipython",
    "version": 3
   },
   "file_extension": ".py",
   "mimetype": "text/x-python",
   "name": "python",
   "nbconvert_exporter": "python",
   "pygments_lexer": "ipython3",
   "version": "3.10.10"
  },
  "orig_nbformat": 4,
  "vscode": {
   "interpreter": {
    "hash": "e7370f93d1d0cde622a1f8e1c04877d8463912d04d973331ad4851f04de6915a"
   }
  }
 },
 "nbformat": 4,
 "nbformat_minor": 2
}
