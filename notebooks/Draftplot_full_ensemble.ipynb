{
 "cells": [
  {
   "cell_type": "markdown",
   "id": "fdd590cf-e8ed-4c23-b16e-0d33727e5f9c",
   "metadata": {},
   "source": [
    "Calculate ensemble of sea level projections"
   ]
  },
  {
   "cell_type": "code",
   "execution_count": null,
   "id": "31fe2692-ed70-4a04-ab7b-ca095a7092dd",
   "metadata": {},
   "outputs": [],
   "source": [
    "import numpy as np\n",
    "import xarray as xr\n",
    "import matplotlib as mpl\n",
    "import matplotlib.pyplot as plt\n",
    "\n",
    "import sys\n",
    "sys.path.append('../src')\n",
    "\n",
    "from alldata import AllData\n",
    "from ensemble import EnsembleMember,FullEnsemble\n",
    "\n",
    "np.set_printoptions(precision=2)\n",
    "%matplotlib notebook\n",
    "%matplotlib inline\n",
    "%config InlineBackend.print_figure_kwargs={'bbox_inches':None}\n",
    "%load_ext autoreload\n",
    "%autoreload 2"
   ]
  },
  {
   "cell_type": "markdown",
   "id": "d1f1c6db-8039-488b-b729-c2aff720d8b4",
   "metadata": {},
   "source": [
    "Input parameters"
   ]
  },
  {
   "cell_type": "code",
   "execution_count": null,
   "id": "54409f3c-cccc-4b6d-827c-845db946b2e3",
   "metadata": {},
   "outputs": [],
   "source": [
    "#year0 = 1851\n",
    "year0 = 1951\n",
    "\n",
    "option = ''\n",
    "#option = '_fit'"
   ]
  },
  {
   "cell_type": "markdown",
   "id": "22333138-56a4-48ca-973a-a400b4180028",
   "metadata": {},
   "source": [
    "Read data"
   ]
  },
  {
   "cell_type": "code",
   "execution_count": null,
   "id": "1810ada9-262e-413a-9a3d-3c0d5eafe686",
   "metadata": {},
   "outputs": [],
   "source": [
    "ad = AllData()\n",
    "ad.year0 = year0\n",
    "ad.option = option\n",
    "ad.gather()\n",
    "\n",
    "#Select subsection of models for rapid calculation\n",
    "#ad.ds = ad.ds.isel(ism=slice(0,2),esm=slice(0,2))\n",
    "\n",
    "fe = FullEnsemble(ad)\n",
    "fe.gather(force_update=True)\n",
    "\n",
    "try:\n",
    "    fe = fe.drop_sel(ism='PISM_DMI')\n",
    "except:\n",
    "    pass"
   ]
  },
  {
   "cell_type": "markdown",
   "id": "0dc837d2-9c50-4867-b502-71ad662e9e68",
   "metadata": {},
   "source": [
    "Figure settings"
   ]
  },
  {
   "cell_type": "code",
   "execution_count": null,
   "id": "f704f21d-62c5-4f3c-a497-3ab4dd47bb8b",
   "metadata": {},
   "outputs": [],
   "source": [
    "plt.style.use('../src/style_paper')\n",
    "mpl.rc('figure.subplot',left=.15)\n",
    "\n",
    "bmps_long = ['linear basal melt','quadratic basal melt']\n",
    "alpha = .3\n",
    "perc = [17,83]"
   ]
  },
  {
   "cell_type": "markdown",
   "id": "d06d646b-c9f7-40b6-bfad-41cfcfc95009",
   "metadata": {},
   "source": [
    "Make and save figure"
   ]
  },
  {
   "cell_type": "code",
   "execution_count": null,
   "id": "608683aa-7328-402c-85ff-68a0b6ba45df",
   "metadata": {},
   "outputs": [],
   "source": [
    "fig,ax = plt.subplots(2,3,sharex=True,sharey='row')\n",
    "\n",
    "for b,bmp in enumerate(ad.bmps):\n",
    "    for s,ss in enumerate(ad.ssp):\n",
    "        dax = ax[b,s]\n",
    "        dax.plot(fe.time,100*np.median(fe.slr_nf[b,s,:,:,:],axis=(0,1)),c='.5',lw=2,label='No feedback')\n",
    "        dax.fill_between(fe.time,100*np.percentile(fe.slr_nf[b,s,:,:,:],perc[0],axis=(0,1)),100*np.percentile(fe.slr_nf[b,s,:,:,:],perc[1],axis=(0,1)),color='.5',alpha=alpha,label=perc)\n",
    "\n",
    "        dax.plot(fe.time,100*np.median(fe.slr_wf[b,s,:,:,:],axis=(0,1)),c=ad.scol[ss],lw=2,label='With feedback')\n",
    "        dax.fill_between(fe.time,100*np.percentile(fe.slr_wf[b,s,:,:,:],perc[0],axis=(0,1)),100*np.percentile(fe.slr_wf[b,s,:,:,:],perc[1],axis=(0,1)),color=ad.scol[ss],alpha=alpha)\n",
    "        if b==0:\n",
    "            dax.set_title(f'SSP-{ss}')\n",
    "    ax[b,0].set_ylabel(bmps_long[b])\n",
    "            \n",
    "ax[0,0].legend(loc='upper left')\n",
    "fig.supylabel('Sea level rise [cm]',fontsize=9)\n",
    "ax[1,1].set_xlabel('Time [years]')\n",
    "\n",
    "plt.savefig(f'../draftfigs/full_ensemble{ad.option}_{ad.year0}.png',dpi=450,facecolor='w',transparent=False)\n",
    "plt.show()"
   ]
  },
  {
   "cell_type": "code",
   "execution_count": null,
   "id": "f0541214-1fdb-4a83-834f-e3ad6223c0df",
   "metadata": {},
   "outputs": [],
   "source": []
  }
 ],
 "metadata": {
  "kernelspec": {
   "display_name": "Python 3 (ipykernel)",
   "language": "python",
   "name": "python3"
  },
  "language_info": {
   "codemirror_mode": {
    "name": "ipython",
    "version": 3
   },
   "file_extension": ".py",
   "mimetype": "text/x-python",
   "name": "python",
   "nbconvert_exporter": "python",
   "pygments_lexer": "ipython3",
   "version": "3.8.11"
  }
 },
 "nbformat": 4,
 "nbformat_minor": 5
}
