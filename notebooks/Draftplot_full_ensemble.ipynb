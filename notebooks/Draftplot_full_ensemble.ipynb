{
 "cells": [
  {
   "cell_type": "markdown",
   "id": "693e2985-2a8e-4456-951b-522f1ee2c683",
   "metadata": {},
   "source": [
    "Create plot for full ensemble of SLR projections for 3 SSPs and 2 basal melt parameterisations\n",
    "\n",
    "Ensemble contains a range of 14 ESMs and 8 ISMs\n",
    "\n",
    "Computation is done with and without feedback"
   ]
  },
  {
   "cell_type": "code",
   "execution_count": null,
   "id": "c0c2fde3-d33d-44e0-ae8c-ae3c13bb3e08",
   "metadata": {},
   "outputs": [],
   "source": [
    "import numpy as np\n",
    "import xarray as xr\n",
    "import matplotlib as mpl\n",
    "import matplotlib.pyplot as plt\n",
    "\n",
    "import sys\n",
    "sys.path.append('../src')\n",
    "import utils as ut"
   ]
  },
  {
   "cell_type": "code",
   "execution_count": null,
   "id": "6c600029-99ef-415a-bd9c-f0a31b18f2f5",
   "metadata": {},
   "outputs": [],
   "source": [
    "mpl.rcParams['figure.subplot.wspace'] = .1\n",
    "mpl.rcParams['figure.subplot.left'] = .15\n",
    "mpl.rcParams['figure.subplot.right'] = .99\n",
    "mpl.rcParams['figure.figsize'] = (7,5)\n",
    "\n",
    "bmps_long = ['linear basal melt','quadratic basal melt']"
   ]
  },
  {
   "cell_type": "code",
   "execution_count": null,
   "id": "7680daba-e7cd-4d8a-bbfa-0098c000a1ba",
   "metadata": {},
   "outputs": [],
   "source": [
    "year0,year1 = 1851,2000\n",
    "#year0,year1 = 1951,2100"
   ]
  },
  {
   "cell_type": "code",
   "execution_count": null,
   "id": "b2461103-afc8-4d29-b7a0-b509439ec36b",
   "metadata": {},
   "outputs": [],
   "source": [
    "alpha = .3\n",
    "perc = [17,83]\n",
    "\n",
    "fig,ax = plt.subplots(2,3,sharex=True,sharey=True)\n",
    "for b,bmp in enumerate(ut.bmps):\n",
    "    ds = xr.open_dataset(f'../data/ensemble_{bmp}_{year0}_{year1}.nc')\n",
    "    try:\n",
    "        ds = ds.drop_sel(ism='PISM_DMI')\n",
    "    except:\n",
    "        pass\n",
    "    for s,ss in enumerate(ds.ssp.values):\n",
    "        dax = ax[b,s]\n",
    "        dax.plot(ds.time,100*np.median(ds.slr_nf[s,:,:,:],axis=(0,1)),c='.5',lw=2,label='No feedback')\n",
    "        dax.fill_between(ds.time,100*np.percentile(ds.slr_nf[s,:,:,:],perc[0],axis=(0,1)),100*np.percentile(ds.slr_nf[s,:,:,:],perc[1],axis=(0,1)),color='.5',alpha=alpha,label=perc)\n",
    "\n",
    "        dax.plot(ds.time,100*np.median(ds.slr_wf[s,:,:,:],axis=(0,1)),c=ut.scol[ss],lw=2,label='With feedback')\n",
    "        dax.fill_between(ds.time,100*np.percentile(ds.slr_wf[s,:,:,:],perc[0],axis=(0,1)),100*np.percentile(ds.slr_wf[s,:,:,:],perc[1],axis=(0,1)),color=ut.scol[ss],alpha=alpha)\n",
    "        if b==0:\n",
    "            dax.set_title(f'SSP-{ss}')\n",
    "    ds.close()\n",
    "    ax[b,0].set_ylabel(bmps_long[b])\n",
    "            \n",
    "ax[0,0].legend(loc='upper left')\n",
    "fig.supylabel('Sea level rise [cm]',fontsize=9)\n",
    "ax[1,1].set_xlabel('Time [years]')\n",
    "\n",
    "plt.savefig(f'../draftfigs/full_ensemble_{year0}_{year1}.png',dpi=450,facecolor='w',transparent=False)\n",
    "plt.show()"
   ]
  },
  {
   "cell_type": "code",
   "execution_count": null,
   "id": "ee991f88-fb8c-4487-baaa-cdbb426c8c15",
   "metadata": {},
   "outputs": [],
   "source": []
  },
  {
   "cell_type": "code",
   "execution_count": null,
   "id": "a2bbf7af-dbe0-4c2f-807a-c2ce7ee0fe6b",
   "metadata": {},
   "outputs": [],
   "source": []
  }
 ],
 "metadata": {
  "kernelspec": {
   "display_name": "Python 3 (ipykernel)",
   "language": "python",
   "name": "python3"
  },
  "language_info": {
   "codemirror_mode": {
    "name": "ipython",
    "version": 3
   },
   "file_extension": ".py",
   "mimetype": "text/x-python",
   "name": "python",
   "nbconvert_exporter": "python",
   "pygments_lexer": "ipython3",
   "version": "3.8.11"
  }
 },
 "nbformat": 4,
 "nbformat_minor": 5
}
