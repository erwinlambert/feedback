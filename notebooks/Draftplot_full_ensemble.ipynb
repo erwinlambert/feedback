{
 "cells": [
  {
   "cell_type": "markdown",
   "id": "fdd590cf-e8ed-4c23-b16e-0d33727e5f9c",
   "metadata": {},
   "source": [
    "Calculate ensemble of sea level projections"
   ]
  },
  {
   "cell_type": "code",
   "execution_count": 7,
   "id": "31fe2692-ed70-4a04-ab7b-ca095a7092dd",
   "metadata": {},
   "outputs": [
    {
     "name": "stdout",
     "output_type": "stream",
     "text": [
      "The autoreload extension is already loaded. To reload it, use:\n",
      "  %reload_ext autoreload\n"
     ]
    }
   ],
   "source": [
    "import numpy as np\n",
    "import xarray as xr\n",
    "import matplotlib as mpl\n",
    "import matplotlib.pyplot as plt\n",
    "\n",
    "import sys\n",
    "sys.path.append('../src')\n",
    "\n",
    "from alldata import AllData\n",
    "from ensemble import EnsembleMember,FullEnsemble\n",
    "\n",
    "np.set_printoptions(precision=2)\n",
    "%matplotlib notebook\n",
    "%matplotlib inline\n",
    "%config InlineBackend.print_figure_kwargs={'bbox_inches':None}\n",
    "%load_ext autoreload\n",
    "%autoreload 2"
   ]
  },
  {
   "cell_type": "markdown",
   "id": "22333138-56a4-48ca-973a-a400b4180028",
   "metadata": {},
   "source": [
    "Read data"
   ]
  },
  {
   "cell_type": "code",
   "execution_count": 19,
   "id": "1810ada9-262e-413a-9a3d-3c0d5eafe686",
   "metadata": {},
   "outputs": [
    {
     "name": "stdout",
     "output_type": "stream",
     "text": [
      "Gathered all data\n",
      "Doing a forced update of ensemble calculation\n",
      "ACCESS-CM2 CISM_NCA 5.61 [1.11 1.14 1.17]                                 \n",
      "Computing esm 1 of 14 | ism 2 of 9 | ssp 1 of 3 | Progress: 1%            \r"
     ]
    },
    {
     "name": "stderr",
     "output_type": "stream",
     "text": [
      "/nobackup/users/lambert/projects/feedback/notebooks/../src/ensemble.py:118: RuntimeWarning: overflow encountered in multiply\n",
      "  m = self.gamma*(T-self.Tf)*np.abs(T-self.Tf)**(bmpexp-1)\n",
      "/nobackup/users/lambert/miniconda3/envs/kpz/lib/python3.8/site-packages/numpy/core/fromnumeric.py:87: RuntimeWarning: invalid value encountered in reduce\n",
      "  return ufunc.reduce(obj, axis, dtype, out, **passkwargs)\n",
      "/nobackup/users/lambert/projects/feedback/notebooks/../src/ensemble.py:133: RuntimeWarning: invalid value encountered in subtract\n",
      "  dFdt = F[1:t,:]-F[:t-1,:]\n",
      "/nobackup/users/lambert/projects/feedback/notebooks/../src/ensemble.py:151: RuntimeWarning: invalid value encountered in multiply\n",
      "  self.SLR[n,t,:] = np.sum(CRF[::-1]*dFdt,axis=0)\n",
      "/nobackup/users/lambert/projects/feedback/notebooks/../src/ensemble.py:149: RuntimeWarning: invalid value encountered in subtract\n",
      "  dFdt = F[1:t,:]-F[:t-1,:]\n",
      "/nobackup/users/lambert/projects/feedback/notebooks/../src/ensemble.py:170: RuntimeWarning: invalid value encountered in multiply\n",
      "  TMP = 0.*IML\n",
      "/nobackup/users/lambert/projects/feedback/notebooks/../src/ensemble.py:191: RuntimeWarning: invalid value encountered in multiply\n",
      "  TMP[t,b] += np.sum(CRF[::-1]*F) #Sum over exp (= source region of ice mass loss)\n"
     ]
    },
    {
     "name": "stdout",
     "output_type": "stream",
     "text": [
      "no convergence in iteration, using n=0 [nan nan]                                    \n",
      "no convergence in iteration, using n=0 [nan nan]                                    \n",
      "Computing esm 1 of 14 | ism 2 of 9 | ssp 3 of 3 | Progress: 2%            \r"
     ]
    },
    {
     "name": "stderr",
     "output_type": "stream",
     "text": [
      "/nobackup/users/lambert/projects/feedback/notebooks/../src/ensemble.py:135: RuntimeWarning: overflow encountered in multiply\n",
      "  self.IML[n,t,:] = np.sum(CRF[::-1]*dFdt,axis=0)\n"
     ]
    },
    {
     "name": "stdout",
     "output_type": "stream",
     "text": [
      "no convergence in iteration, using n=0 [nan nan]                                    \n",
      "ACCESS-CM2 FETI_ULB 5.05 [1. 1. 1.]                           \n",
      "Computing esm 1 of 14 | ism 3 of 9 | ssp 1 of 3 | Progress: 2%            \r"
     ]
    },
    {
     "name": "stderr",
     "output_type": "stream",
     "text": [
      "/nobackup/users/lambert/projects/feedback/notebooks/../src/ensemble.py:133: RuntimeWarning: overflow encountered in subtract\n",
      "  dFdt = F[1:t,:]-F[:t-1,:]\n",
      "/nobackup/users/lambert/miniconda3/envs/kpz/lib/python3.8/site-packages/numpy/core/fromnumeric.py:87: RuntimeWarning: overflow encountered in reduce\n",
      "  return ufunc.reduce(obj, axis, dtype, out, **passkwargs)\n",
      "/nobackup/users/lambert/projects/feedback/notebooks/../src/ensemble.py:149: RuntimeWarning: overflow encountered in subtract\n",
      "  dFdt = F[1:t,:]-F[:t-1,:]\n",
      "/nobackup/users/lambert/projects/feedback/notebooks/../src/ensemble.py:181: RuntimeWarning: invalid value encountered in subtract\n",
      "  F = IML[1:t,e]-IML[:t-1,e]\n",
      "/nobackup/users/lambert/projects/feedback/notebooks/../src/ensemble.py:135: RuntimeWarning: invalid value encountered in multiply\n",
      "  self.IML[n,t,:] = np.sum(CRF[::-1]*dFdt,axis=0)\n"
     ]
    },
    {
     "name": "stdout",
     "output_type": "stream",
     "text": [
      "no convergence in iteration, using n=0 [nan nan]                                    \n",
      "no convergence in iteration, using n=0 [nan nan]                                    \n",
      "no convergence in iteration, using n=0 [nan nan]                                    \n",
      "ACCESS-CM2 GRIS_LSC -7.73 [1. 1. 1.]                           \n",
      "ACCESS-CM2 IMAU_UU 1.50 [1.04 1.04 1.05]                                  \n",
      "ACCESS-CM2 ISSM_UCI 1.67 [1.02 1.02 1.02]                                 \n",
      "ACCESS-CM2 MALI_DOE 4.83 [1.11 1.13 1.15]                                 \n",
      "Computing esm 1 of 14 | ism 7 of 9 | ssp 1 of 3 | Progress: 5%            \r"
     ]
    },
    {
     "name": "stderr",
     "output_type": "stream",
     "text": [
      "/nobackup/users/lambert/projects/feedback/notebooks/../src/ensemble.py:181: RuntimeWarning: overflow encountered in subtract\n",
      "  F = IML[1:t,e]-IML[:t-1,e]\n"
     ]
    },
    {
     "name": "stdout",
     "output_type": "stream",
     "text": [
      "no convergence in iteration, using n=0 [nan nan]                                    \n",
      "no convergence in iteration, using n=0 [nan nan]                                    \n",
      "no convergence in iteration, using n=0 [nan nan]                                    \n",
      "ACCESS-CM2 PISM_DMI 1.89 [1. 1. 1.]                           \n",
      "no convergence in iteration, using n=0 [nan nan]                                    \n",
      "no convergence in iteration, using n=0 [nan nan]                                    \n",
      "no convergence in iteration, using n=0 [nan nan]                                    \n",
      "ACCESS-CM2 PISM_PIK -240.23 [1. 1. 1.]                           \n",
      "ACCESS-CM2 SICO_ILTS 3.32 [1.12 1.13 1.14]                                \n",
      "CAMS-CSM1-0 CISM_NCA 8.27 [1.19 1.2  1.25]                                \n",
      "CAMS-CSM1-0 FETI_ULB 4.34 [1.53 1.46 1.46]                                \n",
      "no convergence in iteration, using n=0 [nan nan]                                    \n",
      "no convergence in iteration, using n=0 [nan nan]                                    \n",
      "no convergence in iteration, using n=0 [nan nan]                                    \n",
      "CAMS-CSM1-0 GRIS_LSC 5.68 [1. 1. 1.]                           \n",
      "CAMS-CSM1-0 IMAU_UU 1.68 [1.04 1.04 1.04]                                  \n",
      "CAMS-CSM1-0 ISSM_UCI 1.85 [1.02 1.02 1.02]                                 \n",
      "CAMS-CSM1-0 MALI_DOE 3.30 [1.07 1.07 1.08]                                 \n",
      "no convergence in iteration, using n=0 [nan nan]                                    \n",
      "no convergence in iteration, using n=0 [nan nan]                                    \n",
      "no convergence in iteration, using n=0 [nan nan]                                    \n",
      "CAMS-CSM1-0 PISM_DMI 2.21 [1. 1. 1.]                           \n",
      "no convergence in iteration, using n=0 [nan nan]                                    \n",
      "no convergence in iteration, using n=0 [nan nan]                                    \n",
      "no convergence in iteration, using n=0 [nan nan]                                    \n",
      "CAMS-CSM1-0 PISM_PIK 3.28 [1. 1. 1.]                           \n",
      "CAMS-CSM1-0 SICO_ILTS 1.68 [1.06 1.06 1.06]                                \n",
      "CAS-ESM2-0 CISM_NCA -1.60 [0.93 0.92 0.88]                                 \n",
      "CAS-ESM2-0 FETI_ULB -1.08 [0.93 0.91 0.88]                                 \n",
      "no convergence in iteration, using n=0 [nan nan]                                    \n",
      "no convergence in iteration, using n=0 [nan nan]                                    \n",
      "no convergence in iteration, using n=0 [nan nan]                                    \n",
      "CAS-ESM2-0 GRIS_LSC -2.31 [1. 1. 1.]                           \n",
      "CAS-ESM2-0 IMAU_UU -0.51 [0.97 0.96 0.95]                                  \n",
      "CAS-ESM2-0 ISSM_UCI -0.59 [0.98 0.97 0.96]                                 \n",
      "CAS-ESM2-0 MALI_DOE -0.83 [0.96 0.95 0.93]                                 \n",
      "CAS-ESM2-0 PISM_DMI -0.43 [0.93 0.91 0.89]                                 \n",
      "CAS-ESM2-0 PISM_PIK -0.57 [0.97 0.96 0.94]                                 \n",
      "CAS-ESM2-0 SICO_ILTS -0.41 [0.98 0.97 0.96]                                \n",
      "CMCC-ESM2 CISM_NCA 5.62 [1.32 1.25 1.57]                                   \n",
      "no convergence in iteration, using n=0 [nan nan]                                    \n",
      "no convergence in iteration, using n=0 [nan nan]                                    \n",
      "no convergence in iteration, using n=0 [nan nan]                                    \n",
      "CMCC-ESM2 FETI_ULB 5.40 [1. 1. 1.]                           \n",
      "no convergence in iteration, using n=0 [nan nan]                                    \n",
      "no convergence in iteration, using n=0 [nan nan]                                    \n",
      "no convergence in iteration, using n=0 [nan nan]                                    \n",
      "CMCC-ESM2 GRIS_LSC 5.02 [1. 1. 1.]                           \n",
      "CMCC-ESM2 IMAU_UU 2.05 [1.12 1.09 1.16]                                    \n",
      "CMCC-ESM2 ISSM_UCI 1.71 [1.04 1.04 1.07]                                   \n",
      "no convergence in iteration, using n=0 [759.04 761.28]                                    \n",
      "CMCC-ESM2 MALI_DOE 5.99 [1.35 1.28 1.  ]                           \n",
      "no convergence in iteration, using n=0 [nan nan]                                    \n",
      "no convergence in iteration, using n=0 [nan nan]                                    \n",
      "no convergence in iteration, using n=0 [nan nan]                                    \n",
      "CMCC-ESM2 PISM_DMI 1.67 [1. 1. 1.]                           \n",
      "no convergence in iteration, using n=0 [nan nan]                                    \n",
      "no convergence in iteration, using n=0 [nan nan]                                    \n",
      "no convergence in iteration, using n=0 [nan nan]                                    \n",
      "CMCC-ESM2 PISM_PIK 9.45 [1. 1. 1.]                           \n",
      "CMCC-ESM2 SICO_ILTS 1.37 [1.1  1.09 1.13]                                  \n",
      "CanESM5 CISM_NCA 1.87 [1.03 1.04 1.05]                                     \n",
      "CanESM5 FETI_ULB 2.57 [1.07 1.1  1.15]                                     \n",
      "no convergence in iteration, using n=0 [nan nan]                                    \n",
      "no convergence in iteration, using n=0 [nan nan]                                    \n",
      "no convergence in iteration, using n=0 [nan nan]                                    \n",
      "CanESM5 GRIS_LSC 2.21 [1. 1. 1.]                           \n",
      "CanESM5 IMAU_UU 0.68 [1.01 1.02 1.02]                                      \n",
      "CanESM5 ISSM_UCI 0.68 [1.   1.01 1.01]                                     \n",
      "CanESM5 MALI_DOE 1.22 [1.02 1.02 1.03]                                     \n",
      "CanESM5 PISM_DMI 0.46 [1.04 1.05 1.04]                                     \n",
      "CanESM5 PISM_PIK 0.95 [1.01 1.02 1.04]                                     \n",
      "CanESM5 SICO_ILTS 0.92 [1.02 1.03 1.03]                                    \n",
      "EC-Earth3 CISM_NCA 1.63 [1.03 1.04 1.08]                                   \n",
      "EC-Earth3 FETI_ULB 0.99 [1.04 1.06 1.08]                                   \n",
      "no convergence in iteration, using n=0 [nan nan]                                    \n",
      "no convergence in iteration, using n=0 [nan nan]                                    \n",
      "no convergence in iteration, using n=0 [nan nan]                                    \n",
      "EC-Earth3 GRIS_LSC 4.72 [1. 1. 1.]                           \n",
      "EC-Earth3 IMAU_UU 0.39 [1.01 1.01 1.02]                                    \n",
      "EC-Earth3 ISSM_UCI 0.47 [1.   1.01 1.01]                                   \n",
      "EC-Earth3 MALI_DOE 0.93 [1.02 1.02 1.04]                                   \n",
      "EC-Earth3 PISM_DMI 0.36 [1.02 1.01 1.04]                                   \n",
      "EC-Earth3 PISM_PIK 0.57 [1.01 1.02 1.03]                                   \n",
      "EC-Earth3 SICO_ILTS 0.46 [1.02 1.02 1.03]                                  \n",
      "EC-Earth3-Veg CISM_NCA 3.52 [1.65 1.4  1.52]                               \n",
      "EC-Earth3-Veg FETI_ULB 1.72 [0.28 2.76 1.66]                               \n",
      "no convergence in iteration, using n=0 [nan nan]                                    \n",
      "no convergence in iteration, using n=0 [nan nan]                                    \n",
      "no convergence in iteration, using n=0 [nan nan]                                    \n",
      "EC-Earth3-Veg GRIS_LSC 2.43 [1. 1. 1.]                           \n",
      "EC-Earth3-Veg IMAU_UU 1.20 [1.09 1.1  1.12]                                \n",
      "no convergence in iteration, using n=0 [nan nan]                                    \n",
      "no convergence in iteration, using n=0 [nan nan]                                    \n",
      "no convergence in iteration, using n=0 [nan nan]                                    \n",
      "EC-Earth3-Veg ISSM_UCI 12.52 [1. 1. 1.]                           \n",
      "no convergence in iteration, using n=0 [nan nan]                                    \n",
      "no convergence in iteration, using n=0 [nan nan]                                    \n",
      "no convergence in iteration, using n=0 [nan nan]                                    \n",
      "EC-Earth3-Veg MALI_DOE 15.81 [1. 1. 1.]                           \n",
      "EC-Earth3-Veg PISM_DMI -0.92 [0.71 0.83 0.78]                              \n",
      "EC-Earth3-Veg PISM_PIK 1.78 [0.51 2.62 1.38]                               \n",
      "EC-Earth3-Veg SICO_ILTS 1.31 [0.62 1.45 1.25]                              \n",
      "GFDL-ESM4 CISM_NCA -9.46 [0.85 0.83 0.92]                                  \n",
      "no convergence in iteration, using n=0 [nan nan]                                    \n",
      "no convergence in iteration, using n=0 [nan nan]                                    \n",
      "no convergence in iteration, using n=0 [nan nan]                                    \n",
      "GFDL-ESM4 FETI_ULB 545.50 [1. 1. 1.]                           \n",
      "no convergence in iteration, using n=0 [nan nan]                                    \n",
      "no convergence in iteration, using n=0 [nan nan]                                    \n",
      "no convergence in iteration, using n=0 [nan nan]                                    \n",
      "GFDL-ESM4 GRIS_LSC 4.38 [1. 1. 1.]                           \n",
      "GFDL-ESM4 IMAU_UU -2.24 [0.97 0.97 0.99]                                   \n",
      "no convergence in iteration, using n=0 [nan nan]                                    \n",
      "no convergence in iteration, using n=0 [nan nan]                                    \n",
      "no convergence in iteration, using n=0 [nan nan]                                    \n",
      "GFDL-ESM4 ISSM_UCI 16.33 [1. 1. 1.]                           \n",
      "GFDL-ESM4 MALI_DOE 4.01 [1.03 1.02 0.99]                                   \n",
      "no convergence in iteration, using n=0 [nan nan]                                    \n",
      "no convergence in iteration, using n=0 [nan nan]                                    \n",
      "no convergence in iteration, using n=0 [nan nan]                                    \n",
      "GFDL-ESM4 PISM_DMI 4.56 [1. 1. 1.]                           \n",
      "no convergence in iteration, using n=0 [nan nan]                                    \n",
      "no convergence in iteration, using n=0 [nan nan]                                    \n",
      "no convergence in iteration, using n=0 [nan nan]                                    \n",
      "GFDL-ESM4 PISM_PIK 8.56 [1. 1. 1.]                           \n",
      "GFDL-ESM4 SICO_ILTS 3.46 [1.04 1.02 1.01]                                  \n",
      "INM-CM4-8 CISM_NCA 2.18 [1.02 1.02 1.04]                                   \n",
      "INM-CM4-8 FETI_ULB 1.29 [1.04 1.03 1.05]                                   \n",
      "no convergence in iteration, using n=0 [nan nan]                                    \n",
      "no convergence in iteration, using n=0 [nan nan]                                    \n",
      "no convergence in iteration, using n=0 [nan nan]                                    \n",
      "INM-CM4-8 GRIS_LSC 5.61 [1. 1. 1.]                           \n",
      "INM-CM4-8 IMAU_UU 0.95 [1.   1.01 1.02]                                    \n",
      "INM-CM4-8 ISSM_UCI 0.92 [1.   1.   1.01]                                   \n",
      "INM-CM4-8 MALI_DOE 1.44 [1.02 1.02 1.03]                                   \n",
      "INM-CM4-8 PISM_DMI 0.92 [0.9  1.02 1.01]                                   \n",
      "INM-CM4-8 PISM_PIK 0.96 [1.01 1.02 1.02]                                   \n",
      "INM-CM4-8 SICO_ILTS 0.66 [1.01 1.02 1.02]                                  \n",
      "INM-CM5-0 CISM_NCA 3.54 [1.1  1.18 1.13]                                    \n",
      "INM-CM5-0 FETI_ULB 3.95 [2.08 2.53 1.75]                                    \n",
      "no convergence in iteration, using n=0 [nan nan]                                    \n",
      "no convergence in iteration, using n=0 [nan nan]                                    \n",
      "no convergence in iteration, using n=0 [nan nan]                                    \n",
      "INM-CM5-0 GRIS_LSC 4.84 [1. 1. 1.]                           \n",
      "INM-CM5-0 IMAU_UU 1.05 [1.   1.07 1.04]                                     \n",
      "INM-CM5-0 ISSM_UCI 1.00 [1.03 1.05 1.03]                                    \n",
      "INM-CM5-0 MALI_DOE 1.67 [1.21 1.23 1.08]                                    \n",
      "INM-CM5-0 PISM_DMI 0.76 [0.83 1.32 1.25]                                    \n",
      "INM-CM5-0 PISM_PIK 2.50 [1.36 1.28 1.25]                                    \n",
      "INM-CM5-0 SICO_ILTS 1.42 [1.06 1.08 1.08]                                   \n",
      "no convergence in iteration, using n=0 [nan nan]                                    \n",
      "no convergence in iteration, using n=0 [nan nan]                                    \n",
      "no convergence in iteration, using n=0 [nan nan]                                    \n",
      "MIROC6 CISM_NCA 10.53 [1. 1. 1.]                           \n",
      "MIROC6 FETI_ULB 2.30 [1.08 1.12 1.29]                                       \n",
      "no convergence in iteration, using n=0 [nan nan]                                    \n",
      "no convergence in iteration, using n=0 [nan nan]                                    \n",
      "no convergence in iteration, using n=0 [nan nan]                                    \n",
      "MIROC6 GRIS_LSC 8.32 [1. 1. 1.]                           \n",
      "no convergence in iteration, using n=0 [nan nan]                                    \n",
      "no convergence in iteration, using n=0 [nan nan]                                    \n",
      "no convergence in iteration, using n=0 [nan nan]                                    \n",
      "MIROC6 IMAU_UU 12.99 [1. 1. 1.]                           \n",
      "MIROC6 ISSM_UCI 2.63 [1.03 1.07 1.11]                                       \n",
      "no convergence in iteration, using n=0 [nan nan]                                    \n",
      "no convergence in iteration, using n=0 [nan nan]                                    \n",
      "no convergence in iteration, using n=0 [nan nan]                                    \n",
      "MIROC6 MALI_DOE 9.23 [1. 1. 1.]                           \n",
      "no convergence in iteration, using n=0 [nan nan]                                    \n",
      "no convergence in iteration, using n=0 [nan nan]                                    \n",
      "no convergence in iteration, using n=0 [nan nan]                                    \n",
      "MIROC6 PISM_DMI 28.70 [1. 1. 1.]                           \n",
      "MIROC6 PISM_PIK 2.29 [1.11 1.07 1.2 ]                                       \n",
      "MIROC6 SICO_ILTS 1.54 [1.06 1.08 1.1 ]                                      \n",
      "MPI-ESM1-2-LR CISM_NCA 3.12 [1.09 1.12 1.14]                                \n",
      "MPI-ESM1-2-LR FETI_ULB 2.64 [1.35 1.44 1.28]                                \n",
      "no convergence in iteration, using n=0 [nan nan]                                    \n",
      "no convergence in iteration, using n=0 [nan nan]                                    \n",
      "no convergence in iteration, using n=0 [nan nan]                                    \n",
      "MPI-ESM1-2-LR GRIS_LSC 7.39 [1. 1. 1.]                           \n",
      "MPI-ESM1-2-LR IMAU_UU 0.95 [1.03 1.04 1.04]                                 \n",
      "MPI-ESM1-2-LR ISSM_UCI 0.79 [1.01 1.01 1.02]                                \n",
      "MPI-ESM1-2-LR MALI_DOE 1.26 [1.03 1.04 1.05]                                \n",
      "MPI-ESM1-2-LR PISM_DMI 0.75 [1.12 1.08 1.1 ]                                \n",
      "no convergence in iteration, using n=0 [nan nan]                                    \n",
      "MPI-ESM1-2-LR PISM_PIK 2.71 [1.11 1.22 1.  ]                           \n",
      "MPI-ESM1-2-LR SICO_ILTS 1.09 [1.05 1.06 1.06]                               \n",
      "MRI-ESM2-0 CISM_NCA 3.48 [1.06 1.09 1.14]                                   \n",
      "MRI-ESM2-0 FETI_ULB 2.69 [1.11 1.14 1.18]                                   \n",
      "no convergence in iteration, using n=0 [nan nan]                                    \n",
      "no convergence in iteration, using n=0 [nan nan]                                    \n",
      "no convergence in iteration, using n=0 [nan nan]                                    \n",
      "MRI-ESM2-0 GRIS_LSC 38.21 [1. 1. 1.]                           \n",
      "MRI-ESM2-0 IMAU_UU 1.16 [1.02 1.03 1.04]                                    \n",
      "MRI-ESM2-0 ISSM_UCI 1.11 [1.01 1.02 1.02]                                   \n",
      "MRI-ESM2-0 MALI_DOE 1.97 [1.04 1.05 1.06]                                   \n",
      "MRI-ESM2-0 PISM_DMI 0.91 [1.17 1.06 1.12]                                   \n",
      "MRI-ESM2-0 PISM_PIK 2.46 [1.06 1.1  1.1 ]                                   \n",
      "MRI-ESM2-0 SICO_ILTS 1.23 [1.04 1.05 1.06]                                  \n",
      "NorESM2-MM CISM_NCA 4.31 [2.2  1.95 1.52]                                   \n",
      "NorESM2-MM FETI_ULB 1.28 [2.47 2.2  1.37]                                   \n",
      "NorESM2-MM GRIS_LSC 0.87 [ 0.7   0.82 -1.3 ]                                \n",
      "NorESM2-MM IMAU_UU 4.72 [2.38 3.72 2.59]                                    \n",
      "NorESM2-MM ISSM_UCI 1.02 [0.85 0.45 1.1 ]                                   \n",
      "NorESM2-MM MALI_DOE 1.52 [ 0.49 -2.71  1.2 ]                                \n",
      "no convergence in iteration, using n=0 [nan nan]                                    \n",
      "no convergence in iteration, using n=0 [nan nan]                                    \n",
      "no convergence in iteration, using n=0 [nan nan]                                    \n",
      "NorESM2-MM PISM_DMI -3.58 [1. 1. 1.]                           \n",
      "NorESM2-MM PISM_PIK 1.21 [1.16 1.3  1.11]                                   \n",
      "NorESM2-MM SICO_ILTS 0.83 [1.41 1.4  1.12]                                   \n",
      "Saved ../data/ensemble_lin_1951.nc                                            \n"
     ]
    }
   ],
   "source": [
    "ad = AllData()\n",
    "ad.usefanom = True\n",
    "ad.gather(update=False)\n",
    "#Select subsection of models for rapid calculation\n",
    "#ad.ds = ad.ds.isel(ism=slice(0,4),esm=slice(0,4))\n",
    "\n",
    "fe = FullEnsemble(ad)\n",
    "fe.gather(force_update=True)"
   ]
  },
  {
   "cell_type": "markdown",
   "id": "0dc837d2-9c50-4867-b502-71ad662e9e68",
   "metadata": {},
   "source": [
    "Figure settings"
   ]
  },
  {
   "cell_type": "code",
   "execution_count": 20,
   "id": "f704f21d-62c5-4f3c-a497-3ab4dd47bb8b",
   "metadata": {},
   "outputs": [],
   "source": [
    "plt.style.use('../src/style_paper')\n",
    "mpl.rc('figure.subplot',left=.15,bottom=.2)\n",
    "\n",
    "alpha = .3 #Transparency of uncertainty range\n",
    "perc = [17,83] #Percentiles of uncertainty range"
   ]
  },
  {
   "cell_type": "markdown",
   "id": "d06d646b-c9f7-40b6-bfad-41cfcfc95009",
   "metadata": {},
   "source": [
    "Make and save figure"
   ]
  },
  {
   "cell_type": "code",
   "execution_count": 28,
   "id": "608683aa-7328-402c-85ff-68a0b6ba45df",
   "metadata": {},
   "outputs": [
    {
     "name": "stdout",
     "output_type": "stream",
     "text": [
      "1.0470430460103488\n",
      "1.0824001991987404\n",
      "1.0720192839409728\n"
     ]
    },
    {
     "data": {
      "image/png": "[encoded data removed]",
      "text/plain": [
       "<Figure size 504x216 with 3 Axes>"
      ]
     },
     "metadata": {
      "needs_background": "light"
     },
     "output_type": "display_data"
    }
   ],
   "source": [
    "fig,ax = plt.subplots(1,3,sharex=True,sharey='row',figsize=(7,3))\n",
    "\n",
    "for s,ss in enumerate(ad.ssp):\n",
    "    #Plot no feedback\n",
    "    ax[s].plot(fe.time,100*np.nanmedian(fe.slr_nf[s,:,:,:],axis=(0,1)),c='.5',lw=2,label='No feedback')\n",
    "    ax[s].fill_between(fe.time,100*np.nanpercentile(fe.slr_nf[s,:,:,:],perc[0],axis=(0,1)),100*np.nanpercentile(fe.slr_nf[s,:,:,:],perc[1],axis=(0,1)),color='.5',alpha=alpha,label=perc)\n",
    "\n",
    "    #Plot with feedback\n",
    "    ax[s].plot(fe.time,100*np.nanmedian(fe.slr_wf[s,:,:,:],axis=(0,1)),c=ad.scol[ss],lw=2,label='With feedback')\n",
    "    ax[s].fill_between(fe.time,100*np.nanpercentile(fe.slr_wf[s,:,:,:],perc[0],axis=(0,1)),100*np.nanpercentile(fe.slr_wf[s,:,:,:],perc[1],axis=(0,1)),color=ad.scol[ss],alpha=alpha)\n",
    "\n",
    "    ax[s].set_title(f'SSP-{ss}')\n",
    "    \n",
    "    print(100*np.nanmedian(fe.slr_wf[s,:,:,:],axis=(0,1))[-1]/(100*np.nanmedian(fe.slr_nf[s,:,:,:],axis=(0,1))[-1]))\n",
    "    #print(100*np.percentile(fe.slr_wf[s,:,:,:],perc[1],axis=(0,1))[-1]/(100*np.percentile(fe.slr_nf[s,:,:,:],perc[1],axis=(0,1))[-1]))\n",
    "        \n",
    "ax[0].legend(loc='upper left')\n",
    "\n",
    "ax[0].set_ylabel('Sea level rise [cm]',fontsize=9)\n",
    "ax[1].set_xlabel('Time [years]')\n",
    "\n",
    "plt.savefig(f'../draftfigs/full_ensemble_lin_{fe.year0}.png',dpi=450,facecolor='w',transparent=False)\n",
    "plt.show()\n",
    "\n",
    "#100-100*np.sum(fe.gamma<0,axis=(0,1))/(fe.gamma.shape[0]*fe.gamma.shape[1])\n",
    "\n",
    "#gampos = np.where(fe.gamma>0,fe.gamma,0)\n",
    "\n",
    "#np.nanmean(gampos,axis=(0,1))"
   ]
  },
  {
   "cell_type": "code",
   "execution_count": 18,
   "id": "81b2484f-6167-41bc-bbfd-038fbef33809",
   "metadata": {
    "jupyter": {
     "source_hidden": true
    },
    "tags": []
   },
   "outputs": [
    {
     "name": "stdout",
     "output_type": "stream",
     "text": [
      "1.2068323551816245\n",
      "1.183436637837737\n",
      "1.1385511828403563\n"
     ]
    },
    {
     "data": {
      "image/png": "[encoded data removed]",
      "text/plain": [
       "<Figure size 504x216 with 3 Axes>"
      ]
     },
     "metadata": {
      "needs_background": "light"
     },
     "output_type": "display_data"
    }
   ],
   "source": [
    "fig,ax = plt.subplots(1,3,sharex=True,sharey='row',figsize=(7,3))\n",
    "\n",
    "for s,ss in enumerate(ad.ssp):\n",
    "    #Plot no feedback\n",
    "    ax[s].plot(fe.time,100*np.nanmedian(fe.slr_nf[s,:,:,:],axis=(0,1)),c='.5',lw=2,label='No feedback')\n",
    "    ax[s].fill_between(fe.time,100*np.nanpercentile(fe.slr_nf[s,:,:,:],perc[0],axis=(0,1)),100*np.nanpercentile(fe.slr_nf[s,:,:,:],perc[1],axis=(0,1)),color='.5',alpha=alpha,label=perc)\n",
    "\n",
    "    #Plot with feedback\n",
    "    ax[s].plot(fe.time,100*np.nanmedian(fe.slr_wf[s,:,:,:],axis=(0,1)),c=ad.scol[ss],lw=2,label='With feedback')\n",
    "    ax[s].fill_between(fe.time,100*np.nanpercentile(fe.slr_wf[s,:,:,:],perc[0],axis=(0,1)),100*np.nanpercentile(fe.slr_wf[s,:,:,:],perc[1],axis=(0,1)),color=ad.scol[ss],alpha=alpha)\n",
    "\n",
    "    ax[s].set_title(f'SSP-{ss}')\n",
    "    print(100*np.nanmedian(fe.slr_wf[s,:,:,:],axis=(0,1))[-1]/(100*np.nanmedian(fe.slr_nf[s,:,:,:],axis=(0,1))[-1]))\n",
    "    #print(100*np.percentile(fe.slr_wf[s,:,:,:],perc[1],axis=(0,1))[-1]/(100*np.percentile(fe.slr_nf[s,:,:,:],perc[1],axis=(0,1))[-1]))\n",
    "        \n",
    "ax[0].legend(loc='upper left')\n",
    "\n",
    "ax[0].set_ylabel('Sea level rise [cm]',fontsize=9)\n",
    "ax[1].set_xlabel('Time [years]')\n",
    "\n",
    "plt.savefig(f'../draftfigs/full_ensemble_lin_{fe.year0}.png',dpi=450,facecolor='w',transparent=False)\n",
    "plt.show()\n",
    "\n",
    "#100-100*np.sum(fe.gamma<0,axis=(0,1))/(fe.gamma.shape[0]*fe.gamma.shape[1])\n",
    "\n",
    "#gampos = np.where(fe.gamma>0,fe.gamma,0)\n",
    "\n",
    "#np.nanmean(gampos,axis=(0,1))"
   ]
  },
  {
   "cell_type": "code",
   "execution_count": null,
   "id": "60786b93-779d-40ce-aea3-1b8ee87977b9",
   "metadata": {},
   "outputs": [],
   "source": []
  }
 ],
 "metadata": {
  "kernelspec": {
   "display_name": "Python 3 (ipykernel)",
   "language": "python",
   "name": "python3"
  },
  "language_info": {
   "codemirror_mode": {
    "name": "ipython",
    "version": 3
   },
   "file_extension": ".py",
   "mimetype": "text/x-python",
   "name": "python",
   "nbconvert_exporter": "python",
   "pygments_lexer": "ipython3",
   "version": "3.8.11"
  }
 },
 "nbformat": 4,
 "nbformat_minor": 5
}
