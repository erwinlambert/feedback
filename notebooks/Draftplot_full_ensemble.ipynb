{
 "cells": [
  {
   "cell_type": "markdown",
   "id": "693e2985-2a8e-4456-951b-522f1ee2c683",
   "metadata": {},
   "source": [
    "Create plot for full ensemble of SLR projections for 3 SSPs\n",
    "\n",
    "Ensemble contains a range of ESMs and ISMs\n",
    "\n",
    "Computation is done with and without feedback"
   ]
  },
  {
   "cell_type": "code",
   "execution_count": null,
   "id": "15dc5aa7-ff02-4654-9e50-96507d1ff8ed",
   "metadata": {},
   "outputs": [],
   "source": [
    "import numpy as np\n",
    "import xarray as xr\n",
    "import matplotlib.pyplot as plt"
   ]
  }
 ],
 "metadata": {
  "kernelspec": {
   "display_name": "Python 3 (ipykernel)",
   "language": "python",
   "name": "python3"
  },
  "language_info": {
   "codemirror_mode": {
    "name": "ipython",
    "version": 3
   },
   "file_extension": ".py",
   "mimetype": "text/x-python",
   "name": "python",
   "nbconvert_exporter": "python",
   "pygments_lexer": "ipython3",
   "version": "3.9.6"
  }
 },
 "nbformat": 4,
 "nbformat_minor": 5
}
