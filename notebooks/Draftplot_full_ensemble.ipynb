{
 "cells": [
  {
   "cell_type": "markdown",
   "id": "fdd590cf-e8ed-4c23-b16e-0d33727e5f9c",
   "metadata": {},
   "source": [
    "Calculate ensemble of sea level projections"
   ]
  },
  {
   "cell_type": "code",
   "execution_count": 1,
   "id": "31fe2692-ed70-4a04-ab7b-ca095a7092dd",
   "metadata": {},
   "outputs": [],
   "source": [
    "import numpy as np\n",
    "import xarray as xr\n",
    "import matplotlib as mpl\n",
    "import matplotlib.pyplot as plt\n",
    "\n",
    "import sys\n",
    "sys.path.append('../src')\n",
    "\n",
    "from alldata import AllData\n",
    "from ensemble import EnsembleMember,FullEnsemble\n",
    "\n",
    "np.set_printoptions(precision=2)\n",
    "%matplotlib notebook\n",
    "%matplotlib inline\n",
    "%config InlineBackend.print_figure_kwargs={'bbox_inches':None}\n",
    "%load_ext autoreload\n",
    "%autoreload 2"
   ]
  },
  {
   "cell_type": "markdown",
   "id": "22333138-56a4-48ca-973a-a400b4180028",
   "metadata": {},
   "source": [
    "Read data"
   ]
  },
  {
   "cell_type": "code",
   "execution_count": 2,
   "id": "8da3af88-2775-4e38-83bd-a1346a73f711",
   "metadata": {},
   "outputs": [
    {
     "name": "stdout",
     "output_type": "stream",
     "text": [
      "Gathered all data\n",
      "Doing a forced update of ensemble calculation:  ../data/ensemble_calS_cutoff_1951.nc\n",
      "ACCESS-CM2 CISM_NCA [6.   5.24] [3.34 3.17 3.02] [2.37 2.31 2.23]                           \n",
      "ACCESS-CM2 FETI_ULB [3.19 2.95] [3.35 3.29 3.34] [2.71 2.7  2.76]                           \n",
      "ACCESS-CM2 GRIS_LSC [nan nan] [nan nan nan] [nan nan nan]                           \n",
      "ACCESS-CM2 IMAU_UU [1.82 1.52] [1.31 1.31 1.31] [1.03 1.03 1.03]                           \n",
      "ACCESS-CM2 ISSM_UCI [1.82 1.76] [1.09 1.1  1.1 ] [1.05 1.06 1.06]                           \n",
      "ACCESS-CM2 MALI_DOE [4.15 3.66] [2.12 2.06 2.  ] [1.63 1.61 1.57]                           \n",
      "ACCESS-CM2 PISM_DMI [2.62 1.73] [7.25 6.37 5.69] [2.4  2.22 2.13]                           \n",
      "ACCESS-CM2 PISM_PIK [15.92  6.44] [-0.99 -0.57  0.07] [1.14 1.11 1.07]                           \n",
      "ACCESS-CM2 SICO_ILTS [2.23 2.05] [1.5  1.51 1.5 ] [1.32 1.32 1.32]                           \n",
      "CAMS-CSM1-0 CISM_NCA [5.73 3.43] [5.33 4.98 4.72] [1.23 1.23 1.22]                           \n",
      "CAMS-CSM1-0 FETI_ULB [3.32 1.99] [6.87 6.67 6.28] [1.31 1.33 1.3 ]                           \n",
      "CAMS-CSM1-0 GRIS_LSC [7.66 4.29] [1.89 1.91 2.1 ] [0.82 0.78 0.82]                           \n",
      "CAMS-CSM1-0 IMAU_UU [1.28 1.11] [1.24 1.23 1.23] [1.04 1.04 1.03]                           \n",
      "CAMS-CSM1-0 ISSM_UCI [1.63 1.48] [1.11 1.11 1.11] [1. 1. 1.]                           \n",
      "CAMS-CSM1-0 MALI_DOE [2.61 2.1 ] [1.59 1.6  1.59] [1.12 1.12 1.12]                           \n",
      "CAMS-CSM1-0 PISM_DMI [6.98 1.09] [17.06 15.2  13.82] [0.42 0.42 0.39]                           \n",
      "CAMS-CSM1-0 PISM_PIK [2.65 1.97] [1.61 1.58 1.53] [1.03 1.01 0.99]                           \n",
      "CAMS-CSM1-0 SICO_ILTS [1.62 1.34] [1.47 1.47 1.44] [1.12 1.12 1.1 ]                           \n",
      "CAS-ESM2-0 CISM_NCA [nan nan] [nan nan nan] [nan nan nan]                           \n",
      "CAS-ESM2-0 FETI_ULB [nan nan] [nan nan nan] [nan nan nan]                           \n",
      "CAS-ESM2-0 GRIS_LSC [12.26 17.93] [2.67 2.17 1.79] [4.17 3.47 2.64]                           \n",
      "CAS-ESM2-0 IMAU_UU [nan nan] [nan nan nan] [nan nan nan]                           \n",
      "CAS-ESM2-0 ISSM_UCI [nan nan] [nan nan nan] [nan nan nan]                           \n",
      "CAS-ESM2-0 MALI_DOE [nan nan] [nan nan nan] [nan nan nan]                           \n",
      "CAS-ESM2-0 PISM_DMI [nan nan] [nan nan nan] [nan nan nan]                           \n",
      "CAS-ESM2-0 PISM_PIK [nan nan] [nan nan nan] [nan nan nan]                           \n",
      "CAS-ESM2-0 SICO_ILTS [nan nan] [nan nan nan] [nan nan nan]                           \n",
      "CMCC-ESM2 CISM_NCA [nan nan] [nan nan nan] [nan nan nan]                           \n",
      "CMCC-ESM2 FETI_ULB [nan nan] [nan nan nan] [nan nan nan]                           \n",
      "CMCC-ESM2 GRIS_LSC [nan nan] [nan nan nan] [nan nan nan]                           \n",
      "CMCC-ESM2 IMAU_UU [nan nan] [nan nan nan] [nan nan nan]                           \n",
      "CMCC-ESM2 ISSM_UCI [4.6 6.5] [1.74 1.95 1.66] [3.38 3.38 3.04]                           \n",
      "CMCC-ESM2 MALI_DOE [nan nan] [nan nan nan] [nan nan nan]                           \n",
      "CMCC-ESM2 PISM_DMI [nan nan] [nan nan nan] [nan nan nan]                           \n",
      "CMCC-ESM2 PISM_PIK [nan nan] [nan nan nan] [nan nan nan]                           \n",
      "CMCC-ESM2 SICO_ILTS [4.19 2.9 ] [3.33 2.96 2.93] [1.46 1.53 1.37]                           \n",
      "CanESM5 CISM_NCA [3.56 3.14] [2.44 2.31 2.24] [1.83 1.77 1.76]                           \n",
      "CanESM5 FETI_ULB [nan nan] [nan nan nan] [nan nan nan]                           \n",
      "CanESM5 GRIS_LSC [4.49 8.  ] [1.39 1.32 1.16] [2.6  2.48 1.9 ]                           \n",
      "CanESM5 IMAU_UU [1.68 4.11] [1.45 1.43 1.46] [9.57 8.18 8.14]                           \n",
      "CanESM5 ISSM_UCI [1.65 1.75] [1.17 1.17 1.19] [1.26 1.26 1.27]                           \n",
      "CanESM5 MALI_DOE [3.12 2.87] [2.18 2.09 2.06] [1.82 1.77 1.77]                           \n",
      "CanESM5 PISM_DMI [0.68 0.7 ] [1.66 1.61 1.6 ] [1.7  1.65 1.64]                           \n",
      "CanESM5 PISM_PIK [1.41 1.19] [1.21 1.2  1.26] [0.99 0.99 1.02]                           \n",
      "CanESM5 SICO_ILTS [3.23 2.43] [3.11 2.9  2.77] [1.65 1.62 1.59]                           \n",
      "EC-Earth3 CISM_NCA [1.43 1.21] [1.32 1.32 1.36] [1.05 1.05 1.09]                           \n",
      "EC-Earth3 FETI_ULB [0.93 0.77] [1.35 1.35 1.39] [1.05 1.05 1.09]                           \n",
      "EC-Earth3 GRIS_LSC [4.04 3.04] [1.16 1.26 1.3 ] [0.84 0.91 0.93]                           \n",
      "EC-Earth3 IMAU_UU [0.37 0.35] [1.07 1.07 1.08] [1.01 1.01 1.02]                           \n",
      "EC-Earth3 ISSM_UCI [0.45 0.44] [1.04 1.04 1.05] [1.01 1.01 1.02]                           \n",
      "EC-Earth3 MALI_DOE [0.83 0.77] [1.15 1.15 1.17] [1.04 1.05 1.07]                           \n",
      "EC-Earth3 PISM_DMI [0.42 0.35] [1.38 1.38 1.38] [1.09 1.09 1.09]                           \n",
      "EC-Earth3 PISM_PIK [0.55 0.5 ] [1.09 1.08 1.14] [0.97 0.97 1.01]                           \n",
      "EC-Earth3 SICO_ILTS [0.5  0.47] [1.13 1.13 1.13] [1.05 1.05 1.05]                           \n",
      "EC-Earth3-Veg CISM_NCA [4.7  2.62] [1.58 2.06 1.87] [0.79 0.89 0.9 ]                           \n",
      "EC-Earth3-Veg FETI_ULB [3.14 1.46] [2.15 2.59 2.33] [0.75 0.8  0.8 ]                           \n",
      "EC-Earth3-Veg GRIS_LSC [5.09 2.06] [-0.62  1.37  1.33] [0.52 0.41 0.45]                           \n",
      "EC-Earth3-Veg IMAU_UU [1.42 1.22] [1.27 1.35 1.37] [1.05 1.11 1.13]                           \n",
      "EC-Earth3-Veg ISSM_UCI [5.42 2.05] [1.23 1.53 1.53] [0.44 0.47 0.49]                           \n",
      "EC-Earth3-Veg MALI_DOE [5.52 2.07] [1.53 1.93 1.83] [0.48 0.52 0.54]                           \n",
      "EC-Earth3-Veg PISM_DMI [nan nan] [nan nan nan] [nan nan nan]                           \n",
      "EC-Earth3-Veg PISM_PIK [nan nan] [nan nan nan] [nan nan nan]                           \n",
      "EC-Earth3-Veg SICO_ILTS [1.72 0.94] [1.27 1.4  1.41] [0.62 0.65 0.67]                           \n",
      "GFDL-ESM4 CISM_NCA [nan nan] [nan nan nan] [nan nan nan]                           \n",
      "GFDL-ESM4 FETI_ULB [1.99 1.12] [2.52 2.46 2.39] [0.86 0.85 0.84]                           \n",
      "GFDL-ESM4 GRIS_LSC [1.62 1.41] [1.16 1.1  1.11] [0.98 0.94 0.95]                           \n",
      "GFDL-ESM4 IMAU_UU [2.81 1.25] [2.38 2.43 2.37] [0.58 0.58 0.58]                           \n",
      "GFDL-ESM4 ISSM_UCI [1.24 1.05] [1.11 1.11 1.11] [0.92 0.92 0.92]                           \n",
      "GFDL-ESM4 MALI_DOE [1.91 1.38] [1.45 1.46 1.47] [0.92 0.92 0.93]                           \n",
      "GFDL-ESM4 PISM_DMI [3.04 0.7 ] [16.78 16.83 15.71] [0.48 0.47 0.48]                           \n",
      "GFDL-ESM4 PISM_PIK [2.08 2.  ] [1.46 1.46 1.55] [1.38 1.38 1.46]                           \n",
      "GFDL-ESM4 SICO_ILTS [0.89 0.73] [1.28 1.28 1.28] [1.   0.99 0.99]                           \n",
      "INM-CM4-8 CISM_NCA [3.31 2.44] [2.53 2.47 2.38] [1.31 1.28 1.23]                           \n",
      "INM-CM4-8 FETI_ULB [2.1  1.54] [2.75 2.7  2.64] [1.4  1.37 1.33]                           \n",
      "INM-CM4-8 GRIS_LSC [17.95 17.28] [1.11 1.11 1.18] [1.09 1.08 1.15]                           \n",
      "INM-CM4-8 IMAU_UU [1.34 1.16] [1.35 1.34 1.31] [1.11 1.1  1.08]                           \n",
      "INM-CM4-8 ISSM_UCI [1.33 1.21] [1.16 1.15 1.13] [1.03 1.02 1.01]                           \n",
      "INM-CM4-8 MALI_DOE [1.99 1.72] [1.56 1.53 1.49] [1.23 1.21 1.19]                           \n",
      "INM-CM4-8 PISM_DMI [0.86 0.69] [2.25 2.19 2.06] [1.48 1.45 1.38]                           \n",
      "INM-CM4-8 PISM_PIK [1.38 1.16] [1.24 1.24 1.23] [1.01 1.01 1.  ]                           \n",
      "INM-CM4-8 SICO_ILTS [1.1  1.01] [1.36 1.34 1.32] [1.21 1.19 1.18]                           \n",
      "INM-CM5-0 CISM_NCA [nan nan] [nan nan nan] [nan nan nan]                           \n",
      "INM-CM5-0 FETI_ULB [nan nan] [nan nan nan] [nan nan nan]                           \n",
      "INM-CM5-0 GRIS_LSC [nan nan] [nan nan nan] [nan nan nan]                           \n",
      "INM-CM5-0 IMAU_UU [1.75 1.34] [1.46 1.39 1.43] [1.   0.97 0.98]                           \n",
      "INM-CM5-0 ISSM_UCI [1.72 1.55] [1.15 1.15 1.15] [1.03 1.02 1.03]                           \n",
      "INM-CM5-0 MALI_DOE [3.14 2.17] [2.27 2.14 2.15] [1.06 1.03 1.04]                           \n",
      "INM-CM5-0 PISM_DMI [2.13 0.91] [13.44 11.53  9.14] [1.11 0.96 0.97]                           \n",
      "INM-CM5-0 PISM_PIK [5.02 2.29] [4.21 3.48 3.62] [0.7  0.69 0.73]                           \n",
      "INM-CM5-0 SICO_ILTS [2.21 1.48] [2.   1.85 1.91] [1.   0.95 0.97]                           \n",
      "MIROC6 CISM_NCA [4.52 2.75] [4.   3.68 3.38] [1.27 1.26 1.3 ]                           \n",
      "MIROC6 FETI_ULB [1.88 1.46] [2.   2.07 2.19] [1.24 1.29 1.36]                           \n",
      "MIROC6 GRIS_LSC [2.58 2.53] [1.21 1.19 1.2 ] [1.19 1.17 1.18]                           \n",
      "MIROC6 IMAU_UU [2.11 1.37] [1.82 1.81 1.9 ] [0.89 0.89 0.91]                           \n",
      "MIROC6 ISSM_UCI [1.55 1.31] [1.23 1.23 1.25] [1.   1.   1.02]                           \n",
      "MIROC6 MALI_DOE [2.85 1.97] [2.36 2.25 2.27] [1.14 1.13 1.16]                           \n",
      "MIROC6 PISM_DMI [0.92 0.72] [2.17 2.07 2.  ] [1.33 1.29 1.26]                           \n",
      "MIROC6 PISM_PIK [1.75 1.4 ] [1.42 1.5  1.6 ] [1.06 1.1  1.15]                           \n",
      "MIROC6 SICO_ILTS [1.29 1.04] [1.42 1.41 1.41] [1.05 1.04 1.04]                           \n",
      "MPI-ESM1-2-LR CISM_NCA [nan nan] [nan nan nan] [nan nan nan]                           \n",
      "MPI-ESM1-2-LR FETI_ULB [nan nan] [nan nan nan] [nan nan nan]                           \n",
      "MPI-ESM1-2-LR GRIS_LSC [nan nan] [nan nan nan] [nan nan nan]                           \n",
      "MPI-ESM1-2-LR IMAU_UU [2.03 1.53] [1.61 1.53 1.61] [1.03 1.   1.04]                           \n",
      "MPI-ESM1-2-LR ISSM_UCI [2.5  2.16] [1.26 1.23 1.29] [1.04 1.02 1.07]                           \n",
      "MPI-ESM1-2-LR MALI_DOE [nan nan] [nan nan nan] [nan nan nan]                           \n",
      "MPI-ESM1-2-LR PISM_DMI [0.76 0.65] [1.95 1.84 1.86] [1.49 1.42 1.45]                           \n",
      "MPI-ESM1-2-LR PISM_PIK [7.34 4.04] [3.24 3.01 2.85] [1.14 1.01 1.06]                           \n",
      "MPI-ESM1-2-LR SICO_ILTS [nan nan] [nan nan nan] [nan nan nan]                           \n",
      "MRI-ESM2-0 CISM_NCA [nan nan] [nan nan nan] [nan nan nan]                           \n",
      "MRI-ESM2-0 FETI_ULB [nan nan] [nan nan nan] [nan nan nan]                           \n",
      "MRI-ESM2-0 GRIS_LSC [nan nan] [nan nan nan] [nan nan nan]                           \n",
      "MRI-ESM2-0 IMAU_UU [2.01 1.54] [1.51 1.47 1.53] [1.03 1.01 1.04]                           \n",
      "MRI-ESM2-0 ISSM_UCI [1.98 1.77] [1.15 1.15 1.18] [1.01 1.   1.02]                           \n",
      "MRI-ESM2-0 MALI_DOE [3.16 2.4 ] [1.98 1.94 2.  ] [1.14 1.12 1.17]                           \n",
      "MRI-ESM2-0 PISM_DMI [1.27 0.9 ] [3.77 3.52 3.38] [1.53 1.44 1.48]                           \n",
      "MRI-ESM2-0 PISM_PIK [4.72 2.5 ] [3.3  3.41 3.38] [0.79 0.8  0.86]                           \n",
      "MRI-ESM2-0 SICO_ILTS [2.57 1.79] [2.28 2.2  2.23] [1.13 1.1  1.11]                           \n",
      "NorESM2-MM CISM_NCA [nan nan] [nan nan nan] [nan nan nan]                           \n",
      "NorESM2-MM FETI_ULB [4.85 1.31] [6.29 5.21 4.92] [0.54 0.54 0.58]                           \n",
      "NorESM2-MM GRIS_LSC [1.85 1.54] [1.25 1.26 1.22] [1.01 1.02 0.99]                           \n",
      "NorESM2-MM IMAU_UU [nan nan] [nan nan nan] [nan nan nan]                           \n",
      "NorESM2-MM ISSM_UCI [nan nan] [nan nan nan] [nan nan nan]                           \n",
      "NorESM2-MM MALI_DOE [nan nan] [nan nan nan] [nan nan nan]                           \n",
      "NorESM2-MM PISM_DMI [nan nan] [nan nan nan] [nan nan nan]                           \n",
      "NorESM2-MM PISM_PIK [nan nan] [nan nan nan] [nan nan nan]                           \n",
      "NorESM2-MM SICO_ILTS [nan nan] [nan nan nan] [nan nan nan]                           \n",
      "Saved ../data/ensemble_calS_cutoff_1951.nc                                            \n"
     ]
    }
   ],
   "source": [
    "ad = AllData()\n",
    "ad.usefanom = True\n",
    "ad.gather(update=False)\n",
    "#Select subsection of models for rapid calculation\n",
    "#ad.ds = ad.ds.isel(ism=slice(0,2),esm=slice(0,2))\n",
    "\n",
    "fe = FullEnsemble(ad)\n",
    "fe.cal = 'S'\n",
    "fe.nonlin = 'cutoff'\n",
    "fe.gather(force_update=True)"
   ]
  },
  {
   "cell_type": "markdown",
   "id": "0dc837d2-9c50-4867-b502-71ad662e9e68",
   "metadata": {},
   "source": [
    "Figure settings"
   ]
  },
  {
   "cell_type": "code",
   "execution_count": 14,
   "id": "f704f21d-62c5-4f3c-a497-3ab4dd47bb8b",
   "metadata": {},
   "outputs": [],
   "source": [
    "plt.style.use('../src/style_paper')\n",
    "mpl.rc('figure.subplot',left=.15,bottom=.2)\n",
    "\n",
    "alpha = .3 #Transparency of uncertainty range\n",
    "perc = [17,83] #Percentiles of uncertainty range"
   ]
  },
  {
   "cell_type": "markdown",
   "id": "d06d646b-c9f7-40b6-bfad-41cfcfc95009",
   "metadata": {},
   "source": [
    "Make and save figure"
   ]
  },
  {
   "cell_type": "code",
   "execution_count": 15,
   "id": "608683aa-7328-402c-85ff-68a0b6ba45df",
   "metadata": {},
   "outputs": [
    {
     "name": "stdout",
     "output_type": "stream",
     "text": [
      "88\n",
      "126 SLR_amp br 1.58911445140275\n",
      "126 SLR_amp ar 1.146812752977112\n",
      "88\n",
      "245 SLR_amp br 1.7650309321532291\n",
      "245 SLR_amp ar 1.0743068717589452\n",
      "88\n",
      "585 SLR_amp br 1.7712654976101037\n",
      "585 SLR_amp ar 1.129743287696795\n"
     ]
    },
    {
     "data": {
      "image/png": "[encoded data removed]",
      "text/plain": [
       "<Figure size 504x360 with 6 Axes>"
      ]
     },
     "metadata": {
      "needs_background": "light"
     },
     "output_type": "display_data"
    }
   ],
   "source": [
    "fig,ax = plt.subplots(2,3,sharex=True,sharey='row',figsize=(7,5))\n",
    "\n",
    "for s,ss in enumerate(ad.ssp):\n",
    "    print(np.sum(~np.isnan(fe.gamma[0,:,:].values)))    \n",
    "    \n",
    "    #Plot no feedback\n",
    "    for a in [0,1]:\n",
    "        ax[a,s].plot(fe.time,100*np.nanmedian(fe.slr[0,s,:,:,:],axis=(0,1)),c='.5',lw=2,label='No feedback')\n",
    "        ax[a,s].fill_between(fe.time,100*np.nanpercentile(fe.slr[0,s,:,:,:],perc[0],axis=(0,1)),100*np.nanpercentile(fe.slr[0,s,:,:,:],perc[1],axis=(0,1)),color='.5',alpha=alpha)#,label=perc)\n",
    "\n",
    "    #Plot with feedback\n",
    "    ax[0,s].plot(fe.time,100*np.nanmedian(fe.slr[1,s,:,:,:],axis=(0,1)),'--',c=ad.scol[ss],lw=2,label='Feedback')\n",
    "    ax[0,s].fill_between(fe.time,100*np.nanpercentile(fe.slr[1,s,:,:,:],perc[0],axis=(0,1)),100*np.nanpercentile(fe.slr[1,s,:,:,:],perc[1],axis=(0,1)),color=ad.scol[ss],alpha=alpha)\n",
    "\n",
    "    #Plot with feedback\n",
    "    ax[1,s].plot(fe.time,100*np.nanmedian(fe.slr[2,s,:,:,:],axis=(0,1)),c=ad.scol[ss],lw=2,label='Feedback')\n",
    "    ax[1,s].fill_between(fe.time,100*np.nanpercentile(fe.slr[2,s,:,:,:],perc[0],axis=(0,1)),100*np.nanpercentile(fe.slr[2,s,:,:,:],perc[1],axis=(0,1)),color=ad.scol[ss],alpha=alpha)\n",
    "    \n",
    "    ax[0,s].set_title(f'SSP-{ss}')\n",
    "    \n",
    "    print(ss,'SLR_amp','br',np.nanmedian(fe.slr[1,s,:,:,:],axis=(0,1))[-1]/(np.nanmedian(fe.slr[0,s,:,:,:],axis=(0,1))[-1]))\n",
    "    print(ss,'SLR_amp','ar',np.nanmedian(fe.slr[2,s,:,:,:],axis=(0,1))[-1]/(np.nanmedian(fe.slr[0,s,:,:,:],axis=(0,1))[-1]))\n",
    "    \n",
    "ax[0,0].legend(loc='upper left')\n",
    "fig.supylabel('Cumulative sea-level rise [cm]')\n",
    "ax[0,0].set_ylabel('Before recalibration',fontsize=9)\n",
    "ax[1,0].set_ylabel('After recalibration',fontsize=9)\n",
    "ax[1,1].set_xlabel('Time [years]')\n",
    "\n",
    "plt.savefig(f'../draftfigs/full_ensemble_cal{fe.cal}_{fe.nonlin}_{fe.year0}.png',dpi=450,facecolor='w',transparent=False)\n",
    "plt.show()"
   ]
  },
  {
   "cell_type": "code",
   "execution_count": null,
   "id": "e0cc3d3a-04ac-4e39-9c67-13d924ab4496",
   "metadata": {},
   "outputs": [],
   "source": []
  }
 ],
 "metadata": {
  "kernelspec": {
   "display_name": "Python 3 (ipykernel)",
   "language": "python",
   "name": "python3"
  },
  "language_info": {
   "codemirror_mode": {
    "name": "ipython",
    "version": 3
   },
   "file_extension": ".py",
   "mimetype": "text/x-python",
   "name": "python",
   "nbconvert_exporter": "python",
   "pygments_lexer": "ipython3",
   "version": "3.8.11"
  }
 },
 "nbformat": 4,
 "nbformat_minor": 5
}
