{
 "cells": [
  {
   "cell_type": "markdown",
   "id": "fdd590cf-e8ed-4c23-b16e-0d33727e5f9c",
   "metadata": {},
   "source": [
    "Calculate ensemble of sea level projections"
   ]
  },
  {
   "cell_type": "code",
   "execution_count": null,
   "id": "31fe2692-ed70-4a04-ab7b-ca095a7092dd",
   "metadata": {},
   "outputs": [],
   "source": [
    "import numpy as np\n",
    "import xarray as xr\n",
    "import matplotlib as mpl\n",
    "import matplotlib.pyplot as plt\n",
    "\n",
    "import sys\n",
    "sys.path.append('../src')\n",
    "\n",
    "from alldata import AllData\n",
    "from ensemble import EnsembleMember,FullEnsemble\n",
    "\n",
    "np.set_printoptions(precision=2)\n",
    "%matplotlib notebook\n",
    "%matplotlib inline\n",
    "%config InlineBackend.print_figure_kwargs={'bbox_inches':None}\n",
    "%load_ext autoreload\n",
    "%autoreload 2"
   ]
  },
  {
   "cell_type": "markdown",
   "id": "22333138-56a4-48ca-973a-a400b4180028",
   "metadata": {},
   "source": [
    "Read data"
   ]
  },
  {
   "cell_type": "code",
   "execution_count": null,
   "id": "1810ada9-262e-413a-9a3d-3c0d5eafe686",
   "metadata": {},
   "outputs": [],
   "source": [
    "\n",
    "ad = AllData()\n",
    "ad.usefanom = True\n",
    "ad.gather(update=False)\n",
    "#Select subsection of models for rapid calculation\n",
    "#ad.ds = ad.ds.isel(ism=slice(2,4),esm=slice(0,2))\n",
    "\n",
    "fe = FullEnsemble(ad)\n",
    "fe.gather(force_update=False)"
   ]
  },
  {
   "cell_type": "code",
   "execution_count": null,
   "id": "baaf9d84-939d-4b66-8cc3-a468cf0407e8",
   "metadata": {
    "tags": []
   },
   "outputs": [],
   "source": [
    "\n",
    "ad = AllData()\n",
    "ad.usefanom = True\n",
    "ad.gather(update=False)\n",
    "#Select subsection of models for rapid calculation\n",
    "#ad.ds = ad.ds.isel(ism=slice(2,4),esm=slice(0,2))\n",
    "\n",
    "fe = FullEnsemble(ad)\n",
    "fe.gather(force_update=True)"
   ]
  },
  {
   "cell_type": "markdown",
   "id": "0dc837d2-9c50-4867-b502-71ad662e9e68",
   "metadata": {},
   "source": [
    "Figure settings"
   ]
  },
  {
   "cell_type": "code",
   "execution_count": null,
   "id": "f704f21d-62c5-4f3c-a497-3ab4dd47bb8b",
   "metadata": {},
   "outputs": [],
   "source": [
    "plt.style.use('../src/style_paper')\n",
    "mpl.rc('figure.subplot',left=.15,bottom=.2)\n",
    "\n",
    "alpha = .3 #Transparency of uncertainty range\n",
    "perc = [17,83] #Percentiles of uncertainty range"
   ]
  },
  {
   "cell_type": "markdown",
   "id": "d06d646b-c9f7-40b6-bfad-41cfcfc95009",
   "metadata": {},
   "source": [
    "Make and save figure"
   ]
  },
  {
   "cell_type": "code",
   "execution_count": null,
   "id": "608683aa-7328-402c-85ff-68a0b6ba45df",
   "metadata": {},
   "outputs": [],
   "source": [
    "fig,ax = plt.subplots(2,3,sharex=True,sharey='row',figsize=(7,5))\n",
    "\n",
    "for s,ss in enumerate(ad.ssp):\n",
    "    for a in [0,1,2]:\n",
    "        for t in range(len(fe.time)):\n",
    "            fe.slr[a,s,:,:,t] = np.where(np.isnan(fe.gamma[1,:,:]),np.nan,fe.slr[a,s,:,:,t])\n",
    "            fe.slr[a,s,:,:,t] = np.where(fe.gamma[0,:,:]<0,np.nan,fe.slr[a,s,:,:,t])\n",
    "    \n",
    "    \n",
    "    #Plot no feedback\n",
    "    for a in [0,1]:\n",
    "        ax[a,s].plot(fe.time,100*np.nanmedian(fe.slr[0,s,:,:,:],axis=(0,1)),c='.5',lw=2,label='No feedback')\n",
    "        ax[a,s].fill_between(fe.time,100*np.nanpercentile(fe.slr[0,s,:,:,:],perc[0],axis=(0,1)),100*np.nanpercentile(fe.slr[0,s,:,:,:],perc[1],axis=(0,1)),color='.5',alpha=alpha)#,label=perc)\n",
    "\n",
    "    #Plot with feedback\n",
    "    ax[0,s].plot(fe.time,100*np.nanmedian(fe.slr[1,s,:,:,:],axis=(0,1)),'--',c=ad.scol[ss],lw=2,label='Feedback')\n",
    "    ax[0,s].fill_between(fe.time,100*np.nanpercentile(fe.slr[1,s,:,:,:],perc[0],axis=(0,1)),100*np.nanpercentile(fe.slr[1,s,:,:,:],perc[1],axis=(0,1)),color=ad.scol[ss],alpha=alpha)\n",
    "\n",
    "    #Plot with feedback\n",
    "    ax[1,s].plot(fe.time,100*np.nanmedian(fe.slr[2,s,:,:,:],axis=(0,1)),c=ad.scol[ss],lw=2,label='Feedback')\n",
    "    ax[1,s].fill_between(fe.time,100*np.nanpercentile(fe.slr[2,s,:,:,:],perc[0],axis=(0,1)),100*np.nanpercentile(fe.slr[2,s,:,:,:],perc[1],axis=(0,1)),color=ad.scol[ss],alpha=alpha)\n",
    "    \n",
    "    ax[0,s].set_title(f'SSP-{ss}')\n",
    "    \n",
    "    print(ss,'SLR_amp','br',np.nanmedian(fe.slr[1,s,:,:,:],axis=(0,1))[-1]/(np.nanmedian(fe.slr[0,s,:,:,:],axis=(0,1))[-1]))\n",
    "    print(ss,'SLR_amp','ar',np.nanmedian(fe.slr[2,s,:,:,:],axis=(0,1))[-1]/(np.nanmedian(fe.slr[0,s,:,:,:],axis=(0,1))[-1]))\n",
    "    \n",
    "ax[0,0].legend(loc='upper left')\n",
    "fig.supylabel('Cumulative sea-level rise [cm]')\n",
    "ax[0,0].set_ylabel('Before recalibration',fontsize=9)\n",
    "ax[1,0].set_ylabel('After recalibration',fontsize=9)\n",
    "ax[1,1].set_xlabel('Time [years]')\n",
    "\n",
    "plt.savefig(f'../draftfigs/full_ensemble_{fe.year0}.png',dpi=450,facecolor='w',transparent=False)\n",
    "plt.show()"
   ]
  },
  {
   "cell_type": "code",
   "execution_count": null,
   "id": "e0cc3d3a-04ac-4e39-9c67-13d924ab4496",
   "metadata": {},
   "outputs": [],
   "source": []
  }
 ],
 "metadata": {
  "kernelspec": {
   "display_name": "Python 3 (ipykernel)",
   "language": "python",
   "name": "python3"
  },
  "language_info": {
   "codemirror_mode": {
    "name": "ipython",
    "version": 3
   },
   "file_extension": ".py",
   "mimetype": "text/x-python",
   "name": "python",
   "nbconvert_exporter": "python",
   "pygments_lexer": "ipython3",
   "version": "3.8.11"
  }
 },
 "nbformat": 4,
 "nbformat_minor": 5
}
