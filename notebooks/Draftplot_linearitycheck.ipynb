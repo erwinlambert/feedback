{
 "cells": [
  {
   "cell_type": "markdown",
   "id": "c7e55e11-aa54-4d1f-a0c2-4147e9c0cb14",
   "metadata": {},
   "source": [
    "Plot equivalent ORFs:\n",
    "- EAIS + WEDD + AMUN + ROSS + PENS\n",
    "- TOTL\n",
    "- 2  * HALF\n",
    "- .5 * DOUB"
   ]
  },
  {
   "cell_type": "code",
   "execution_count": null,
   "id": "e671a4b1-df65-4495-9fb5-edd493807701",
   "metadata": {},
   "outputs": [],
   "source": [
    "import numpy as np\n",
    "import xarray as xr\n",
    "import matplotlib as mpl\n",
    "import matplotlib.pyplot as plt\n",
    "\n",
    "import sys\n",
    "sys.path.append('../src')\n",
    "import utils as ut\n",
    "\n",
    "from alldata import AllData\n",
    "from ensemble import EnsembleMember\n",
    "\n",
    "#np.set_printoptions(precision=2)\n",
    "%matplotlib notebook\n",
    "%matplotlib inline\n",
    "%config InlineBackend.print_figure_kwargs={'bbox_inches':None}\n",
    "%load_ext autoreload\n",
    "%autoreload 2"
   ]
  },
  {
   "cell_type": "code",
   "execution_count": null,
   "id": "fb2503fb-c4d5-495b-824d-14aefa1a3d75",
   "metadata": {},
   "outputs": [],
   "source": [
    "#Read data\n",
    "ad = AllData()\n",
    "ad.option='_lin'\n",
    "ds = ad.gather()"
   ]
  },
  {
   "cell_type": "code",
   "execution_count": null,
   "id": "6e1fde3a-2049-4c92-8b33-2b28866ca88f",
   "metadata": {},
   "outputs": [],
   "source": [
    "mpl.rcParams['lines.linewidth'] = 1.\n",
    "mpl.rcParams['figure.subplot.wspace'] = .1\n",
    "mpl.rcParams['figure.subplot.left'] = .15\n",
    "mpl.rcParams['figure.subplot.right'] = .99\n",
    "mpl.rcParams['figure.subplot.bottom'] = .1\n",
    "mpl.rcParams['figure.subplot.top'] = .95\n",
    "mpl.rcParams['figure.figsize'] = (7,4)"
   ]
  },
  {
   "cell_type": "code",
   "execution_count": null,
   "id": "11773af3-eb84-4805-b817-a3789104c777",
   "metadata": {},
   "outputs": [],
   "source": [
    "fig,ax = plt.subplots(5,4,sharex=True,sharey=True)\n",
    "for b,bas in enumerate(ds.basin.values):\n",
    "    for i in range(4):\n",
    "        ax[b,i].axhline(0,0,1,c='.5',ls=':')\n",
    "    \n",
    "    ax[b,0].plot(ds.rftime,ds.tanom[:,5,b],c=ut.bcol[bas])\n",
    "    ax[b,1].plot(ds.rftime,np.sum(ds.tanom[:,:5,b],axis=1),c=ut.bcol[bas])\n",
    "    ax[b,2].plot(ds.rftime,2*ds.tanom[:,6,b],c=ut.bcol[bas])\n",
    "    ax[b,3].plot(ds.rftime,.5*ds.tanom[:,7,b],c=ut.bcol[bas])\n",
    "\n",
    "    ax[b,0].set_ylabel(bas)\n",
    "ax[0,0].set_title('TOTL')\n",
    "ax[0,1].set_title('sum of 5')\n",
    "ax[0,2].set_title('HALF * 2')\n",
    "ax[0,3].set_title('DOUB / 2')\n",
    "fig.supxlabel('time [years]',fontsize=9)\n",
    "fig.supylabel('Ocean temperature response [degC]',fontsize=9)\n",
    "\n",
    "plt.savefig(f'../draftfigs/linearitycheck{ad.option}.png',dpi=450)\n",
    "plt.show()"
   ]
  },
  {
   "cell_type": "code",
   "execution_count": null,
   "id": "dc04fee9-934a-4939-9cf7-57a16c202cfc",
   "metadata": {},
   "outputs": [],
   "source": []
  }
 ],
 "metadata": {
  "kernelspec": {
   "display_name": "Python 3 (ipykernel)",
   "language": "python",
   "name": "python3"
  },
  "language_info": {
   "codemirror_mode": {
    "name": "ipython",
    "version": 3
   },
   "file_extension": ".py",
   "mimetype": "text/x-python",
   "name": "python",
   "nbconvert_exporter": "python",
   "pygments_lexer": "ipython3",
   "version": "3.8.11"
  }
 },
 "nbformat": 4,
 "nbformat_minor": 5
}
