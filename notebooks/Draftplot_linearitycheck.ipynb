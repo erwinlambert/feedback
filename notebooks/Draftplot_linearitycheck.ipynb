{
 "cells": [
  {
   "cell_type": "markdown",
   "id": "c7e55e11-aa54-4d1f-a0c2-4147e9c0cb14",
   "metadata": {},
   "source": [
    "Plot equivalent ORFs:\n",
    "- EAIS + WEDD + AMUN + ROSS + PENS\n",
    "- TOTL\n",
    "- 2  * HALF\n",
    "- .5 * DOUB"
   ]
  },
  {
   "cell_type": "code",
   "execution_count": null,
   "id": "e671a4b1-df65-4495-9fb5-edd493807701",
   "metadata": {},
   "outputs": [],
   "source": [
    "import numpy as np\n",
    "import xarray as xr\n",
    "import matplotlib as mpl\n",
    "import matplotlib.pyplot as plt\n",
    "\n",
    "import sys\n",
    "sys.path.append('../src')\n",
    "\n",
    "from alldata import AllData\n",
    "from ensemble import EnsembleMember\n",
    "\n",
    "#np.set_printoptions(precision=2)\n",
    "%matplotlib notebook\n",
    "%matplotlib inline\n",
    "%config InlineBackend.print_figure_kwargs={'bbox_inches':None}\n",
    "%load_ext autoreload\n",
    "%autoreload 2"
   ]
  },
  {
   "cell_type": "markdown",
   "id": "1505dfe8-7070-4b5c-a3ed-1e6a761aaeb8",
   "metadata": {},
   "source": [
    "Read data"
   ]
  },
  {
   "cell_type": "code",
   "execution_count": null,
   "id": "fb2503fb-c4d5-495b-824d-14aefa1a3d75",
   "metadata": {},
   "outputs": [],
   "source": [
    "ad = AllData()\n",
    "ds = ad.gather()"
   ]
  },
  {
   "cell_type": "markdown",
   "id": "2b63b801-2e08-4b81-807a-fda2896905aa",
   "metadata": {},
   "source": [
    "Figure settings"
   ]
  },
  {
   "cell_type": "code",
   "execution_count": null,
   "id": "6e1fde3a-2049-4c92-8b33-2b28866ca88f",
   "metadata": {},
   "outputs": [],
   "source": [
    "plt.style.use('../src/style_paper')\n",
    "\n",
    "mpl.rc('figure.subplot',left=.12)"
   ]
  },
  {
   "cell_type": "code",
   "execution_count": null,
   "id": "11773af3-eb84-4805-b817-a3789104c777",
   "metadata": {},
   "outputs": [],
   "source": [
    "fig,ax = plt.subplots(5,4,sharex=True,sharey=True)\n",
    "for b,bas in enumerate(ad.basin):\n",
    "    for i in range(4):\n",
    "        ax[b,i].axhline(0,0,1,c='.5',ls=':')\n",
    "    \n",
    "    ax[b,0].plot(ad.rftime,ad.tanom[:,5,b],c=ad.bcol[bas])\n",
    "    ax[b,1].plot(ad.rftime,np.sum(ad.tanom[:,:5,b],axis=1),c=ad.bcol[bas])\n",
    "    ax[b,2].plot(ad.rftime,2*ad.tanom[:,6,b],c=ad.bcol[bas])\n",
    "    ax[b,3].plot(ad.rftime,.5*ad.tanom[:,7,b],c=ad.bcol[bas])\n",
    "\n",
    "    ax[b,0].set_ylabel(bas)\n",
    "ax[0,0].set_title('TOTL')\n",
    "ax[0,1].set_title('sum of 5')\n",
    "ax[0,2].set_title('HALF * 2')\n",
    "ax[0,3].set_title('DOUB / 2')\n",
    "fig.supxlabel('Time [years]')\n",
    "fig.supylabel('Ocean temperature response [degC]')\n",
    "\n",
    "plt.savefig(f'../draftfigs/linearitycheck{ad.option}.png')\n",
    "plt.show()"
   ]
  },
  {
   "cell_type": "code",
   "execution_count": null,
   "id": "dc04fee9-934a-4939-9cf7-57a16c202cfc",
   "metadata": {},
   "outputs": [],
   "source": []
  }
 ],
 "metadata": {
  "kernelspec": {
   "display_name": "Python 3 (ipykernel)",
   "language": "python",
   "name": "python3"
  },
  "language_info": {
   "codemirror_mode": {
    "name": "ipython",
    "version": 3
   },
   "file_extension": ".py",
   "mimetype": "text/x-python",
   "name": "python",
   "nbconvert_exporter": "python",
   "pygments_lexer": "ipython3",
   "version": "3.8.11"
  }
 },
 "nbformat": 4,
 "nbformat_minor": 5
}
