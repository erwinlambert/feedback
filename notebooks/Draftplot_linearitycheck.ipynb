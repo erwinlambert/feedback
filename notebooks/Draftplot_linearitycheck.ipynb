{
 "cells": [
  {
   "cell_type": "markdown",
   "id": "c7e55e11-aa54-4d1f-a0c2-4147e9c0cb14",
   "metadata": {},
   "source": [
    "Plot equivalent ORFs:\n",
    "- EAIS + WEDD + AMUN + ROSS + PENS\n",
    "- TOTL\n",
    "- 2  * HALF\n",
    "- .5 * DOUB"
   ]
  },
  {
   "cell_type": "code",
   "execution_count": null,
   "id": "e671a4b1-df65-4495-9fb5-edd493807701",
   "metadata": {},
   "outputs": [],
   "source": [
    "import numpy as np\n",
    "import xarray as xr\n",
    "import matplotlib as mpl\n",
    "import matplotlib.pyplot as plt\n",
    "\n",
    "import sys\n",
    "sys.path.append('../src')\n",
    "\n",
    "from alldata import AllData\n",
    "from ensemble import EnsembleMember\n",
    "\n",
    "#np.set_printoptions(precision=2)\n",
    "%matplotlib notebook\n",
    "%matplotlib inline\n",
    "%config InlineBackend.print_figure_kwargs={'bbox_inches':None}\n",
    "%load_ext autoreload\n",
    "%autoreload 2"
   ]
  },
  {
   "cell_type": "markdown",
   "id": "1505dfe8-7070-4b5c-a3ed-1e6a761aaeb8",
   "metadata": {},
   "source": [
    "Read data"
   ]
  },
  {
   "cell_type": "code",
   "execution_count": null,
   "id": "fb2503fb-c4d5-495b-824d-14aefa1a3d75",
   "metadata": {},
   "outputs": [],
   "source": [
    "ad = AllData()\n",
    "ad.fitctrl=True\n",
    "\n",
    "ds = ad.gather(update=True)"
   ]
  },
  {
   "cell_type": "markdown",
   "id": "2b63b801-2e08-4b81-807a-fda2896905aa",
   "metadata": {},
   "source": [
    "Figure settings"
   ]
  },
  {
   "cell_type": "code",
   "execution_count": null,
   "id": "6e1fde3a-2049-4c92-8b33-2b28866ca88f",
   "metadata": {},
   "outputs": [],
   "source": [
    "plt.style.use('../src/style_paper')\n",
    "\n",
    "mpl.rc('figure.subplot',left=.15)"
   ]
  },
  {
   "cell_type": "code",
   "execution_count": null,
   "id": "1d5522f4-b29b-40f3-958f-dfe4857da4d8",
   "metadata": {},
   "outputs": [],
   "source": [
    "alpha = [.5,.5,.5,.5,.5]"
   ]
  },
  {
   "cell_type": "code",
   "execution_count": null,
   "id": "11773af3-eb84-4805-b817-a3789104c777",
   "metadata": {},
   "outputs": [],
   "source": [
    "fig,ax = plt.subplots(5,4,sharey='row')\n",
    "for b,bas in enumerate(ad.basin):\n",
    "    for i in range(4):\n",
    "        ax[b,i].axhline(0,0,1,c='.5',ls=':')\n",
    "    \n",
    "    ax[b,0].plot(ad.rftime,np.mean(ad.tanom[:,:5,b],axis=1),c=ad.bcol[bas],lw=0.5)\n",
    "    ax[b,0].plot(ad.rftime,np.mean(ad.fanom[:,:5,b],axis=1),c=ad.bcol[bas],lw=1.5)\n",
    "    ax[b,1].plot(ad.rftime,ad.tanom[:,6,b],c=ad.bcol[bas],lw=0.5)\n",
    "    ax[b,1].plot(ad.rftime,ad.fanom[:,6,b],c=ad.bcol[bas],lw=1.5)\n",
    "    ax[b,2].plot(ad.rftime,ad.tanom[:,5,b],c=ad.bcol[bas],lw=0.5)\n",
    "    ax[b,2].plot(ad.rftime,ad.fanom[:,5,b],c=ad.bcol[bas],lw=1.5)\n",
    "    \n",
    "    y400  = np.mean(ad.tanom[-75:,:5,b])\n",
    "    y1000 = np.mean(ad.fanom[-75:,6,b])\n",
    "    y2000 = np.mean(ad.tanom[-75:,5,b])\n",
    "    \n",
    "    ax[b,3].scatter([0,400,1000,2000],[0,y400,y1000,y2000],c=ad.bcol[bas],s=10)\n",
    "    \n",
    "    xarr = np.arange(0,2000)\n",
    "    ax[b,3].plot(xarr,y400/400*xarr,c=ad.bcol[bas],ls=':')\n",
    "    ax[b,3].plot(xarr,(xarr/400)**(alpha[b])*y400,c=ad.bcol[bas])\n",
    "    ax[b,3].text(.02,.8,fr\"$\\alpha$ = {alpha[b]}\",transform=ax[b,3].transAxes,c=ad.bcol[bas])\n",
    "    \n",
    "    ax[b,3].set_xticks([0,400,1000,2000])\n",
    "    #ax[b,3].plot([0,2000],[0,5*np.mean(ad.fanom[-1,:5,b])],c=ad.bcol[bas],ls=':')\n",
    "\n",
    "    #ax[b,3].plot(ad.rftime,.5*ad.tanom[:,7,b],c=ad.bcol[bas])\n",
    "\n",
    "    ax[b,0].set_ylabel(bas)\n",
    "    \n",
    "    if b < 4:\n",
    "        for i in range(4):\n",
    "            ax[b,i].set_xticklabels([])\n",
    "ax[0,0].set_title('400 Gt/yr')\n",
    "ax[0,1].set_title('1000 Gt/yr')\n",
    "ax[0,2].set_title('2000 Gt/yr')\n",
    "ax[0,3].set_title('Equilibrium response')\n",
    "\n",
    "ax[4,1].set_xlabel('Time [years]')\n",
    "ax[4,3].set_xlabel('Perturbation [Gt/yr]')\n",
    "fig.supylabel(r\"Ocean temperature response [$\\degree$C]\")\n",
    "\n",
    "plt.savefig(f'../draftfigs/linearitycheck.png')\n",
    "plt.show()"
   ]
  },
  {
   "cell_type": "code",
   "execution_count": null,
   "id": "cbc78742-ff53-4a85-9126-fcf73c010df8",
   "metadata": {},
   "outputs": [],
   "source": []
  }
 ],
 "metadata": {
  "kernelspec": {
   "display_name": "Python 3 (ipykernel)",
   "language": "python",
   "name": "python3"
  },
  "language_info": {
   "codemirror_mode": {
    "name": "ipython",
    "version": 3
   },
   "file_extension": ".py",
   "mimetype": "text/x-python",
   "name": "python",
   "nbconvert_exporter": "python",
   "pygments_lexer": "ipython3",
   "version": "3.8.11"
  }
 },
 "nbformat": 4,
 "nbformat_minor": 5
}
