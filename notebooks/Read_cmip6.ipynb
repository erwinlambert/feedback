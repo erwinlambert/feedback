{
 "cells": [
  {
   "cell_type": "markdown",
   "id": "776eae91-ce70-40b7-be9c-a25a58714a29",
   "metadata": {},
   "source": [
    "Get pre-industrial control time series from EC-Earth3 CMIP6"
   ]
  },
  {
   "cell_type": "code",
   "execution_count": null,
   "id": "31c08280-62ae-4681-be80-6931bc681bb4",
   "metadata": {},
   "outputs": [],
   "source": [
    "import xarray as xr\n",
    "import glob\n",
    "import numpy as np\n",
    "import cftime\n",
    "\n",
    "#np.seterr(all='ignore');\n",
    "import sys\n",
    "sys.path.append('../src')\n",
    "import utils as ut"
   ]
  },
  {
   "cell_type": "code",
   "execution_count": null,
   "id": "b08204ea-618c-4e75-b916-0b1c74881ea9",
   "metadata": {},
   "outputs": [],
   "source": [
    "period = 'piControl'\n",
    "#period = 'historical'"
   ]
  },
  {
   "cell_type": "code",
   "execution_count": null,
   "id": "a4ce4bad-03d6-4837-ac57-b4fb404138d5",
   "metadata": {},
   "outputs": [],
   "source": [
    "fnames = sorted(glob.glob(f'../data/ecefiles/cmip6/thetao_Omon_EC-Earth3_{period}*.nc'))\n",
    "\n",
    "nyears = len(fnames)\n",
    "print(fnames[0])"
   ]
  },
  {
   "cell_type": "code",
   "execution_count": null,
   "id": "d25aa2af-5467-4e5d-b920-a73866970804",
   "metadata": {},
   "outputs": [],
   "source": [
    "#Get time-independent variables\n",
    "ds = xr.open_dataset('../data/ecefiles/areas.nc')\n",
    "area = ds['O1t0.srf'].values;\n",
    "ds.close()\n",
    "\n",
    "ds = xr.open_dataset('../data/ecefiles/pi03/pi03_1m_18500101_18501231_grid_T.nc')\n",
    "lat = ds['nav_lat'].values\n",
    "lon = ds['nav_lon'].values\n",
    "levmid = ds['olevel'].values\n",
    "lev = ds['olevel_bounds'].values\n",
    "time_bnds = ds['time_centered_bounds']\n",
    "thick = ds['e3t'].values #Quasi-time-independent, treated as fixed\n",
    "ds.close()\n",
    "secs = (time_bnds[:,1]-time_bnds[:,0]).values / np.timedelta64(1, 's')"
   ]
  },
  {
   "cell_type": "code",
   "execution_count": null,
   "id": "7abd22de-6703-451d-a504-ba677c84f08c",
   "metadata": {},
   "outputs": [],
   "source": [
    "#Get weighted mask for basin averages\n",
    "lons = np.repeat(lon[np.newaxis,:,:],len(levmid),axis=0)\n",
    "lats = np.repeat(lat[np.newaxis,:,:],len(levmid),axis=0)\n",
    "mask = np.repeat(np.zeros(lons.shape)[np.newaxis,:,:,:],len(ut.basin),axis=0)\n",
    "aweight = np.zeros(mask.shape)\n",
    "\n",
    "for b,bas in enumerate(ut.basin):\n",
    "    mm = np.zeros(lons.shape)\n",
    "    if bas=='East Ant.':\n",
    "        #EAIS\n",
    "        mm[((lons<173) & (lons>-10)) & (lats<-65) & (lats>-76)] = 1\n",
    "        depp = 369\n",
    "    elif bas=='Ross':\n",
    "        #ROSS\n",
    "        mm[((lons>150) | (lons<-150)) & (lats<-76)] = 1\n",
    "        depp = 312        \n",
    "    elif bas=='Amundsen':\n",
    "        #AMUN\n",
    "        mm[(lons>-150) & (lons<-80) & (lats<-70)] = 1\n",
    "        depp = 305\n",
    "    elif bas=='Weddell':\n",
    "        #WEDD\n",
    "        mm[(lons>-65) & (lons<-10) & (lats<-72)] = 1\n",
    "        depp = 420\n",
    "    elif bas=='Peninsula':\n",
    "        #APEN\n",
    "        mm[(lons>-66) & (lons<-56) & (lats>-70) & (lats<-65)] = 1\n",
    "        mm[(lons>-80) & (lons<-65) & (lats>-75) & (lats<-70)] = 1\n",
    "        depp = 420\n",
    "    else: print('error in basin name')\n",
    "        \n",
    "    z0 = depp-50.\n",
    "    i0 = np.argmax(lev[:,1]>z0)\n",
    "    mm[:i0,:,:] = 0\n",
    "    w0 = (lev[i0,1]-z0)/(lev[i0,1]-lev[i0,0])\n",
    "    mm[i0,:,:] = w0*mm[i0,:,:]\n",
    "    for j in range(0,lon.shape[0]):\n",
    "        for i in range(0,lon.shape[1]):\n",
    "            if np.nansum(thick[0,i0:,j,i]) == 0:\n",
    "                continue\n",
    "            z1 = depp+50.\n",
    "            i1 = np.argmin(lev[:,1]<z1)\n",
    "            w1 = (z1-lev[i1,0])/(lev[i1,1]-lev[i1,0])\n",
    "            mm[i1,j,i] = w1*mm[i1,j,i]\n",
    "            mm[i1+1:,j,i] = 0\n",
    "    mask[b,:,:,:] = mm*np.where(np.isnan(thick[0,:,:,:]),0,thick[0,:,:,:])/100.\n",
    "    aweight[b,:,:,:] = mask[b,:,:,:]*area[np.newaxis,:,:] "
   ]
  },
  {
   "cell_type": "code",
   "execution_count": null,
   "id": "adbbdd88-c563-4161-b1b9-8a5b168dcdfd",
   "metadata": {
    "tags": []
   },
   "outputs": [],
   "source": [
    "#Calculate basin-average annual time series\n",
    "tbas = np.zeros((nyears,len(ut.basin)))\n",
    "ttime = np.arange(nyears)\n",
    "months = np.arange(0,12)\n",
    "\n",
    "c = 0\n",
    "for f,fname in enumerate(fnames):\n",
    "    ds = xr.open_dataset(fname,use_cftime=True)\n",
    "    time = ds['time'].values\n",
    "    temp = ds['thetao'].values\n",
    "    ds.close()\n",
    "    \n",
    "    year0 = int(fname[-16:-12])\n",
    "    \n",
    "    tb = np.zeros((len(ut.basin)))\n",
    "    ny = int(len(time)/12)\n",
    "    for y in np.arange(0,ny):\n",
    "        for b,bas in enumerate(ut.basin):\n",
    "            for m,mm in enumerate(months):\n",
    "                tbb = np.nansum(temp[m+12*y,:,:,:]*aweight[b,:,:,:])/np.nansum(aweight[b,:,:,:])\n",
    "                tb[b] += tbb*secs[m]\n",
    "            tbas[c,b] = tb[b]/sum(secs)\n",
    "        print(year0+y,c,tbas[c,:])\n",
    "        tb = np.zeros((len(ut.basin)))\n",
    "        c += 1"
   ]
  },
  {
   "cell_type": "code",
   "execution_count": null,
   "id": "933e71a9-afcd-4cb5-88da-4b6275bf5b8e",
   "metadata": {},
   "outputs": [],
   "source": [
    "if period == 'piControl':\n",
    "    ttime += -nyears\n",
    "\n",
    "temp2 = xr.DataArray(tbas,dims=('time','basin'),coords={'time':ttime,'basin':ut.basin},attrs={'unit':'degrees Celcius','long_name':'temperature time series per basin'})\n",
    "\n",
    "ds = xr.Dataset({'temp':temp2})\n",
    "ds.to_netcdf(f'../data/temperature_cmip6_{period}.nc',mode='w')\n",
    "ds.close()"
   ]
  },
  {
   "cell_type": "code",
   "execution_count": null,
   "id": "d5df51f6-e28d-40ae-a80e-c029702326b7",
   "metadata": {},
   "outputs": [],
   "source": []
  }
 ],
 "metadata": {
  "kernelspec": {
   "display_name": "Python 3 (ipykernel)",
   "language": "python",
   "name": "python3"
  },
  "language_info": {
   "codemirror_mode": {
    "name": "ipython",
    "version": 3
   },
   "file_extension": ".py",
   "mimetype": "text/x-python",
   "name": "python",
   "nbconvert_exporter": "python",
   "pygments_lexer": "ipython3",
   "version": "3.8.11"
  }
 },
 "nbformat": 4,
 "nbformat_minor": 5
}
