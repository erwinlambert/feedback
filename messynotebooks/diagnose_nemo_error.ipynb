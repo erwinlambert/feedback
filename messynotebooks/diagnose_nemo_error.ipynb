{
 "cells": [
  {
   "cell_type": "code",
   "execution_count": 1,
   "id": "introductory-arlington",
   "metadata": {},
   "outputs": [],
   "source": [
    "import os\n",
    "import glob\n",
    "import xarray as xr\n",
    "import matplotlib as mpl\n",
    "import matplotlib.pyplot as plt\n",
    "import numpy as np"
   ]
  },
  {
   "cell_type": "code",
   "execution_count": 7,
   "id": "outer-estonia",
   "metadata": {},
   "outputs": [
    {
     "name": "stdout",
     "output_type": "stream",
     "text": [
      "1850: CAL: 666352 Gt/yr | RO: 86920 Gt/yr\n"
     ]
    }
   ],
   "source": [
    "years = [1850]\n",
    "months = [1]\n",
    "\n",
    "run = 'fx01'\n",
    "\n",
    "CAL  = np.zeros((len(years),len(months)))\n",
    "RO   = np.zeros((len(years),len(months)))\n",
    "\n",
    "#Read generic NEMO data\n",
    "ds = xr.open_dataset('../data/ecefiles/areas.nc')\n",
    "area = ds['O1t0.srf'].values;\n",
    "ds.close()\n",
    "ds = xr.open_dataset(f'../data/ecefiles/{run}/{run}_1m_{years[0]}0101_{years[0]}1231_grid_T.nc')\n",
    "lat = ds['nav_lat'].values\n",
    "lon = ds['nav_lon'].values\n",
    "time_bnds = ds['time_centered_bounds']\n",
    "mask = np.where(lat<-60,1,0)\n",
    "ds.close()\n",
    "\n",
    "#Extract diagnostics\n",
    "for y,yy in enumerate(years):\n",
    "    ds = xr.open_dataset(f'../data/ecefiles/{run}/{run}_1m_{yy}0101_{yy}1231_grid_T.nc')\n",
    "    calv = ds['calving'].values\n",
    "    rnf  = ds['friver'].values\n",
    "    \n",
    "    for m,mm in enumerate(months):\n",
    "        secs = (time_bnds[m,1]-time_bnds[m,0]).values / np.timedelta64(1, 's')\n",
    "        CAL[y,m] = np.nansum(calv[m,:,:]*area*mask*secs*1e-12)\n",
    "        RO[y,m]  = np.nansum(rnf[m,:,:]*area*mask*secs*1e-12)\n",
    "    print(f'{yy}: CAL: {np.sum(CAL[y,:]):.0f} Gt/yr | RO: {np.sum(RO[y,:]):.0f} Gt/yr')\n",
    "        "
   ]
  },
  {
   "cell_type": "code",
   "execution_count": 14,
   "id": "rapid-checklist",
   "metadata": {},
   "outputs": [
    {
     "name": "stdout",
     "output_type": "stream",
     "text": [
      "2757.3186206896553\n",
      "2980.114285714286\n"
     ]
    }
   ],
   "source": [
    "print(666352*12/2900.)\n",
    "print(86920*12/350.)"
   ]
  },
  {
   "cell_type": "code",
   "execution_count": 15,
   "id": "stopped-trailer",
   "metadata": {},
   "outputs": [
    {
     "name": "stdout",
     "output_type": "stream",
     "text": [
      "11111111.111111112\n",
      "92592592.5925926\n"
     ]
    }
   ],
   "source": [
    "print(3e10/2700.)\n",
    "print(2.5e11/2700.)"
   ]
  },
  {
   "cell_type": "code",
   "execution_count": null,
   "id": "reflected-musician",
   "metadata": {},
   "outputs": [],
   "source": []
  }
 ],
 "metadata": {
  "kernelspec": {
   "display_name": "Python 3",
   "language": "python",
   "name": "python3"
  },
  "language_info": {
   "codemirror_mode": {
    "name": "ipython",
    "version": 3
   },
   "file_extension": ".py",
   "mimetype": "text/x-python",
   "name": "python",
   "nbconvert_exporter": "python",
   "pygments_lexer": "ipython3",
   "version": "3.9.2"
  }
 },
 "nbformat": 4,
 "nbformat_minor": 5
}
