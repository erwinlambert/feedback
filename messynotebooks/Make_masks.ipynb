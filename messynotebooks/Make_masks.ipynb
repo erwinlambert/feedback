{
 "cells": [
  {
   "cell_type": "code",
   "execution_count": null,
   "metadata": {},
   "outputs": [],
   "source": [
    "import xarray as xr\n",
    "import pyproj\n",
    "import matplotlib as mpl\n",
    "import matplotlib.pyplot as plt\n",
    "import cmocean as cmo\n",
    "from mpl_toolkits.axes_grid1 import make_axes_locatable\n",
    "import cartopy.crs as ccrs\n",
    "import numpy as np"
   ]
  },
  {
   "cell_type": "code",
   "execution_count": null,
   "metadata": {},
   "outputs": [],
   "source": [
    "ds = xr.open_dataset('../data/ecefiles/runoff_maps.nc')"
   ]
  },
  {
   "cell_type": "code",
   "execution_count": null,
   "metadata": {},
   "outputs": [],
   "source": [
    "proj = ccrs.SouthPolarStereo()\n",
    "cmap = plt.get_cmap('tab10',10)\n",
    "cmap.set_under('.8')"
   ]
  },
  {
   "cell_type": "code",
   "execution_count": null,
   "metadata": {},
   "outputs": [],
   "source": [
    "lon = ds.lon\n",
    "lat = ds.lat\n",
    "drain = ds['drainage_basin_id']\n",
    "calv = ds['calving_point_id']\n",
    "arr = ds['arrival_point_id']\n",
    "\n",
    "fig = fig = plt.figure(figsize=(15,5))\n",
    "ax = fig.add_subplot(131,projection=proj)\n",
    "im = ax.pcolormesh(lon,lat[:45],drain[:45,:],shading='auto',cmap=cmap,transform=ccrs.PlateCarree(),vmin=65.5,vmax=75.5)\n",
    "ax.coastlines(lw=.1)\n",
    "ax.set_title('catchment')\n",
    "\n",
    "ax = fig.add_subplot(132,projection=proj)\n",
    "im = ax.pcolormesh(lon,lat[:45],calv[:45,:],shading='auto',cmap=cmap,transform=ccrs.PlateCarree(),vmin=65.5,vmax=75.5)\n",
    "ax.coastlines(lw=.1)\n",
    "ax.set_title('calving')\n",
    "\n",
    "ax = fig.add_subplot(133,projection=proj)\n",
    "im = ax.pcolormesh(lon,lat[:45],arr[:45,:],shading='auto',cmap=cmap,transform=ccrs.PlateCarree(),vmin=65.5,vmax=75.5)\n",
    "ax.coastlines(lw=.1)\n",
    "ax.set_title('runoff')\n",
    "plt.savefig(f'../figures/masks_old.png',dpi=450)\n",
    "plt.show()"
   ]
  },
  {
   "cell_type": "code",
   "execution_count": null,
   "metadata": {},
   "outputs": [],
   "source": [
    "lon = ds.lon\n",
    "lat = ds.lat\n",
    "lons,lats = np.meshgrid(lon,lat)\n",
    "drain = ds['drainage_basin_id']\n",
    "calv = ds['calving_point_id']\n",
    "arr = ds['arrival_point_id']"
   ]
  },
  {
   "cell_type": "code",
   "execution_count": null,
   "metadata": {},
   "outputs": [],
   "source": [
    "#Separate Ross vs Wedd\n",
    "drain = np.where(np.logical_and(np.logical_and(drain==66,lons>90),lons<270),67,drain)\n",
    "\n",
    "#Split EAIS\n",
    "drain = np.where(np.logical_and(np.logical_and(drain>65,lons>350),lats>-77),68,drain)\n",
    "drain = np.where(np.logical_and(np.logical_and(drain>65,lons<180),lats>-77),68,drain)\n",
    "\n",
    "#Split Amun\n",
    "drain = np.where(np.logical_and(np.logical_and(np.logical_and(drain>65,lons>210),lons<280),lats>-77),69,drain)\n",
    "\n",
    "#Split Pens\n",
    "drain = np.where(np.logical_and(np.logical_and(np.logical_and(drain==66,lons>292),lons<310),lats>-70),70,drain)\n",
    "drain = np.where(np.logical_and(np.logical_and(np.logical_and(drain==66,lons>292),lons<295),lats>-74),70,drain)\n",
    "drain = np.where(np.logical_and(np.logical_and(np.logical_and(np.logical_and(drain==66,lons>280),lons<293),lats<-72),lats>-74),70,drain)\n",
    "\n",
    "#Add to Amun\n",
    "drain = np.where(np.logical_and(np.logical_and(np.logical_and(drain==66,lons>280),lons<295),lats>-72),69,drain)"
   ]
  },
  {
   "cell_type": "code",
   "execution_count": null,
   "metadata": {},
   "outputs": [],
   "source": [
    "#Remove old mask\n",
    "calv = np.where(calv==66,-1,calv)\n",
    "\n",
    "#Amun\n",
    "calv = np.where(np.logical_and(np.logical_and(np.logical_and(drain<0,lons>210),lons<270),lats<-72),69,calv)\n",
    "\n",
    "#Ross\n",
    "calv = np.where(np.logical_and(np.logical_and(np.logical_and(drain<0,lons>150),lons<210),lats<-72),67,calv)\n",
    "calv = np.where(np.logical_and(np.logical_and(np.logical_and(drain<0,lons>120),lons<180),lats<-69),67,calv)\n",
    "calv = np.where(np.logical_and(np.logical_and(np.logical_and(drain<0,lons>120),lons<170),lats<-67),67,calv)\n",
    "\n",
    "#EAIS\n",
    "calv = np.where(np.logical_and(np.logical_and(np.logical_and(drain<0,lons<150),lons>42),lats<-64),68,calv)\n",
    "calv = np.where(np.logical_and(np.logical_and(np.logical_and(drain<0,lons>10),lons<42),lats<-66),68,calv)\n",
    "calv = np.where(np.logical_and(np.logical_and(drain<0,lons<42),lats<-67),68,calv)\n",
    "calv = np.where(np.logical_and(np.logical_and(np.logical_and(drain<0,lons>330),lats>-72),lats<-68),68,calv)\n",
    "\n",
    "#Weddell\n",
    "calv = np.where(np.logical_and(np.logical_and(np.logical_and(np.logical_and(drain<0,calv<0),lons>295),lats<-68),lons<350),66,calv)\n",
    "calv = np.where(np.logical_and(np.logical_and(np.logical_and(np.logical_and(drain<0,calv<0),lons>310),lats<-58),lons<318),66,calv)\n",
    "calv = np.where(np.logical_and(np.logical_and(np.logical_and(np.logical_and(drain<0,calv<0),lons>305),lats<-65),lons<318),66,calv)\n",
    "\n",
    "#Pens\n",
    "calv = np.where(np.logical_and(np.logical_and(np.logical_and(np.logical_and(drain<0,calv<0),lons>302),lats<-58),lons<318),70,calv)\n",
    "calv = np.where(np.logical_and(np.logical_and(np.logical_and(np.logical_and(drain<0,calv<0),lons>300),lats<-62),lons<318),70,calv)"
   ]
  },
  {
   "cell_type": "code",
   "execution_count": null,
   "metadata": {},
   "outputs": [],
   "source": [
    "#Remove old mask\n",
    "arr = np.where(arr==66,-1,arr)\n",
    "\n",
    "#Amun\n",
    "arr = np.where(np.logical_and(np.logical_and(np.logical_and(drain<0,lons>225),lons<270),lats<-72),69,arr)\n",
    "arr = np.where(np.logical_and(np.logical_and(np.logical_and(drain<0,lons>252),lons<275),lats<-71),69,arr)\n",
    "\n",
    "#Ross\n",
    "arr = np.where(np.logical_and(np.logical_and(np.logical_and(drain<0,lons>150),lons<190),lats<-76),67,arr)\n",
    "\n",
    "#EAIS\n",
    "arr = np.where(np.logical_and(np.logical_and(np.logical_and(drain<0,lons<140),lons>80),lats<-64.5),68,arr)\n",
    "arr = np.where(np.logical_and(np.logical_and(np.logical_and(drain<0,lons<80),lons>75),lats<-66),68,arr)\n",
    "arr = np.where(np.logical_and(np.logical_and(np.logical_and(drain<0,lons<75),lons>70),lats<-67),68,arr)\n",
    "arr = np.where(np.logical_and(np.logical_and(np.logical_and(drain<0,lons<150),lons>140),lats<-65),68,arr)\n",
    "\n",
    "#Wedd\n",
    "arr = np.where(np.logical_and(np.logical_and(np.logical_and(drain<0,lons>295),lats<-75.5),lons<350),66,arr)\n",
    "arr = np.where(np.logical_and(np.logical_and(np.logical_and(drain<0,lons>295),lats<-74.5),lons<310),66,arr)\n",
    "\n",
    "#Pens\n",
    "arr = np.where(np.logical_and(np.logical_and(np.logical_and(np.logical_and(drain<0,lons>298),lats<-64.5),lons<304),lats>-70),70,arr)\n",
    "arr = np.where(np.logical_and(np.logical_and(np.logical_and(np.logical_and(drain<0,lons>278),lats<-70),lons<298),lats>-75),70,arr)"
   ]
  },
  {
   "cell_type": "code",
   "execution_count": null,
   "metadata": {},
   "outputs": [],
   "source": [
    "fig = fig = plt.figure(figsize=(15,5))\n",
    "ax = fig.add_subplot(131,projection=proj)\n",
    "im = ax.pcolormesh(lon,lat[:45],drain[:45,:],shading='auto',cmap=cmap,transform=ccrs.PlateCarree(),vmin=65.5,vmax=75.5)\n",
    "ax.coastlines(lw=.1)\n",
    "ax.set_title('catchment')\n",
    "\n",
    "ax = fig.add_subplot(132,projection=proj)\n",
    "im = ax.pcolormesh(lon,lat[:45],calv[:45,:],shading='auto',cmap=cmap,transform=ccrs.PlateCarree(),vmin=65.5,vmax=75.5)\n",
    "ax.coastlines(lw=.1)\n",
    "ax.set_title('calving')\n",
    "\n",
    "ax = fig.add_subplot(133,projection=proj)\n",
    "im = ax.pcolormesh(lon,lat[:45],arr[:45,:],shading='auto',cmap=cmap,transform=ccrs.PlateCarree(),vmin=65.5,vmax=75.5)\n",
    "ax.coastlines(lw=.1)\n",
    "ax.set_title('runoff')\n",
    "plt.savefig(f'../figures/masks_new.png',dpi=450)\n",
    "plt.show()"
   ]
  },
  {
   "cell_type": "code",
   "execution_count": null,
   "metadata": {},
   "outputs": [],
   "source": []
  }
 ],
 "metadata": {
  "kernelspec": {
   "display_name": "Python 3",
   "language": "python",
   "name": "python3"
  },
  "language_info": {
   "codemirror_mode": {
    "name": "ipython",
    "version": 3
   },
   "file_extension": ".py",
   "mimetype": "text/x-python",
   "name": "python",
   "nbconvert_exporter": "python",
   "pygments_lexer": "ipython3",
   "version": "3.9.2"
  }
 },
 "nbformat": 4,
 "nbformat_minor": 4
}
